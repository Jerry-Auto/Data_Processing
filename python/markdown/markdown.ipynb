{
 "cells": [
  {
   "cell_type": "markdown",
   "id": "bd03045b",
   "metadata": {},
   "source": [
    "$123$  \n",
    "$一二三$"
   ]
  },
  {
   "cell_type": "markdown",
   "id": "4d46f45a",
   "metadata": {},
   "source": [
    "$x$  \n",
    "$y$  \n",
    "$\\text{sin}x$  \n"
   ]
  },
  {
   "cell_type": "markdown",
   "id": "ae9a5600",
   "metadata": {},
   "source": [
    "$a+b$  \n",
    "$a-b$  \n",
    "$a \\times b$  \n",
    "$a \\div b$  "
   ]
  },
  {
   "cell_type": "markdown",
   "id": "55f749f5",
   "metadata": {},
   "source": [
    "$a=b$  \n",
    "$a \\neq b$  \n",
    "$a > b$   \n",
    "$a < b$  \n",
    "$a \\geq b$  \n",
    "$a \\leq b$  \n"
   ]
  },
  {
   "cell_type": "markdown",
   "id": "598a71c4",
   "metadata": {},
   "source": [
    "$a \\pm b$  \n",
    "$a \\mp b$  \n",
    "$a \\cdot b$  "
   ]
  },
  {
   "cell_type": "markdown",
   "id": "77b4077f",
   "metadata": {},
   "source": [
    "$x^2$  \n",
    "$x^{10}$  \n",
    "$e^{x+y}$  "
   ]
  },
  {
   "cell_type": "markdown",
   "id": "2c1255a7",
   "metadata": {},
   "source": [
    "$x_2$  \n",
    "$x_{10}$  \n",
    "$e_{x+y}$  "
   ]
  },
  {
   "cell_type": "markdown",
   "id": "efea07f1",
   "metadata": {},
   "source": [
    "$\\frac{1}{2}$  \n",
    "$\\frac{a+b}{c-d}$  "
   ]
  },
  {
   "cell_type": "markdown",
   "id": "813ea60b",
   "metadata": {},
   "source": [
    "$(a+b)/(c-d)$  "
   ]
  },
  {
   "cell_type": "markdown",
   "id": "710ec944",
   "metadata": {},
   "source": [
    "$\\sqrt{2}$  \n",
    "$\\sqrt{x+y}$  "
   ]
  },
  {
   "cell_type": "markdown",
   "id": "77d8fa6e",
   "metadata": {},
   "source": [
    "$\\sqrt[3]{8}$  \n",
    "$\\sqrt[4]{x^2+y^2}$  "
   ]
  },
  {
   "cell_type": "markdown",
   "id": "43d08d90",
   "metadata": {},
   "source": [
    "$\\sqrt{\\sqrt{2}}$  \n",
    "$\\sqrt[3]{\\sqrt{2}}$  "
   ]
  },
  {
   "cell_type": "markdown",
   "id": "178ede1a",
   "metadata": {},
   "source": [
    "$x^{-1}$  \n",
    "​$a^{-2b}$  "
   ]
  },
  {
   "cell_type": "markdown",
   "id": "d4173ad7",
   "metadata": {},
   "source": [
    "$x^{1/2}$  \n",
    "$x^{(a+b)/c}$  "
   ]
  },
  {
   "cell_type": "markdown",
   "id": "28798453",
   "metadata": {},
   "source": [
    "$e^x$  \n",
    "$10^6$  \n",
    "$1 \\times 10^6$  "
   ]
  },
  {
   "cell_type": "markdown",
   "id": "38a44f72",
   "metadata": {},
   "source": [
    "$\\sum_{n=1}^5 n$  \n",
    "$\\sum_{i=1}^\\infty \\frac{1}{i^2}$  "
   ]
  },
  {
   "cell_type": "markdown",
   "id": "999d9206",
   "metadata": {},
   "source": [
    "$\\sum\\limits_{n=1}^{100}(2n-1)$  "
   ]
  },
  {
   "cell_type": "markdown",
   "id": "b86b6ec7",
   "metadata": {},
   "source": [
    "$\\int x^2 dx$   不定积分  \n",
    "$\\int_0^1 x^2 dx$   定积分  \n",
    "$\\iint_D f(x,y) dxdy$   二重积分  \n",
    "$\\iiint_V f(x,y,z) dxdydz$   三重积分  "
   ]
  },
  {
   "cell_type": "markdown",
   "id": "4024bf9d",
   "metadata": {},
   "source": [
    "$\\int_{-\\infty}^{+\\infty} e^{-x^2} dx$   反常积分（无穷积分）  \n",
    "$\\oint_C Pdx + Qdy$   线积分  "
   ]
  },
  {
   "cell_type": "markdown",
   "id": "65010af3",
   "metadata": {},
   "source": [
    "$\\begin{matrix} 1 & 2 \\\\ 3 & 4 \\end{matrix}$  "
   ]
  },
  {
   "cell_type": "markdown",
   "id": "e458179b",
   "metadata": {},
   "source": [
    "$\\begin{pmatrix} 1 & 2 \\\\ 3 & 4 \\end{pmatrix}$  圆括号  \n",
    "$\\begin{bmatrix} 1 & 2 \\\\ 3 & 4 \\end{bmatrix}$  方括号  \n",
    "$\\begin{vmatrix} 1 & 2 & 3 \\\\ 4 & 5 & 6 \\end{vmatrix}$  竖线（增广矩阵）  \n"
   ]
  },
  {
   "cell_type": "markdown",
   "id": "d1155274",
   "metadata": {},
   "source": [
    "括号加大  \n",
    "$\\big( \\quad \\Big( \\quad \\bigg( \\quad \\Bigg($  \n",
    "其他括号  \n",
    "$\\{ \\quad \\}$  \n",
    "$\\| \\quad \\|$  \n",
    "$\\langle \\quad \\rangle$  \n",
    "矩阵范数  \n",
    "$\\begin{Vmatrix} \\quad \\end{Vmatrix}$  \n",
    "二项式  \n",
    "$\\binom{n}{k}$\n"
   ]
  },
  {
   "cell_type": "markdown",
   "id": "1d25c189",
   "metadata": {},
   "source": [
    "$\\begin{pmatrix} 1 & 2 & 3 \\end{pmatrix}$   行矩阵  \n",
    "​$\\begin{pmatrix} 1 \\\\ 2 \\\\ 3 \\end{pmatrix}$  列矩阵  \n",
    "$\\mathbf{0}$    零矩阵  \n"
   ]
  },
  {
   "cell_type": "markdown",
   "id": "f65f6c90",
   "metadata": {},
   "source": [
    "$\\begin{vmatrix} 1 & 2 \\\\ 3 & 4 \\end{vmatrix}$  \n",
    "$\\begin{vmatrix} 1 & 2 & 3 \\\\ 4 & 5 & 6 \\\\ 7 & 8 & 9 \\end{vmatrix}$  \n",
    "$\\begin{vmatrix} 1 & 2 \\\\ 3 & 4 \\end{vmatrix} = 1 \\times 4 - 2 \\times 3 = -2$  \n"
   ]
  },
  {
   "cell_type": "markdown",
   "id": "9527bee6",
   "metadata": {},
   "source": [
    "$\\sin x$  \n",
    "$\\cos x$  \n",
    "$\\tan x$  \n",
    "$\\cot x$  \n",
    "$\\sec x$  \n",
    "$\\csc x$  \n",
    "$\\arcsin x$  \n",
    "$\\arccos x$  \n",
    "$\\arctan x$  \n"
   ]
  },
  {
   "cell_type": "markdown",
   "id": "3e9253de",
   "metadata": {},
   "source": [
    "$\\log x$  \n",
    "$\\ln x$  \n",
    "$\\log_{10} x$  \n"
   ]
  },
  {
   "cell_type": "markdown",
   "id": "15dfc725",
   "metadata": {},
   "source": [
    "$e^x$  \n",
    "$\\exp(x)$  \n"
   ]
  },
  {
   "cell_type": "markdown",
   "id": "4242804f",
   "metadata": {},
   "source": [
    "希腊字母  \n",
    "$\\alpha$  $\\beta$  $\\gamma$  $\\delta$  $\\epsilon$  $\\zeta$  $\\eta$  $\\theta$  $\\iota$  $\\kappa$  \n",
    "$\\lambda$  $\\mu$  $\\nu$  $\\xi$  $\\omicron$  $\\pi$  $\\rho$  $\\sigma$  $\\tau$  $\\upsilon$  \n",
    "$\\phi$  $\\chi$  $\\psi$  $\\omega$  $\\Alpha$  $\\Beta$  $\\Gamma$  $\\Delta$  $\\Epsilon$  $\\Zeta$  \n",
    "$\\Eta$  $\\Theta$  $\\Iota$  $\\Kappa$  $\\Lambda$  $\\Mu$  $\\Nu$  $\\Xi$  $\\Omicron$  $\\Pi$  \n",
    "$\\Rho$  $\\Sigma$  $\\Tau$  $\\Upsilon$  $\\Phi$  $\\Chi$  $\\Psi$  $\\Omega$  $\\varepsilon$  $\\vartheta$  \n",
    "$\\varpi$  $\\varrho$  $\\varsigma$  $\\varphi$\n"
   ]
  },
  {
   "cell_type": "markdown",
   "id": "c85955c5",
   "metadata": {},
   "source": [
    "箭头符号  \n",
    "$\\leftarrow$  $\\rightarrow$  $\\uparrow$  $\\downarrow$  $\\leftrightarrow$  $\\updownarrow$  $\\Leftarrow$  $\\Rightarrow$  $\\Uparrow$  $\\Downarrow$  \n",
    "$\\Leftrightarrow$  $\\Updownarrow$  $\\longleftarrow$  $\\longrightarrow$  $\\longleftrightarrow$  $\\Longleftarrow$  $\\Longrightarrow$  $\\Longleftrightarrow$  $\\mapsto$  $\\leftharpoonup$  \n",
    "$\\leftharpoondown$  $\\rightharpoonup$  $\\rightharpoondown$  $\\rightleftharpoons$  $\\leq$  $\\geq$  $\\ll$  $\\gg$  $\\prec$  $\\succ$  \n",
    "$\\subseteq$  $\\supseteq$  $\\in$  $\\ni$"
   ]
  },
  {
   "cell_type": "markdown",
   "id": "41c7bd61",
   "metadata": {},
   "source": [
    "$\\land$  \n",
    "$\\lor$  \n",
    "$\\neg$  \n",
    "$\\implies$  \n",
    "$\\iff$  \n",
    "$\\forall$  \n",
    "$\\exists$  \n"
   ]
  },
  {
   "cell_type": "markdown",
   "id": "dc8d3668",
   "metadata": {},
   "source": [
    "$\\in$   属于  \n",
    "$\\notin$    不属于  \n",
    "$\\subset$   子集  \n",
    "$\\supset$   超集  \n",
    "$\\subseteq$ 子集或等于  \n",
    "$\\supseteq$ 超集或等于  \n",
    "$\\cap$  交集  \n",
    "$\\cup$  并集   \n",
    "$\\emptyset$ 空集  "
   ]
  },
  {
   "cell_type": "markdown",
   "id": "d74eb921",
   "metadata": {},
   "source": [
    "$\\mathbb{N}$    自然数集  \n",
    "$\\mathbb{Z}$    整数集   \n",
    "$\\mathbb{Q}$    有理数集  \n",
    "$\\mathbb{R}$    实数集  \n",
    "$\\mathbb{C}$    复数集  \n"
   ]
  },
  {
   "cell_type": "markdown",
   "id": "5c061ecb",
   "metadata": {},
   "source": [
    "$\\left( \\frac{a+b}{c-d} \\right)$\n"
   ]
  },
  {
   "cell_type": "markdown",
   "id": "535efb3b",
   "metadata": {},
   "source": [
    "$\\left( x \\right)$  圆括号  \n",
    "$\\left[ x \\right]$  方括号  \n",
    "$\\left\\{ x \\right\\}$    花括号  \n",
    "（注意花括号需用 \\{ 和 \\}，避免与语法符号冲突)  \n",
    "$\\left| x \\right|$    竖线  \n"
   ]
  },
  {
   "cell_type": "markdown",
   "id": "533c299d",
   "metadata": {},
   "source": [
    "$\\left( \\frac{x^2}{y} \\right|$  \n",
    "$\\left. \\frac{dy}{dx} \\right|_{x=1}$  \n",
    "$\\frac{\\partial y}{\\partial x}$  "
   ]
  },
  {
   "cell_type": "markdown",
   "id": "c93ed38b",
   "metadata": {},
   "source": [
    "$$\n",
    "\\begin{align*}\n",
    "2x + 3y &= 7 \\\\\n",
    "5x - y &= 3\n",
    "\\end{align*}\n",
    "$$\n",
    "\n",
    "$$\n",
    "\\begin{align*}\n",
    "(a + b)^2 &= a^2 + 2ab + b^2 \\\\\n",
    "&= a^2 + b^2 + 2ab \\\\\n",
    "&\\geq 2ab + 2ab = 4ab \\quad (\\text{当且仅当} \\ a=b \\ \\text{时取等号})\n",
    "\\end{align*}\n",
    "$$\n"
   ]
  },
  {
   "cell_type": "markdown",
   "id": "fbe765ea",
   "metadata": {},
   "source": [
    "$$\n",
    "\\begin{equation}\n",
    "\\int_{-\\infty}^{+\\infty} e^{-x^2} dx = \\sqrt{\\pi}\n",
    "\\end{equation}\n",
    "$$\n",
    "\n",
    "$$\n",
    "E=mc^2 \\tag{质能方程}\n",
    "$$"
   ]
  },
  {
   "cell_type": "markdown",
   "id": "e122c4a0",
   "metadata": {},
   "source": [
    "$$\n",
    "f(x) = \\begin{cases} x & \\text{当} \\ x \\geq 0 \\\\ -x & \\text{当} \\ x < 0 \\end{cases}\n",
    "$$\n"
   ]
  },
  {
   "cell_type": "markdown",
   "id": "11486dde",
   "metadata": {},
   "source": [
    "$\\int_0^1 x^2 dx = \\frac{1}{3} \\quad \\text{（定积分计算结果）}$\n"
   ]
  },
  {
   "cell_type": "markdown",
   "id": "9976a0e5",
   "metadata": {},
   "source": [
    "调整求和符号大小：$\\Huge{\\sum}_{n=1}^\\infty \\frac{1}{n}$  \n",
    "调整分式大小：$\\large{\\frac{a+b}{c-d}}$  \n"
   ]
  },
  {
   "cell_type": "markdown",
   "id": "c809df8f",
   "metadata": {},
   "source": [
    "$\\Large{\\sum_{n=1}^\\infty \\frac{1}{n}}$\n"
   ]
  },
  {
   "cell_type": "markdown",
   "id": "1354135d",
   "metadata": {},
   "source": [
    "$\n",
    "\\prod_{i=0}^n x_i\n",
    "$\n",
    "\n",
    "$\n",
    "\\prod\\limits_{i=0}^n x_i\n",
    "$\n"
   ]
  },
  {
   "cell_type": "markdown",
   "id": "88850a44",
   "metadata": {},
   "source": [
    "$\\widetilde{y}$  \n",
    "$y\\tilde{}$"
   ]
  },
  {
   "cell_type": "markdown",
   "id": "f1a50ce2",
   "metadata": {},
   "source": [
    "$\\hat{y}$"
   ]
  },
  {
   "cell_type": "markdown",
   "id": "f267bad5",
   "metadata": {},
   "source": [
    "$\\left. \\frac{dz}{dx} \\right|_{y}=\\left. \\frac{\\partial h}{\\partial x} \\right.$  "
   ]
  },
  {
   "cell_type": "markdown",
   "id": "fb2e0bc7",
   "metadata": {},
   "source": []
  }
 ],
 "metadata": {
  "kernelspec": {
   "display_name": "pytorch",
   "language": "python",
   "name": "python3"
  },
  "language_info": {
   "codemirror_mode": {
    "name": "ipython",
    "version": 3
   },
   "file_extension": ".py",
   "mimetype": "text/x-python",
   "name": "python",
   "nbconvert_exporter": "python",
   "pygments_lexer": "ipython3",
   "version": "3.10.18"
  }
 },
 "nbformat": 4,
 "nbformat_minor": 5
}
