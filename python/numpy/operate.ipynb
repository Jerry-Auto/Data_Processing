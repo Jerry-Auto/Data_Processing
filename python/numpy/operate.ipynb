{
 "cells": [
  {
   "cell_type": "markdown",
   "id": "e404fdc4",
   "metadata": {},
   "source": [
    "介绍numpy的一些操作"
   ]
  },
  {
   "cell_type": "code",
   "execution_count": 1,
   "id": "d7124ca2",
   "metadata": {},
   "outputs": [
    {
     "name": "stdout",
     "output_type": "stream",
     "text": [
      "[[ 3  4  5  6]\n",
      " [ 7  8  9 10]\n",
      " [11 12 13 14]]\n",
      "索引\n",
      "14\n",
      "14\n",
      "[ 8  9 10]\n",
      "遍历输出列\n",
      "[ 3  7 11]\n",
      "[ 4  8 12]\n",
      "[ 5  9 13]\n",
      "[ 6 10 14]\n"
     ]
    }
   ],
   "source": [
    "import numpy as np \n",
    "A=np.arange(3,15).reshape(3,4)\n",
    "print(A)\n",
    "print(\"索引\")\n",
    "print(A[2][3])\n",
    "print(A[2,3])\n",
    "print(A[1,1:])\n",
    "print(\"遍历输出列\")\n",
    "for column in A.T:\n",
    "    print(column)"
   ]
  },
  {
   "cell_type": "code",
   "execution_count": 2,
   "id": "dd92792a",
   "metadata": {},
   "outputs": [
    {
     "name": "stdout",
     "output_type": "stream",
     "text": [
      "遍历输出元素\n",
      "[ 3  4  5  6  7  8  9 10 11 12 13 14]\n",
      "3\n",
      "4\n",
      "5\n",
      "6\n",
      "7\n",
      "8\n",
      "9\n",
      "10\n",
      "11\n",
      "12\n",
      "13\n",
      "14\n"
     ]
    }
   ],
   "source": [
    "print(\"遍历输出元素\")\n",
    "print(A.flatten())\n",
    "for item in A.flat:\n",
    "    print(item)#item是地址，即迭代器"
   ]
  },
  {
   "cell_type": "code",
   "execution_count": 3,
   "id": "1064962f",
   "metadata": {},
   "outputs": [
    {
     "name": "stdout",
     "output_type": "stream",
     "text": [
      "矩阵A:[1 1 1],矩阵B:[2 2 2],shape:(3,),(3,)\n"
     ]
    }
   ],
   "source": [
    "A=np.array([1,1,1])\n",
    "B=np.array([2,2,2])\n",
    "print(f\"矩阵A:{A},矩阵B:{B},shape:{A.shape},{B.shape}\")"
   ]
  },
  {
   "cell_type": "code",
   "execution_count": 4,
   "id": "d8de86f4",
   "metadata": {},
   "outputs": [
    {
     "name": "stdout",
     "output_type": "stream",
     "text": [
      "上下堆叠矩阵C:[[1 1 1]\n",
      " [2 2 2]],左右堆叠矩阵D:[1 1 1 2 2 2]\n",
      "堆叠之后的shape:(2, 3),(6,)\n"
     ]
    }
   ],
   "source": [
    "C=np.vstack((A,B))\n",
    "D=np.hstack((A,B))\n",
    "print(f\"上下堆叠矩阵C:{C},左右堆叠矩阵D:{D}\")\n",
    "print(f\"堆叠之后的shape:{C.shape},{D.shape}\")"
   ]
  },
  {
   "cell_type": "code",
   "execution_count": 5,
   "id": "fa4d0511",
   "metadata": {},
   "outputs": [
    {
     "name": "stdout",
     "output_type": "stream",
     "text": [
      "矩阵A:[1 1 1],矩阵B:[2 2 2]\n",
      "加入轴之前的shape:(3,),(3,)\n",
      "矩阵A:[[1 1 1]],矩阵B:[[2 2 2]]\n",
      "加入轴之后的shape:(1, 3),(1, 3)\n"
     ]
    }
   ],
   "source": [
    "print(f\"矩阵A:{A},矩阵B:{B}\")\n",
    "print(f\"加入轴之前的shape:{A.shape},{B.shape}\")\n",
    "A=A[np.newaxis,:]#加到第一个维度前面\n",
    "B=B[np.newaxis,:]#加到第一个维度前面\n",
    "print(f\"矩阵A:{A},矩阵B:{B}\")\n",
    "print(f\"加入轴之后的shape:{A.shape},{B.shape}\")"
   ]
  },
  {
   "cell_type": "code",
   "execution_count": 6,
   "id": "ed71770c",
   "metadata": {},
   "outputs": [
    {
     "name": "stdout",
     "output_type": "stream",
     "text": [
      "矩阵A:[[[1]\n",
      "  [1]\n",
      "  [1]]],矩阵B:[[[2 2 2]]]\n",
      "加入轴之后的shape:(1, 3, 1),(1, 1, 3)\n",
      "AB上下堆叠成的矩阵E:[[1 1 1]\n",
      " [2 2 2]],shape:(2, 3)\n"
     ]
    }
   ],
   "source": [
    "E=np.vstack((A,B))\n",
    "A=A[:,:,np.newaxis]#保留前两个维度，加到最后一个维度后面\n",
    "B=B[:,np.newaxis]#加到了第二个维度\n",
    "print(f\"矩阵A:{A},矩阵B:{B}\")\n",
    "print(f\"加入轴之后的shape:{A.shape},{B.shape}\")\n",
    "print(f\"AB上下堆叠成的矩阵E:{E},shape:{E.shape}\")"
   ]
  },
  {
   "cell_type": "markdown",
   "id": "8217bf0f",
   "metadata": {},
   "source": [
    "三种堆叠方式  \n",
    "要求除连接轴外的其他轴形状相同,维度必须相同，不会增加维度  \n",
    "vstack只能在第一个维度上进行堆叠   \n",
    "hstack只能在第二个维度上进行堆叠  \n",
    "dstack深度堆叠只能在第三个维度上进行堆叠  "
   ]
  },
  {
   "cell_type": "code",
   "execution_count": 7,
   "id": "f1006dfb",
   "metadata": {},
   "outputs": [
    {
     "name": "stdout",
     "output_type": "stream",
     "text": [
      "矩阵F:[[ 5.  10.  12. ]\n",
      " [ 5.1  8.2  3. ]],shape:(2, 3)\n"
     ]
    }
   ],
   "source": [
    "F=np.array([\n",
    "    [5,10,12],\n",
    "    [5.1,8.2,3]\n",
    "    ])\n",
    "print(f\"矩阵F:{F},shape:{F.shape}\")"
   ]
  },
  {
   "cell_type": "code",
   "execution_count": 8,
   "id": "91c84647",
   "metadata": {},
   "outputs": [
    {
     "name": "stdout",
     "output_type": "stream",
     "text": [
      "EF上下堆叠成的矩阵G:[[ 1.   1.   1. ]\n",
      " [ 2.   2.   2. ]\n",
      " [ 5.  10.  12. ]\n",
      " [ 5.1  8.2  3. ]],shape:(4, 3)\n"
     ]
    }
   ],
   "source": [
    "#EF形状不一样就不能进行堆叠,如(2,3)和(3,3)\n",
    "G=np.vstack((E,F))\n",
    "print(f\"EF上下堆叠成的矩阵G:{G},shape:{G.shape}\")"
   ]
  },
  {
   "cell_type": "code",
   "execution_count": 9,
   "id": "492853fc",
   "metadata": {},
   "outputs": [
    {
     "name": "stdout",
     "output_type": "stream",
     "text": [
      "加入轴之后的矩阵G:[[[ 1.   1.   1. ]]\n",
      "\n",
      " [[ 2.   2.   2. ]]\n",
      "\n",
      " [[ 5.  10.  12. ]]\n",
      "\n",
      " [[ 5.1  8.2  3. ]]],shape:(4, 1, 3)\n"
     ]
    }
   ],
   "source": [
    "G=G[:,np.newaxis]#加到了第二个维度，等价于G=G[:,np.newaxis]\n",
    "print(f\"加入轴之后的矩阵G:{G},shape:{G.shape}\")"
   ]
  },
  {
   "cell_type": "code",
   "execution_count": 10,
   "id": "e57cfaca",
   "metadata": {},
   "outputs": [
    {
     "name": "stdout",
     "output_type": "stream",
     "text": [
      "加入轴之后的矩阵G:[[[[ 1.   1.   1. ]]]\n",
      "\n",
      "\n",
      " [[[ 2.   2.   2. ]]]\n",
      "\n",
      "\n",
      " [[[ 5.  10.  12. ]]]\n",
      "\n",
      "\n",
      " [[[ 5.1  8.2  3. ]]]],shape:(4, 1, 1, 3)\n"
     ]
    }
   ],
   "source": [
    "G=G[:,np.newaxis,:]\n",
    "print(f\"加入轴之后的矩阵G:{G},shape:{G.shape}\")"
   ]
  },
  {
   "cell_type": "code",
   "execution_count": 11,
   "id": "242cf43b",
   "metadata": {},
   "outputs": [
    {
     "name": "stdout",
     "output_type": "stream",
     "text": [
      "EF左右堆叠成的矩阵H:[[ 1.   1.   1.   5.  10.  12. ]\n",
      " [ 2.   2.   2.   5.1  8.2  3. ]],shape:(2, 6)\n"
     ]
    }
   ],
   "source": [
    "H=np.hstack((E,F))\n",
    "print(f\"EF左右堆叠成的矩阵H:{H},shape:{H.shape}\")"
   ]
  },
  {
   "cell_type": "code",
   "execution_count": 12,
   "id": "f692b9ff",
   "metadata": {},
   "outputs": [
    {
     "name": "stdout",
     "output_type": "stream",
     "text": [
      "加入轴之后的矩阵H:[[[ 1.   1.   1.   5.  10.  12. ]]\n",
      "\n",
      " [[ 2.   2.   2.   5.1  8.2  3. ]]],shape:(2, 1, 6)\n"
     ]
    }
   ],
   "source": [
    "H=H[:,np.newaxis]#加到了第二个维度\n",
    "print(f\"加入轴之后的矩阵H:{H},shape:{H.shape}\")"
   ]
  },
  {
   "cell_type": "code",
   "execution_count": 13,
   "id": "1ad3cf93",
   "metadata": {},
   "outputs": [
    {
     "name": "stdout",
     "output_type": "stream",
     "text": [
      "H,H左右堆叠成的矩阵H:[[[ 1.   1.   1.   5.  10.  12. ]\n",
      "  [ 1.   1.   1.   5.  10.  12. ]]\n",
      "\n",
      " [[ 2.   2.   2.   5.1  8.2  3. ]\n",
      "  [ 2.   2.   2.   5.1  8.2  3. ]]],shape:(2, 2, 6)\n"
     ]
    }
   ],
   "source": [
    "H=np.hstack((H,H))\n",
    "print(f\"H,H左右堆叠成的矩阵H:{H},shape:{H.shape}\")"
   ]
  },
  {
   "cell_type": "code",
   "execution_count": 14,
   "id": "7a49a718",
   "metadata": {},
   "outputs": [
    {
     "name": "stdout",
     "output_type": "stream",
     "text": [
      "加入轴之后的矩阵H:[[[[ 1.   1.   1.   5.  10.  12. ]]\n",
      "\n",
      "  [[ 1.   1.   1.   5.  10.  12. ]]]\n",
      "\n",
      "\n",
      " [[[ 2.   2.   2.   5.1  8.2  3. ]]\n",
      "\n",
      "  [[ 2.   2.   2.   5.1  8.2  3. ]]]],shape:(2, 2, 1, 6)\n"
     ]
    }
   ],
   "source": [
    "H=H[:,:,np.newaxis]#加到了第三个维度\n",
    "print(f\"加入轴之后的矩阵H:{H},shape:{H.shape}\")"
   ]
  },
  {
   "cell_type": "code",
   "execution_count": 15,
   "id": "381d2312",
   "metadata": {},
   "outputs": [
    {
     "name": "stdout",
     "output_type": "stream",
     "text": [
      "H,H左右堆叠成的矩阵H:[[[[ 1.   1.   1.   5.  10.  12. ]]\n",
      "\n",
      "  [[ 1.   1.   1.   5.  10.  12. ]]\n",
      "\n",
      "  [[ 1.   1.   1.   5.  10.  12. ]]\n",
      "\n",
      "  [[ 1.   1.   1.   5.  10.  12. ]]]\n",
      "\n",
      "\n",
      " [[[ 2.   2.   2.   5.1  8.2  3. ]]\n",
      "\n",
      "  [[ 2.   2.   2.   5.1  8.2  3. ]]\n",
      "\n",
      "  [[ 2.   2.   2.   5.1  8.2  3. ]]\n",
      "\n",
      "  [[ 2.   2.   2.   5.1  8.2  3. ]]]],shape:(2, 4, 1, 6)\n"
     ]
    }
   ],
   "source": [
    "H=np.hstack((H,H))\n",
    "print(f\"H,H左右堆叠成的矩阵H:{H},shape:{H.shape}\")"
   ]
  },
  {
   "cell_type": "markdown",
   "id": "c96a10dc",
   "metadata": {},
   "source": [
    "能够对张量在指定轴上进行堆叠的的方法concatenate"
   ]
  },
  {
   "cell_type": "code",
   "execution_count": 16,
   "id": "8b98ab97",
   "metadata": {},
   "outputs": [
    {
     "name": "stdout",
     "output_type": "stream",
     "text": [
      "矩阵first:[[[ 5.  10.  12. ]\n",
      "  [ 5.1  8.2  3. ]\n",
      "  [ 5.1  8.2  3. ]]],\n",
      "矩阵second:[[[ 5.  10.  12. ]\n",
      "  [ 5.1  8.2  3. ]]],\n",
      "shape:(1, 3, 3),(1, 2, 3)\n"
     ]
    }
   ],
   "source": [
    "first=np.array([\n",
    "    [5,10,12],\n",
    "    [5.1,8.2,3],\n",
    "    [5.1,8.2,3]\n",
    "    ])\n",
    "second=np.array([\n",
    "    [5,10,12],\n",
    "    [5.1,8.2,3]\n",
    "    ])\n",
    "first=first[np.newaxis,:]\n",
    "second=second[np.newaxis,:]\n",
    "print(f\"矩阵first:{first},\\n矩阵second:{second},\\nshape:{first.shape},{second.shape}\")"
   ]
  },
  {
   "cell_type": "code",
   "execution_count": 17,
   "id": "d4426a22",
   "metadata": {},
   "outputs": [
    {
     "name": "stdout",
     "output_type": "stream",
     "text": [
      "沿着轴1进行堆叠,得到矩阵A_axis:[[[ 5.  10.  12. ]\n",
      "  [ 5.1  8.2  3. ]\n",
      "  [ 5.1  8.2  3. ]\n",
      "  [ 5.  10.  12. ]\n",
      "  [ 5.1  8.2  3. ]\n",
      "  [ 5.  10.  12. ]\n",
      "  [ 5.1  8.2  3. ]\n",
      "  [ 5.1  8.2  3. ]\n",
      "  [ 5.  10.  12. ]\n",
      "  [ 5.1  8.2  3. ]]],shape:(1, 10, 3)\n"
     ]
    }
   ],
   "source": [
    "A_axis=np.concatenate((first,second,first,second),axis=1)\n",
    "print(f\"沿着轴1进行堆叠,得到矩阵A_axis:{A_axis},shape:{A_axis.shape}\")"
   ]
  },
  {
   "cell_type": "markdown",
   "id": "7075b450",
   "metadata": {},
   "source": [
    "stack操作  \n",
    "增加一个维度，在新增的轴上进行堆叠，要求输入张量形状完全相同  \n",
    "numpy.stack(arrays, axis=0, out=None)  \n",
    "axis参数决定了堆叠的方向，对输出结果的结构有关键影响"
   ]
  },
  {
   "cell_type": "code",
   "execution_count": 18,
   "id": "1c330310",
   "metadata": {},
   "outputs": [
    {
     "name": "stdout",
     "output_type": "stream",
     "text": [
      "(2, 4, 2)\n",
      "[[[1 2]\n",
      "  [5 6]\n",
      "  [1 2]\n",
      "  [5 6]]\n",
      "\n",
      " [[3 4]\n",
      "  [7 8]\n",
      "  [3 4]\n",
      "  [7 8]]]\n"
     ]
    }
   ],
   "source": [
    "a = np.array([[1, 2], \n",
    "              [3, 4]])\n",
    "b = np.array([[5, 6], \n",
    "              [7, 8]])\n",
    "result_axis0 = np.stack((a,b,a,b), axis=1)\n",
    "print(result_axis0.shape) \n",
    "print(result_axis0)"
   ]
  },
  {
   "cell_type": "markdown",
   "id": "5f1d5826",
   "metadata": {},
   "source": [
    "<pre>分割操作 \n",
    "numpy.split(ary, indices_or_sections, axis=0)\n",
    "ary:要分割的输入数组.\n",
    "indices_or_sections:\n",
    "    如果是​​整数​​，表示​​均分成多少份​​（必须能整除）。\n",
    "    如果是​​列表/数组​​，表示​​沿轴分割的索引位置​​（如 [2, 5]表示在索引 2 和 5 处分割）.\n",
    "axis:指定分割的轴（默认 axis=0,即沿行分割）。多维数组分割要指定轴​​\n",
    "同样有vsplit、hsplit、dsplit，分别是沿着0,1,2轴进行分割\n",
    "array_split不均等分割，多余的依次从第0轴向后均分"
   ]
  },
  {
   "cell_type": "markdown",
   "id": "948b35a6",
   "metadata": {},
   "source": [
    "一维数组两种分割方式"
   ]
  },
  {
   "cell_type": "code",
   "execution_count": 19,
   "id": "a3db7c20",
   "metadata": {},
   "outputs": [
    {
     "name": "stdout",
     "output_type": "stream",
     "text": [
      "[array([0, 1, 2, 3, 4]), array([5, 6, 7, 8, 9])]\n",
      "[array([0, 1, 2]), array([3, 4, 5, 6]), array([7, 8, 9])]\n"
     ]
    }
   ],
   "source": [
    "arr = np.arange(10)  # [0 1 2 3 4 5 6 7 8 9]\n",
    "result = np.split(arr, 2)  # 分成2份\n",
    "print(result)  # [array([0, 1, 2, 3, 4]), array([5, 6, 7, 8, 9])]\n",
    "result = np.split(arr, [3, 7])  # 在索引3和7处分割\n",
    "print(result)  # [array([0, 1, 2]), array([3, 4, 5, 6]), array([7, 8, 9])]"
   ]
  },
  {
   "cell_type": "markdown",
   "id": "f815498a",
   "metadata": {},
   "source": [
    "多维数组分割"
   ]
  },
  {
   "cell_type": "code",
   "execution_count": 20,
   "id": "660a77a5",
   "metadata": {},
   "outputs": [
    {
     "name": "stdout",
     "output_type": "stream",
     "text": [
      "分割前:\n",
      "[[ 0  1  2  3]\n",
      " [ 4  5  6  7]\n",
      " [ 8  9 10 11]]\n",
      "分割后:\n",
      "矩阵一:\n",
      "[[0 1]\n",
      " [4 5]\n",
      " [8 9]]\n",
      "矩阵二:\n",
      "[[ 2  3]\n",
      " [ 6  7]\n",
      " [10 11]]\n"
     ]
    }
   ],
   "source": [
    "A=np.arange(12).reshape((3,4))\n",
    "B,C=np.split(A,2,axis=1)\n",
    "print(f\"分割前:\\n{A}\\n分割后:\\n矩阵一:\\n{B}\\n矩阵二:\\n{C}\")"
   ]
  },
  {
   "cell_type": "code",
   "execution_count": 21,
   "id": "6643bc11",
   "metadata": {},
   "outputs": [
    {
     "name": "stdout",
     "output_type": "stream",
     "text": [
      "分割前:\n",
      "[[ 0  1  2  3]\n",
      " [ 4  5  6  7]\n",
      " [ 8  9 10 11]]\n",
      "分割后:\n",
      "矩阵一:\n",
      "[[0 1]\n",
      " [4 5]\n",
      " [8 9]]\n",
      "矩阵二:\n",
      "[[ 2]\n",
      " [ 6]\n",
      " [10]]\n",
      "矩阵三:\n",
      "[[ 3]\n",
      " [ 7]\n",
      " [11]]\n"
     ]
    }
   ],
   "source": [
    "D,E,F=np.split(A,(2,3),axis=1)\n",
    "print(f\"分割前:\\n{A}\\n分割后:\\n矩阵一:\\n{D}\\n矩阵二:\\n{E}\\n矩阵三:\\n{F}\")"
   ]
  },
  {
   "cell_type": "markdown",
   "id": "54430bf2",
   "metadata": {},
   "source": [
    "其他分割方式  \n",
    "array_split  \n",
    "hsplit\n",
    "vsplit"
   ]
  },
  {
   "cell_type": "code",
   "execution_count": 22,
   "id": "726cbc97",
   "metadata": {},
   "outputs": [
    {
     "name": "stdout",
     "output_type": "stream",
     "text": [
      "分割前:\n",
      "[[ 0  1  2  3]\n",
      " [ 4  5  6  7]\n",
      " [ 8  9 10 11]]\n",
      "分割后:\n",
      "矩阵一:\n",
      "[[0 1]\n",
      " [4 5]\n",
      " [8 9]]\n",
      "矩阵二:\n",
      "[[ 2]\n",
      " [ 6]\n",
      " [10]]\n",
      "矩阵三:\n",
      "[[ 3]\n",
      " [ 7]\n",
      " [11]]\n"
     ]
    }
   ],
   "source": [
    "D,E,F=np.array_split(A,3,axis=1)\n",
    "print(f\"分割前:\\n{A}\\n分割后:\\n矩阵一:\\n{D}\\n矩阵二:\\n{E}\\n矩阵三:\\n{F}\")"
   ]
  },
  {
   "cell_type": "code",
   "execution_count": 23,
   "id": "13fe94c5",
   "metadata": {},
   "outputs": [
    {
     "name": "stdout",
     "output_type": "stream",
     "text": [
      "分割前:\n",
      "[[ 0  1  2  3]\n",
      " [ 4  5  6  7]\n",
      " [ 8  9 10 11]]\n",
      "分割后:\n",
      "矩阵一:\n",
      "[[0 1 2 3]]\n",
      "矩阵二:\n",
      "[[4 5 6 7]]\n",
      "矩阵三:\n",
      "[[ 8  9 10 11]]\n"
     ]
    }
   ],
   "source": [
    "D,E,F=np.vsplit(A,3)\n",
    "print(f\"分割前:\\n{A}\\n分割后:\\n矩阵一:\\n{D}\\n矩阵二:\\n{E}\\n矩阵三:\\n{F}\")"
   ]
  },
  {
   "cell_type": "code",
   "execution_count": 24,
   "id": "d9e51424",
   "metadata": {},
   "outputs": [
    {
     "name": "stdout",
     "output_type": "stream",
     "text": [
      "分割前:\n",
      "[[ 0  1  2  3]\n",
      " [ 4  5  6  7]\n",
      " [ 8  9 10 11]]\n",
      "分割后:\n",
      "矩阵一:\n",
      "[[0 1]\n",
      " [4 5]\n",
      " [8 9]]\n",
      "矩阵二:\n",
      "[[ 2  3]\n",
      " [ 6  7]\n",
      " [10 11]]\n"
     ]
    }
   ],
   "source": [
    "B,C=np.hsplit(A,2)\n",
    "print(f\"分割前:\\n{A}\\n分割后:\\n矩阵一:\\n{B}\\n矩阵二:\\n{C}\")"
   ]
  },
  {
   "cell_type": "code",
   "execution_count": 25,
   "id": "bd219df2",
   "metadata": {},
   "outputs": [
    {
     "name": "stdout",
     "output_type": "stream",
     "text": [
      "[array([0, 1, 2, 3]), array([4, 5, 6, 7]), array([ 8,  9, 10])]\n"
     ]
    }
   ],
   "source": [
    "arr = np.arange(11)\n",
    "result = np.array_split(arr, 3)  # 分成3份，允许不等长\n",
    "print(result)  #多余的依次从第0轴向后均分"
   ]
  },
  {
   "cell_type": "code",
   "execution_count": null,
   "id": "a955b091",
   "metadata": {},
   "outputs": [],
   "source": []
  }
 ],
 "metadata": {
  "kernelspec": {
   "display_name": "pytorch",
   "language": "python",
   "name": "python3"
  },
  "language_info": {
   "codemirror_mode": {
    "name": "ipython",
    "version": 3
   },
   "file_extension": ".py",
   "mimetype": "text/x-python",
   "name": "python",
   "nbconvert_exporter": "python",
   "pygments_lexer": "ipython3",
   "version": "3.10.18"
  }
 },
 "nbformat": 4,
 "nbformat_minor": 5
}
