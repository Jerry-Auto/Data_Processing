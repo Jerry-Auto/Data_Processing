{
 "cells": [
  {
   "cell_type": "markdown",
   "id": "637f7d7a",
   "metadata": {},
   "source": [
    "<pre>类别\t            常用函数\t                                主要用途  \n",
    "均匀分布\t            rand(), random_sample(), uniform()\t        生成指定范围内均匀分布的随机浮点数  \n",
    "正态分布\t            randn(), normal()\t                        生成符合正态（高斯）分布的随机数  \n",
    "离散随机整数\t    randint()\t                                生成指定范围内的离散均匀分布随机整数  \n",
    "随机抽样与排列\t    choice(), shuffle(), permutation()\t        从给定数组或序列中随机选择、打乱顺序  \n",
    "其他分布\t            poisson()\t                                生成符合其他特定概率分布的随机数  \n",
    "随机种子\t            seed(), RandomState()\t                控制随机数生成，确保结果可重现  "
   ]
  },
  {
   "cell_type": "markdown",
   "id": "59725ead",
   "metadata": {},
   "source": [
    "均匀分布函数示例"
   ]
  },
  {
   "cell_type": "code",
   "execution_count": 1,
   "id": "f94cea0f",
   "metadata": {},
   "outputs": [
    {
     "name": "stdout",
     "output_type": "stream",
     "text": [
      "=== 均匀分布函数示例 ===\n",
      "\n",
      "1. rand() 示例:\n",
      "rand(2,3):\n",
      "[[0.37454012 0.95071431 0.73199394]\n",
      " [0.59865848 0.15601864 0.15599452]]\n",
      "\n",
      "2. random_sample() 示例:\n",
      "random_sample((3,2)):\n",
      "[[0.05808361 0.86617615]\n",
      " [0.60111501 0.70807258]\n",
      " [0.02058449 0.96990985]]\n",
      "\n",
      "3. uniform() 示例:\n",
      "uniform(5,10,6): [9.1622132  6.06169555 5.90912484 5.91702255 6.52121121 7.62378216]\n"
     ]
    }
   ],
   "source": [
    "import numpy as np\n",
    "\n",
    "# 设置随机种子以便结果可重现\n",
    "np.random.seed(42)\n",
    "\n",
    "print(\"=== 均匀分布函数示例 ===\")\n",
    "\n",
    "# 1. rand() - 生成[0,1)均匀分布的数组\n",
    "print(\"\\n1. rand() 示例:\")\n",
    "rand_array = np.random.rand(2, 3)  # 2x3数组\n",
    "print(f\"rand(2,3):\\n{rand_array}\")\n",
    "\n",
    "# 2. random_sample() - 功能同rand()\n",
    "print(\"\\n2. random_sample() 示例:\")\n",
    "random_sample_array = np.random.random_sample((3, 2))  # 3x2数组\n",
    "print(f\"random_sample((3,2)):\\n{random_sample_array}\")\n",
    "\n",
    "# 3. uniform() - 指定范围的均匀分布\n",
    "print(\"\\n3. uniform() 示例:\")\n",
    "uniform_array = np.random.uniform(low=5, high=10, size=6)  # 6个在[5,10)的数\n",
    "print(f\"uniform(5,10,6): {uniform_array}\")"
   ]
  },
  {
   "cell_type": "markdown",
   "id": "fca142c1",
   "metadata": {},
   "source": [
    "正态分布函数示例"
   ]
  },
  {
   "cell_type": "code",
   "execution_count": 2,
   "id": "9c20b5b6",
   "metadata": {},
   "outputs": [
    {
     "name": "stdout",
     "output_type": "stream",
     "text": [
      "\n",
      "=== 正态分布函数示例 ===\n",
      "\n",
      "1. randn() 示例:\n",
      "randn(4): [-1.72491783 -0.56228753 -1.01283112  0.31424733]\n",
      "randn(2,3):\n",
      "[[-0.90802408 -1.4123037   1.46564877]\n",
      " [-0.2257763   0.0675282  -1.42474819]]\n",
      "\n",
      "2. normal() 示例:\n",
      "normal(50,10,5): [44.55617275 51.1092259  38.49006423 53.75698018 43.9936131 ]\n"
     ]
    }
   ],
   "source": [
    "print(\"\\n=== 正态分布函数示例 ===\")\n",
    "\n",
    "# 1. randn() - 标准正态分布\n",
    "print(\"\\n1. randn() 示例:\")\n",
    "randn_array = np.random.randn(4)  # 4个标准正态分布数\n",
    "print(f\"randn(4): {randn_array}\")\n",
    "\n",
    "# 2维数组示例\n",
    "randn_2d = np.random.randn(2, 3)\n",
    "print(f\"randn(2,3):\\n{randn_2d}\")\n",
    "\n",
    "# 2. normal() - 自定义参数的正态分布\n",
    "print(\"\\n2. normal() 示例:\")\n",
    "# 均值为50，标准差为10的正态分布\n",
    "normal_array = np.random.normal(loc=50, scale=10, size=5)\n",
    "print(f\"normal(50,10,5): {normal_array}\")"
   ]
  },
  {
   "cell_type": "markdown",
   "id": "64a29efb",
   "metadata": {},
   "source": [
    "离散随机整数示例"
   ]
  },
  {
   "cell_type": "code",
   "execution_count": 3,
   "id": "03703c39",
   "metadata": {},
   "outputs": [
    {
     "name": "stdout",
     "output_type": "stream",
     "text": [
      "\n",
      "=== 离散随机整数示例 ===\n",
      "1. 基本用法:\n",
      "randint(1,7,10): [4 4 4 4 5 3 6 1 4 2]\n",
      "\n",
      "2. 生成2D数组:\n",
      "randint(0,100,(3,4)):\n",
      "[[ 3  1  5 53]\n",
      " [ 3 53 92 62]\n",
      " [17 89 43 33]]\n",
      "\n",
      "3. 单个参数用法:\n",
      "randint(10, size=8): [9 3 7 6 8 7 4 1]\n"
     ]
    }
   ],
   "source": [
    "print(\"\\n=== 离散随机整数示例 ===\")\n",
    "\n",
    "# randint() 示例\n",
    "print(\"1. 基本用法:\")\n",
    "dice_rolls = np.random.randint(1, 7, size=10)  # 模拟10次掷骰子\n",
    "print(f\"randint(1,7,10): {dice_rolls}\")\n",
    "\n",
    "print(\"\\n2. 生成2D数组:\")\n",
    "matrix = np.random.randint(0, 100, size=(3, 4))  # 3x4矩阵，数值在[0,100)\n",
    "print(f\"randint(0,100,(3,4)):\\n{matrix}\")\n",
    "\n",
    "print(\"\\n3. 单个参数用法:\")\n",
    "single_param = np.random.randint(10, size=8)  # 8个[0,10)的随机整数\n",
    "print(f\"randint(10, size=8): {single_param}\")"
   ]
  },
  {
   "cell_type": "markdown",
   "id": "0a0b1afe",
   "metadata": {},
   "source": [
    "随机抽样与排列示例"
   ]
  },
  {
   "cell_type": "code",
   "execution_count": 4,
   "id": "71f347e7",
   "metadata": {},
   "outputs": [
    {
     "name": "stdout",
     "output_type": "stream",
     "text": [
      "\n",
      "=== 随机抽样与排列示例 ===\n",
      "1. choice() 示例:\n",
      "choice(data, 3, replace=False): [90 30 70]\n",
      "带权重抽样: [30 20 10 50 40]\n",
      "\n",
      "2. shuffle() 示例:\n",
      "原始数组: [ 10  20  30  40  50  60  70  80  90 100]\n",
      "shuffle后: [ 20  50  60  40  10  90  30  70 100  80]\n",
      "\n",
      "3. permutation() 示例:\n",
      "原数组: [1 2 3 4 5]\n",
      "permutation后: [4 2 5 3 1]\n",
      "原数组不变: [1 2 3 4 5]\n"
     ]
    }
   ],
   "source": [
    "print(\"\\n=== 随机抽样与排列示例 ===\")\n",
    "\n",
    "data = np.array([10, 20, 30, 40, 50, 60, 70, 80, 90, 100])\n",
    "\n",
    "# 1. choice() - 随机选择\n",
    "print(\"1. choice() 示例:\")\n",
    "# 不放回抽样\n",
    "sample_no_replace = np.random.choice(data, size=3, replace=False)\n",
    "print(f\"choice(data, 3, replace=False): {sample_no_replace}\")\n",
    "\n",
    "# 带权重的抽样\n",
    "weights = [0.1, 0.1, 0.1, 0.1, 0.1, 0.1, 0.1, 0.1, 0.1, 0.1]  # 均匀权重\n",
    "weighted_sample = np.random.choice(data, size=5, p=weights, replace=True)\n",
    "print(f\"带权重抽样: {weighted_sample}\")\n",
    "\n",
    "# 2. shuffle() - 原地打乱\n",
    "print(\"\\n2. shuffle() 示例:\")\n",
    "arr_to_shuffle = data.copy()\n",
    "print(f\"原始数组: {arr_to_shuffle}\")\n",
    "np.random.shuffle(arr_to_shuffle)\n",
    "print(f\"shuffle后: {arr_to_shuffle}\")\n",
    "\n",
    "# 3. permutation() - 返回打乱后的新数组\n",
    "print(\"\\n3. permutation() 示例:\")\n",
    "original_arr = np.array([1, 2, 3, 4, 5])\n",
    "permuted = np.random.permutation(original_arr)\n",
    "print(f\"原数组: {original_arr}\")\n",
    "print(f\"permutation后: {permuted}\")\n",
    "print(f\"原数组不变: {original_arr}\")"
   ]
  },
  {
   "cell_type": "markdown",
   "id": "48d5fcf5",
   "metadata": {},
   "source": [
    "其他分布函数示例"
   ]
  },
  {
   "cell_type": "code",
   "execution_count": 8,
   "id": "4d9524a0",
   "metadata": {},
   "outputs": [
    {
     "name": "stdout",
     "output_type": "stream",
     "text": [
      "\n",
      "=== 其他分布函数示例 ===\n",
      "poisson() 示例:\n",
      "poisson(lam=3, size=10): [4 4 0 2 4 4 3 1 5 4]\n",
      "\n",
      "其他分布:\n",
      "二项分布 binomial(10,0.5,8): [7 5 6 6 2 3 6 3]\n",
      "指数分布 exponential(2.0,6): [0.59006698 5.86131108 1.64278972 2.77843331 1.63280364 1.60821833]\n",
      "Beta分布 beta(10,20): 0.34605273001842357\n"
     ]
    }
   ],
   "source": [
    "print(\"\\n=== 其他分布函数示例 ===\")\n",
    "\n",
    "# poisson() - 泊松分布\n",
    "print(\"poisson() 示例:\")\n",
    "# 泊松分布，lambda=3\n",
    "poisson_data = np.random.poisson(lam=3, size=10)\n",
    "print(f\"poisson(lam=3, size=10): {poisson_data}\")\n",
    "\n",
    "# 其他常用分布示例\n",
    "print(\"\\n其他分布:\")\n",
    "# 二项分布\n",
    "binomial_data = np.random.binomial(n=10, p=0.5, size=8)\n",
    "print(f\"二项分布 binomial(10,0.5,8): {binomial_data}\")\n",
    "\n",
    "# 指数分布\n",
    "exponential_data = np.random.exponential(scale=2.0, size=6)\n",
    "print(f\"指数分布 exponential(2.0,6): {exponential_data}\")\n",
    "\n",
    "# Beta分布\n",
    "samples = np.random.beta(10,20)\n",
    "print(f\"Beta分布 beta(10,20): {samples}\")\n"
   ]
  },
  {
   "cell_type": "markdown",
   "id": "cba75ba3",
   "metadata": {},
   "source": [
    "随机种子控制示例"
   ]
  },
  {
   "cell_type": "code",
   "execution_count": 6,
   "id": "317998bc",
   "metadata": {},
   "outputs": [
    {
     "name": "stdout",
     "output_type": "stream",
     "text": [
      "\n",
      "=== 随机种子控制示例 ===\n",
      "1. seed() 示例:\n",
      "种子123后的随机数: [0.69646919 0.28613933 0.22685145]\n",
      "相同种子后的随机数: [0.69646919 0.28613933 0.22685145]\n",
      "两次结果相同: True\n",
      "\n",
      "2. RandomState() 示例:\n",
      "rng1 rand: [0.37454012 0.95071431 0.73199394]\n",
      "rng2 rand: [0.37454012 0.95071431 0.73199394]\n",
      "两个生成器结果相同: True\n"
     ]
    }
   ],
   "source": [
    "print(\"\\n=== 随机种子控制示例 ===\")\n",
    "\n",
    "# 1. seed() - 设置随机种子\n",
    "print(\"1. seed() 示例:\")\n",
    "np.random.seed(123)\n",
    "first_random = np.random.rand(3)\n",
    "print(f\"种子123后的随机数: {first_random}\")\n",
    "\n",
    "np.random.seed(123)  # 重置相同种子\n",
    "second_random = np.random.rand(3)\n",
    "print(f\"相同种子后的随机数: {second_random}\")\n",
    "print(f\"两次结果相同: {np.array_equal(first_random, second_random)}\")\n",
    "\n",
    "# 2. RandomState() - 创建独立随机数生成器\n",
    "print(\"\\n2. RandomState() 示例:\")\n",
    "rng1 = np.random.RandomState(42)\n",
    "rng2 = np.random.RandomState(42)\n",
    "\n",
    "print(f\"rng1 rand: {rng1.rand(3)}\")\n",
    "print(f\"rng2 rand: {rng2.rand(3)}\")\n",
    "print(f\"两个生成器结果相同: {np.array_equal(rng1.rand(3), rng2.rand(3))}\")"
   ]
  },
  {
   "cell_type": "code",
   "execution_count": 7,
   "id": "e47ce551",
   "metadata": {},
   "outputs": [
    {
     "name": "stdout",
     "output_type": "stream",
     "text": [
      "\n",
      "=== 综合应用示例 ===\n",
      "模拟掷两个骰子1000次:\n",
      "骰子1前10次: [4 5 3 5 5 2 3 3 3 5]\n",
      "骰子2前10次: [6 5 6 6 4 6 3 6 6 6]\n",
      "和的前10次: [10 10  9 11  9  8  6  9  9 11]\n",
      "和为7的次数: 174\n",
      "平均和: 6.96\n",
      "\n",
      "随机抽样5个结果:\n",
      "  第243次: 骰子1=1, 骰子2=2, 和=3\n",
      "  第430次: 骰子1=3, 骰子2=4, 和=7\n",
      "  第736次: 骰子1=4, 骰子2=3, 和=7\n",
      "  第943次: 骰子1=2, 骰子2=1, 和=3\n",
      "  第74次: 骰子1=4, 骰子2=3, 和=7\n"
     ]
    }
   ],
   "source": [
    "print(\"\\n=== 综合应用示例 ===\")\n",
    "\n",
    "# 模拟掷两个骰子1000次\n",
    "np.random.seed(42)\n",
    "\n",
    "print(\"模拟掷两个骰子1000次:\")\n",
    "dice1 = np.random.randint(1, 7, 1000)\n",
    "dice2 = np.random.randint(1, 7, 1000)\n",
    "sums = dice1 + dice2\n",
    "\n",
    "print(f\"骰子1前10次: {dice1[:10]}\")\n",
    "print(f\"骰子2前10次: {dice2[:10]}\")\n",
    "print(f\"和的前10次: {sums[:10]}\")\n",
    "print(f\"和为7的次数: {np.sum(sums == 7)}\")\n",
    "print(f\"平均和: {np.mean(sums):.2f}\")\n",
    "\n",
    "# 从结果中随机抽样查看\n",
    "sample_indices = np.random.choice(len(sums), size=5, replace=False)\n",
    "print(f\"\\n随机抽样5个结果:\")\n",
    "for i in sample_indices:\n",
    "    print(f\"  第{i+1}次: 骰子1={dice1[i]}, 骰子2={dice2[i]}, 和={sums[i]}\")"
   ]
  },
  {
   "cell_type": "code",
   "execution_count": null,
   "id": "c9bcb1b3",
   "metadata": {},
   "outputs": [],
   "source": []
  }
 ],
 "metadata": {
  "kernelspec": {
   "display_name": "pytorch",
   "language": "python",
   "name": "python3"
  },
  "language_info": {
   "codemirror_mode": {
    "name": "ipython",
    "version": 3
   },
   "file_extension": ".py",
   "mimetype": "text/x-python",
   "name": "python",
   "nbconvert_exporter": "python",
   "pygments_lexer": "ipython3",
   "version": "3.10.18"
  }
 },
 "nbformat": 4,
 "nbformat_minor": 5
}
