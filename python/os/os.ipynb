{
 "cells": [
  {
   "cell_type": "markdown",
   "id": "34e094ef",
   "metadata": {},
   "source": [
    "介绍os库的基础知识"
   ]
  },
  {
   "cell_type": "code",
   "execution_count": 2,
   "id": "908eceb3",
   "metadata": {},
   "outputs": [
    {
     "name": "stdout",
     "output_type": "stream",
     "text": [
      "['CLD_CONTINUED', 'CLD_DUMPED', 'CLD_EXITED', 'CLD_KILLED', 'CLD_STOPPED', 'CLD_TRAPPED', 'DirEntry', 'EFD_CLOEXEC', 'EFD_NONBLOCK', 'EFD_SEMAPHORE', 'EX_CANTCREAT', 'EX_CONFIG', 'EX_DATAERR', 'EX_IOERR', 'EX_NOHOST', 'EX_NOINPUT', 'EX_NOPERM', 'EX_NOUSER', 'EX_OK', 'EX_OSERR', 'EX_OSFILE', 'EX_PROTOCOL', 'EX_SOFTWARE', 'EX_TEMPFAIL', 'EX_UNAVAILABLE', 'EX_USAGE', 'F_LOCK', 'F_OK', 'F_TEST', 'F_TLOCK', 'F_ULOCK', 'GRND_NONBLOCK', 'GRND_RANDOM', 'GenericAlias', 'Mapping', 'MutableMapping', 'NGROUPS_MAX', 'O_ACCMODE', 'O_APPEND', 'O_ASYNC', 'O_CLOEXEC', 'O_CREAT', 'O_DIRECT', 'O_DIRECTORY', 'O_DSYNC', 'O_EXCL', 'O_FSYNC', 'O_LARGEFILE', 'O_NDELAY', 'O_NOATIME', 'O_NOCTTY', 'O_NOFOLLOW', 'O_NONBLOCK', 'O_PATH', 'O_RDONLY', 'O_RDWR', 'O_RSYNC', 'O_SYNC', 'O_TMPFILE', 'O_TRUNC', 'O_WRONLY', 'POSIX_FADV_DONTNEED', 'POSIX_FADV_NOREUSE', 'POSIX_FADV_NORMAL', 'POSIX_FADV_RANDOM', 'POSIX_FADV_SEQUENTIAL', 'POSIX_FADV_WILLNEED', 'POSIX_SPAWN_CLOSE', 'POSIX_SPAWN_DUP2', 'POSIX_SPAWN_OPEN', 'PRIO_PGRP', 'PRIO_PROCESS', 'PRIO_USER', 'P_ALL', 'P_NOWAIT', 'P_NOWAITO', 'P_PGID', 'P_PID', 'P_WAIT', 'PathLike', 'RTLD_DEEPBIND', 'RTLD_GLOBAL', 'RTLD_LAZY', 'RTLD_LOCAL', 'RTLD_NODELETE', 'RTLD_NOLOAD', 'RTLD_NOW', 'R_OK', 'SCHED_BATCH', 'SCHED_FIFO', 'SCHED_IDLE', 'SCHED_OTHER', 'SCHED_RESET_ON_FORK', 'SCHED_RR', 'SEEK_CUR', 'SEEK_DATA', 'SEEK_END', 'SEEK_HOLE', 'SEEK_SET', 'SPLICE_F_MORE', 'SPLICE_F_MOVE', 'SPLICE_F_NONBLOCK', 'ST_APPEND', 'ST_MANDLOCK', 'ST_NOATIME', 'ST_NODEV', 'ST_NODIRATIME', 'ST_NOEXEC', 'ST_NOSUID', 'ST_RDONLY', 'ST_RELATIME', 'ST_SYNCHRONOUS', 'ST_WRITE', 'TMP_MAX', 'WCONTINUED', 'WCOREDUMP', 'WEXITED', 'WEXITSTATUS', 'WIFCONTINUED', 'WIFEXITED', 'WIFSIGNALED', 'WIFSTOPPED', 'WNOHANG', 'WNOWAIT', 'WSTOPPED', 'WSTOPSIG', 'WTERMSIG', 'WUNTRACED', 'W_OK', 'XATTR_CREATE', 'XATTR_REPLACE', 'XATTR_SIZE_MAX', 'X_OK', '_Environ', '__all__', '__builtins__', '__cached__', '__doc__', '__file__', '__loader__', '__name__', '__package__', '__spec__', '_check_methods', '_execvpe', '_exists', '_exit', '_fspath', '_fwalk', '_get_exports_list', '_spawnvef', '_walk', '_wrap_close', 'abc', 'abort', 'access', 'altsep', 'chdir', 'chmod', 'chown', 'chroot', 'close', 'closerange', 'confstr', 'confstr_names', 'cpu_count', 'ctermid', 'curdir', 'defpath', 'device_encoding', 'devnull', 'dup', 'dup2', 'environ', 'environb', 'error', 'eventfd', 'eventfd_read', 'eventfd_write', 'execl', 'execle', 'execlp', 'execlpe', 'execv', 'execve', 'execvp', 'execvpe', 'extsep', 'fchdir', 'fchmod', 'fchown', 'fdatasync', 'fdopen', 'fork', 'forkpty', 'fpathconf', 'fsdecode', 'fsencode', 'fspath', 'fstat', 'fstatvfs', 'fsync', 'ftruncate', 'fwalk', 'get_blocking', 'get_exec_path', 'get_inheritable', 'get_terminal_size', 'getcwd', 'getcwdb', 'getegid', 'getenv', 'getenvb', 'geteuid', 'getgid', 'getgrouplist', 'getgroups', 'getloadavg', 'getlogin', 'getpgid', 'getpgrp', 'getpid', 'getppid', 'getpriority', 'getrandom', 'getresgid', 'getresuid', 'getsid', 'getuid', 'getxattr', 'initgroups', 'isatty', 'kill', 'killpg', 'lchown', 'linesep', 'link', 'listdir', 'listxattr', 'lockf', 'lseek', 'lstat', 'major', 'makedev', 'makedirs', 'minor', 'mkdir', 'mkfifo', 'mknod', 'name', 'nice', 'open', 'openpty', 'pardir', 'path', 'pathconf', 'pathconf_names', 'pathsep', 'pipe', 'pipe2', 'popen', 'posix_fadvise', 'posix_fallocate', 'posix_spawn', 'posix_spawnp', 'pread', 'preadv', 'putenv', 'pwrite', 'pwritev', 'read', 'readlink', 'readv', 'register_at_fork', 'remove', 'removedirs', 'removexattr', 'rename', 'renames', 'replace', 'rmdir', 'scandir', 'sched_get_priority_max', 'sched_get_priority_min', 'sched_getaffinity', 'sched_getparam', 'sched_getscheduler', 'sched_param', 'sched_rr_get_interval', 'sched_setaffinity', 'sched_setparam', 'sched_setscheduler', 'sched_yield', 'sendfile', 'sep', 'set_blocking', 'set_inheritable', 'setegid', 'seteuid', 'setgid', 'setgroups', 'setpgid', 'setpgrp', 'setpriority', 'setregid', 'setresgid', 'setresuid', 'setreuid', 'setsid', 'setuid', 'setxattr', 'spawnl', 'spawnle', 'spawnlp', 'spawnlpe', 'spawnv', 'spawnve', 'spawnvp', 'spawnvpe', 'splice', 'st', 'stat', 'stat_result', 'statvfs', 'statvfs_result', 'strerror', 'supports_bytes_environ', 'supports_dir_fd', 'supports_effective_ids', 'supports_fd', 'supports_follow_symlinks', 'symlink', 'sync', 'sys', 'sysconf', 'sysconf_names', 'system', 'tcgetpgrp', 'tcsetpgrp', 'terminal_size', 'times', 'times_result', 'truncate', 'ttyname', 'umask', 'uname', 'uname_result', 'unlink', 'unsetenv', 'urandom', 'utime', 'wait', 'wait3', 'wait4', 'waitid', 'waitid_result', 'waitpid', 'waitstatus_to_exitcode', 'walk', 'write', 'writev']\n"
     ]
    }
   ],
   "source": [
    "import os\n",
    "print(dir(os))\n",
    "__file_origin_path__=os.getcwd()"
   ]
  },
  {
   "cell_type": "code",
   "execution_count": 3,
   "id": "7de9eed8",
   "metadata": {},
   "outputs": [
    {
     "name": "stdout",
     "output_type": "stream",
     "text": [
      "/home/zhangjinrui/my_program_code/Data_Processing/python/os\n"
     ]
    }
   ],
   "source": [
    "print(os.getcwd())#获取当前代码所在的绝对路径"
   ]
  },
  {
   "cell_type": "markdown",
   "id": "450cd37b",
   "metadata": {},
   "source": [
    "字符串前的 r 前缀表示 原始字符串（raw string），它会禁用字符串内的转义字符（如 \\n、\\t 等），使反斜杠 \\ 被当作普通字符处理  \n",
    "普通字符串：  \n",
    "需要双反斜杠表示单个反斜杠"
   ]
  },
  {
   "cell_type": "code",
   "execution_count": 4,
   "id": "1b231c63",
   "metadata": {},
   "outputs": [
    {
     "name": "stdout",
     "output_type": "stream",
     "text": [
      "./folder\n"
     ]
    }
   ],
   "source": [
    "file_path=r'./folder'\n",
    "print(file_path)\n",
    "os.mkdir(file_path)#在路径中创建一个新的文件夹,必须保证最后一个文件夹前的路径存在"
   ]
  },
  {
   "cell_type": "markdown",
   "id": "394ecdfb",
   "metadata": {},
   "source": [
    "操作文件与文件夹  \n",
    "getsize(path)方法可以获取路径中的文件所占内存大小。单位为字符  \n",
    "remove()函数可用于删除path对应的的文件  \n",
    "rmdir()函数可用于删除文件夹，只是删除path中最后一层文件夹"
   ]
  },
  {
   "cell_type": "code",
   "execution_count": 5,
   "id": "b197faa5",
   "metadata": {},
   "outputs": [
    {
     "name": "stdout",
     "output_type": "stream",
     "text": [
      "4096\n"
     ]
    }
   ],
   "source": [
    "path = r'../pandas'\n",
    "print(os.path.getsize(path))#获取路径中的文件所占用内存的大小"
   ]
  },
  {
   "cell_type": "code",
   "execution_count": 6,
   "id": "214499dd",
   "metadata": {},
   "outputs": [],
   "source": [
    "# 创建并写入内容（如果文件不存在会自动创建）\n",
    "txt_path=file_path+r'/example.txt'\n",
    "with open(txt_path, \"w\", encoding=\"utf-8\") as file:\n",
    "    file.write(\"这是文件的第一行内容。\")  # 写入内容"
   ]
  },
  {
   "cell_type": "code",
   "execution_count": 7,
   "id": "9b10e3bb",
   "metadata": {},
   "outputs": [],
   "source": [
    "os.remove(txt_path)#删除path中的文件"
   ]
  },
  {
   "cell_type": "code",
   "execution_count": 8,
   "id": "bbc0581c",
   "metadata": {},
   "outputs": [],
   "source": [
    "os.rmdir(file_path)"
   ]
  },
  {
   "cell_type": "markdown",
   "id": "4a70bb25",
   "metadata": {},
   "source": [
    "循环创建平级的几个文件夹"
   ]
  },
  {
   "cell_type": "code",
   "execution_count": 9,
   "id": "b9a38692",
   "metadata": {},
   "outputs": [],
   "source": [
    "for i in range(1,5):\n",
    "        file_name = '/文件夹'+str(i)\n",
    "        file_path = os.getcwd()+file_name\n",
    "        os.mkdir(file_path)"
   ]
  },
  {
   "cell_type": "code",
   "execution_count": 10,
   "id": "db5fa161",
   "metadata": {},
   "outputs": [],
   "source": [
    "for i in range(1,5):\n",
    "        file_name = '/文件夹'+str(i)\n",
    "        file_path = os.getcwd()+file_name\n",
    "        os.rmdir(file_path)"
   ]
  },
  {
   "cell_type": "markdown",
   "id": "62633260",
   "metadata": {},
   "source": [
    "makedirs 递归创建文件夹，递归指根据路径创建包含的全部文件夹  \n",
    "相当于命令行mkdir -p folder/---  \n",
    "removedirs递归删除空文件夹  \n",
    "shutil.rmtree()：强制删除目录及其所有内容（包括非空目录），但风险更高，这里不做演示  \n",
    "import shutil  \n",
    "os.makedirs(\"my_folder/sub_dir\", exist_ok=True)  \n",
    "with open(\"my_folder/file.txt\", \"w\") as f:  \n",
    "    f.write(\"Hello, World!\")  \n",
    "shutil.rmtree(\"my_folder\")  \n",
    "绝对路径的删除行为与相对路径完全一致shutil.rmtree(\"/home/user/my_folder\")   \n",
    "只会删除 /home/user/my_folder 目录及其所有子目录、文件，不会影响 /home/user/ 下的其他文件或目录"
   ]
  },
  {
   "cell_type": "code",
   "execution_count": 11,
   "id": "8bc4626d",
   "metadata": {},
   "outputs": [],
   "source": [
    "folder_paths=r'./folder/test'\n",
    "os.makedirs(folder_paths)"
   ]
  },
  {
   "cell_type": "code",
   "execution_count": 12,
   "id": "9963a2d0",
   "metadata": {},
   "outputs": [],
   "source": [
    "os.removedirs(folder_paths)"
   ]
  },
  {
   "cell_type": "markdown",
   "id": "90702524",
   "metadata": {},
   "source": [
    "路径拼接join，无须考虑构成路径的转义字符等问题"
   ]
  },
  {
   "cell_type": "code",
   "execution_count": 13,
   "id": "4168d6fa",
   "metadata": {},
   "outputs": [
    {
     "name": "stdout",
     "output_type": "stream",
     "text": [
      "/home/zhangjinrui/my_program_code/Data_Processing/python/os/数据2/内容c <class 'str'>\n"
     ]
    }
   ],
   "source": [
    "dir_new= os.path.join(os.getcwd(),'数据2','内容c')\n",
    "print(dir_new,type(dir_new))"
   ]
  },
  {
   "cell_type": "markdown",
   "id": "af4e21c5",
   "metadata": {},
   "source": [
    "跳转路径chdir(路径)，从当前代码所在文件夹路径跳转到其他路径，路径必须是已经存在的  \n",
    "以递归创建多级文件夹为例"
   ]
  },
  {
   "cell_type": "code",
   "execution_count": 14,
   "id": "eff6db35",
   "metadata": {},
   "outputs": [],
   "source": [
    "for i in range(1,5):\n",
    "        file_name = '/文件夹'+str(i)\n",
    "        file_path = os.getcwd()+file_name\n",
    "        os.mkdir(file_path)\n",
    "        os.chdir(file_path)"
   ]
  },
  {
   "cell_type": "code",
   "execution_count": 15,
   "id": "91e601e9",
   "metadata": {},
   "outputs": [],
   "source": [
    "folder_paths = os.getcwd()\n",
    "os.removedirs(folder_paths)"
   ]
  },
  {
   "cell_type": "markdown",
   "id": "85bad5e6",
   "metadata": {},
   "source": [
    "获取代码文件所在的绝对路径  \n",
    "在.py文件中直接可以用os.path.abspath(__file__)   \n",
    "在jupyter等交互环境只能提前保存原始路径  "
   ]
  },
  {
   "cell_type": "code",
   "execution_count": 16,
   "id": "907dcf8a",
   "metadata": {},
   "outputs": [
    {
     "name": "stdout",
     "output_type": "stream",
     "text": [
      "脚本所在目录: /home/zhangjinrui/my_program_code/Data_Processing/python/os\n"
     ]
    }
   ],
   "source": [
    "os.chdir(__file_origin_path__)\n",
    "print(\"脚本所在目录:\", __file_origin_path__)"
   ]
  },
  {
   "cell_type": "markdown",
   "id": "c0159d81",
   "metadata": {},
   "source": [
    "判断相对路径和绝对路径"
   ]
  },
  {
   "cell_type": "code",
   "execution_count": 17,
   "id": "82eb9306",
   "metadata": {},
   "outputs": [
    {
     "name": "stdout",
     "output_type": "stream",
     "text": [
      "False True\n"
     ]
    }
   ],
   "source": [
    "a=os.path.isabs('../os')#判断当前路径是相对路径还是绝对路径\n",
    "b=os.path.isabs(os.getcwd())\n",
    "print(a,b)"
   ]
  },
  {
   "cell_type": "markdown",
   "id": "2ab24dbe",
   "metadata": {},
   "source": [
    "获取文件路径和文件名  \n",
    "path 模块下的basename(path)方法可用于获取路径中的文件名  \n",
    "dirname(路径)方法可用于获取路径中的文件夹路径  \n",
    "split(路径)方法可用于将获取的文件夹路径和文件名以元组的形式返回"
   ]
  },
  {
   "cell_type": "code",
   "execution_count": 18,
   "id": "b7f52308",
   "metadata": {},
   "outputs": [
    {
     "name": "stdout",
     "output_type": "stream",
     "text": [
      "file.txt \n",
      " /home/zhangjinrui/my_program_code/Data_Processing/python/os \n",
      " ('/home/zhangjinrui/my_program_code/Data_Processing/python/os', 'file.txt')\n"
     ]
    }
   ],
   "source": [
    "path = os.path.join(os.getcwd(),\"file.txt\")\n",
    "file_name = os.path.basename(path)#获取路径中的文件名\n",
    "dir_name = os.path.dirname(path)#获取路径中的文件夹路径\n",
    "file_dir_name = os.path.split(path)#获取的文件路径和文件名以元组的形式返回\n",
    "print(file_name,'\\n',dir_name,'\\n',file_dir_name)"
   ]
  },
  {
   "cell_type": "markdown",
   "id": "8cc9b845",
   "metadata": {},
   "source": [
    "重命名文件或文件夹（old,new）  \n",
    "rename修改指定文件夹或文件的名称  \n",
    "renames递归修改文件夹或文件的名称"
   ]
  },
  {
   "cell_type": "code",
   "execution_count": null,
   "id": "54651bb6",
   "metadata": {},
   "outputs": [
    {
     "name": "stdout",
     "output_type": "stream",
     "text": [
      "./folder1/folder2/folder3\n",
      "./folder1/folder2/folder3/folder4\n"
     ]
    }
   ],
   "source": [
    "#先创建几个文件夹\n",
    "father_path=r'./folder1/folder2/folder3'\n",
    "sub_folder=r'./folder4/folder5'\n",
    "full_path=os.path.join(father_path,sub_folder)\n",
    "print(father_path)\n",
    "print(full_path)\n",
    "os.makedirs(full_path)"
   ]
  },
  {
   "cell_type": "code",
   "execution_count": 20,
   "id": "e78f268a",
   "metadata": {},
   "outputs": [],
   "source": [
    "new_path=r'./folder1/folder2/folder300'\n",
    "os.rename(father_path,new_path)"
   ]
  },
  {
   "cell_type": "code",
   "execution_count": 22,
   "id": "018d1acc",
   "metadata": {},
   "outputs": [],
   "source": [
    "old_path2=os.path.join(new_path,sub_folder)\n",
    "new_path2=r'./folder100/folder200/folder300/folder400/folder500'\n",
    "os.renames(old_path2,new_path2)"
   ]
  },
  {
   "cell_type": "code",
   "execution_count": 23,
   "id": "e5bcc165",
   "metadata": {},
   "outputs": [],
   "source": [
    "os.removedirs(new_path2)"
   ]
  },
  {
   "cell_type": "markdown",
   "id": "e66aa3c2",
   "metadata": {},
   "source": [
    "os.link(src, dst)复制文件,创建硬链接以实现复制文件"
   ]
  },
  {
   "cell_type": "code",
   "execution_count": 25,
   "id": "fde7cd64",
   "metadata": {},
   "outputs": [],
   "source": [
    "origin_file=r\"origin.txt\"\n",
    "copy_file=r'copy.txt'\n",
    "with open(origin_file,'w',encoding='utf-8') as file:\n",
    "    file.write('第一行内容')"
   ]
  },
  {
   "cell_type": "code",
   "execution_count": 26,
   "id": "67a027db",
   "metadata": {},
   "outputs": [],
   "source": [
    "os.link(origin_file,copy_file)"
   ]
  },
  {
   "cell_type": "code",
   "execution_count": 27,
   "id": "6b1b8b55",
   "metadata": {},
   "outputs": [],
   "source": [
    "os.remove(origin_file)\n",
    "os.remove(copy_file)\n"
   ]
  },
  {
   "cell_type": "markdown",
   "id": "0608abd8",
   "metadata": {},
   "source": [
    "使用 os 库中的listdir(路径)方法即可获取文件夹中的全部文件名（包含文件和文件夹的名称）。结果是以列表的形式输出的路径中的全部内容"
   ]
  },
  {
   "cell_type": "code",
   "execution_count": 28,
   "id": "078578a0",
   "metadata": {},
   "outputs": [
    {
     "name": "stdout",
     "output_type": "stream",
     "text": [
      "相对路径中有：  ['os.ipynb']\n"
     ]
    }
   ],
   "source": [
    "print('相对路径中有： ',os.listdir('.'))#获取路径中的全部文件名"
   ]
  },
  {
   "cell_type": "markdown",
   "id": "f61dfe8c",
   "metadata": {},
   "source": [
    "判断文件和文件夹  \n",
    "os 库中提供了以下 3 种用于判断 path 是文件还是文件夹的方法。  \n",
    "第 1 种，os.path.exists(path)。判断 path 所指的文件或文件夹是否存在，如果存在则返回 True，否则返回 False。  \n",
    "第 2 种，os.path.isfile(path)。判断 path 是否为文件，如果是文件则返回 True，否则返回 False。  \n",
    "第 3 种，os.path.isdir(path)。判断 path 是否为文件夹，如果是文件夹则返回 True，否则返回 False。  "
   ]
  },
  {
   "cell_type": "code",
   "execution_count": 29,
   "id": "4de181c0",
   "metadata": {},
   "outputs": [
    {
     "name": "stdout",
     "output_type": "stream",
     "text": [
      "True\n",
      "True\n",
      "False\n"
     ]
    }
   ],
   "source": [
    "path = r'../numpy/property.py'\n",
    "print(os.path.exists(path))#判断path所指的文件或文件夹是否存在\n",
    "print(os.path.isfile(path))#判断path是否为一个文件\n",
    "print(os.path.isdir(path))#判断path是否为一个文件夹"
   ]
  },
  {
   "cell_type": "markdown",
   "id": "b7ef7773",
   "metadata": {},
   "source": [
    "system（）方法\n",
    "os.system('abc')可执行文件\n",
    "os.system('abc.py')可执行文件"
   ]
  }
 ],
 "metadata": {
  "kernelspec": {
   "display_name": "pytorch",
   "language": "python",
   "name": "python3"
  },
  "language_info": {
   "codemirror_mode": {
    "name": "ipython",
    "version": 3
   },
   "file_extension": ".py",
   "mimetype": "text/x-python",
   "name": "python",
   "nbconvert_exporter": "python",
   "pygments_lexer": "ipython3",
   "version": "3.10.18"
  }
 },
 "nbformat": 4,
 "nbformat_minor": 5
}
