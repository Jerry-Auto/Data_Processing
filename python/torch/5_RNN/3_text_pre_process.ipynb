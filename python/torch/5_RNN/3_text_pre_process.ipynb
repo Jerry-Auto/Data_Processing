{
 "cells": [
  {
   "cell_type": "markdown",
   "id": "d30a03c3",
   "metadata": {},
   "source": [
    "<pre>文本预处理\n",
    "\n",
    "对于序列数据处理问题，我们在 8.1节中 评估了所需的统计工具和预测时面临的挑战。  \n",
    "这样的数据存在许多种形式，文本是最常见例子之一。 例如，一篇文章可以被简单地看作一串单词序列，甚至是一串字符序列。  \n",
    "本节中，我们将解析文本的常见预处理步骤。 这些步骤通常包括：\n",
    "\n",
    "    将文本作为字符串加载到内存中。\n",
    "\n",
    "    将字符串拆分为词元（如单词和字符）。\n",
    "\n",
    "    建立一个词表，将拆分的词元映射到数字索引。\n",
    "\n",
    "    将文本转换为数字索引序列，方便模型操作。\n"
   ]
  },
  {
   "cell_type": "markdown",
   "id": "6aff1989",
   "metadata": {},
   "source": [
    "读取数据集\n",
    "\n",
    "首先，我们从H.G.Well的时光机器中加载文本。  \n",
    "这是一个相当小的语料库，只有30000多个单词，但足够我们小试牛刀， 而现实中的文档集合可能会包含数十亿个单词。  \n",
    "下面的函数将数据集读取到由多条文本行组成的列表中，其中每条文本行都是一个字符串。  \n",
    "为简单起见，我们在这里忽略了标点符号和字母大写。"
   ]
  },
  {
   "cell_type": "code",
   "execution_count": 1,
   "id": "3350b792",
   "metadata": {},
   "outputs": [],
   "source": [
    "import collections\n",
    "import re\n",
    "from d2l import torch as d2l"
   ]
  },
  {
   "cell_type": "code",
   "execution_count": 2,
   "id": "b7123077",
   "metadata": {},
   "outputs": [
    {
     "name": "stdout",
     "output_type": "stream",
     "text": [
      "# 文本总行数: 3221\n",
      "the time machine by h g wells\n",
      "twinkled and his usually pale face was flushed and animated the\n"
     ]
    }
   ],
   "source": [
    "#@save\n",
    "d2l.DATA_HUB['time_machine'] = (d2l.DATA_URL + 'timemachine.txt',\n",
    "                                '090b5e7e70c295757f55df93cb0a180b9691891a')\n",
    "\n",
    "def read_time_machine():  #@save\n",
    "    \"\"\"将时间机器数据集加载到文本行的列表中\"\"\"\n",
    "    with open(d2l.download('time_machine'), 'r') as f:\n",
    "        lines = f.readlines()\n",
    "    return [re.sub('[^A-Za-z]+', ' ', line).strip().lower() for line in lines]\n",
    "\n",
    "lines = read_time_machine()\n",
    "print(f'# 文本总行数: {len(lines)}')\n",
    "print(lines[0])\n",
    "print(lines[10])\n"
   ]
  },
  {
   "cell_type": "markdown",
   "id": "e9374262",
   "metadata": {},
   "source": [
    "词元化\n",
    "\n",
    "下面的tokenize函数将文本行列表（lines）作为输入， 列表中的每个元素是一个文本序列（如一条文本行）。  \n",
    "每个文本序列又被拆分成一个词元列表，词元（token）是文本的基本单位。  \n",
    "文本行列表=[文本序列1,文本序列2,...]  \n",
    "文本序列=[词元1,词元2,...]  \n",
    "最后，返回一个由词元列表组成的列表，其中的每个词元都是一个字符串（string）。  \n",
    "line.split()是字符串的一个方法，它的核心作用是​​将一个字符串分割成多个子字符串，并将这些子字符串放入一个列表中返回​​"
   ]
  },
  {
   "cell_type": "code",
   "execution_count": 3,
   "id": "d8abb5a2",
   "metadata": {},
   "outputs": [
    {
     "name": "stdout",
     "output_type": "stream",
     "text": [
      "['the', 'time', 'machine', 'by', 'h', 'g', 'wells']\n",
      "[]\n",
      "[]\n",
      "[]\n",
      "[]\n",
      "['i']\n",
      "[]\n",
      "[]\n",
      "['the', 'time', 'traveller', 'for', 'so', 'it', 'will', 'be', 'convenient', 'to', 'speak', 'of', 'him']\n",
      "['was', 'expounding', 'a', 'recondite', 'matter', 'to', 'us', 'his', 'grey', 'eyes', 'shone', 'and']\n",
      "['twinkled', 'and', 'his', 'usually', 'pale', 'face', 'was', 'flushed', 'and', 'animated', 'the']\n"
     ]
    }
   ],
   "source": [
    "def tokenize(lines, token='word'):  #@save\n",
    "    \"\"\"将文本行拆分为单词或字符词元\"\"\"\n",
    "    if token == 'word':\n",
    "        return [line.split() for line in lines]#二维列表[[\"Hello\", \"world\",....], .....,[\"Python\", \"code\",.....]]\n",
    "    elif token == 'char':\n",
    "        return [list(line) for line in lines]#二维列表[['a','b',...][...][...],...]\n",
    "    else:\n",
    "        print('错误：未知词元类型：' + token)\n",
    "\n",
    "tokens = tokenize(lines)\n",
    "#tokens = tokenize(lines,'char')\n",
    "for i in range(11):\n",
    "    print(tokens[i])\n"
   ]
  },
  {
   "cell_type": "markdown",
   "id": "abc2f888",
   "metadata": {},
   "source": [
    "词表\n",
    "\n",
    "词元的类型是字符串，而模型需要的输入是数字，因此这种类型不方便模型使用。  \n",
    "现在，让我们构建一个字典，通常也叫做词表（vocabulary）， 用来将字符串类型的词元映射到从0开始的数字索引中。  \n",
    "我们先将训练集中的所有文档合并在一起，对它们的唯一词元进行统计， 得到的统计结果称之为语料（corpus）。  \n",
    "然后根据每个唯一词元的出现频率，为其分配一个数字索引。 很少出现的词元通常被移除，这可以降低复杂性。  \n",
    "另外，语料库中不存在或已删除的任何词元都将映射到一个特定的未知词元“\\<unk\\>”。  \n",
    "我们可以选择增加一个列表，用于保存那些被保留的词元， 例如：填充词元（“\\<pad\\>”）； 序列开始词元（“\\<bos\\>”）； 序列结束词元（“\\<eos\\>”）。"
   ]
  },
  {
   "cell_type": "code",
   "execution_count": 4,
   "id": "89205f4d",
   "metadata": {},
   "outputs": [],
   "source": [
    "class Vocab:  #@save\n",
    "    \"\"\"文本词表\"\"\"\n",
    "    def __init__(self, tokens=None, min_freq=0, reserved_tokens=None):\n",
    "        if tokens is None:\n",
    "            tokens = []\n",
    "        if reserved_tokens is None:\n",
    "            reserved_tokens = []\n",
    "        # 按出现频率排序\n",
    "        counter = count_corpus(tokens)\n",
    "        self._token_freqs = sorted(counter.items(), key=lambda x: x[1],\n",
    "                                   reverse=True)\n",
    "        # 未知词元的索引为0\n",
    "        self.idx_to_token = ['<unk>'] + reserved_tokens\n",
    "        self.token_to_idx = {token: idx#键值对定义，这里将​​词元作为键​​，将其​​索引作为值​​\n",
    "                             for idx, token in enumerate(self.idx_to_token)}\n",
    "        for token, freq in self._token_freqs:\n",
    "            if freq < min_freq:\n",
    "                break\n",
    "            if token not in self.token_to_idx:\n",
    "                self.idx_to_token.append(token)\n",
    "                self.token_to_idx[token] = len(self.idx_to_token) - 1\n",
    "\n",
    "    def __len__(self):\n",
    "        return len(self.idx_to_token)\n",
    "\n",
    "    def __getitem__(self, tokens):\n",
    "        if not isinstance(tokens, (list, tuple)):# 情况1：输入是单个词元\n",
    "            return self.token_to_idx.get(tokens, self.unk)\n",
    "        return [self.__getitem__(token) for token in tokens]# 情况2：输入是列表/元组\n",
    "\n",
    "    def to_tokens(self, indices):\n",
    "        if not isinstance(indices, (list, tuple)):\n",
    "            return self.idx_to_token[indices]\n",
    "        return [self.idx_to_token[index] for index in indices]\n",
    "\n",
    "    @property\n",
    "    def unk(self):  # 未知词元的索引为0\n",
    "        return 0\n",
    "\n",
    "    @property\n",
    "    def token_freqs(self):\n",
    "        return self._token_freqs\n",
    "\n",
    "def count_corpus(tokens):  #@save\n",
    "    \"\"\"统计词元的频率\"\"\"\n",
    "    # 这里的tokens是1D列表或2D列表\n",
    "    if len(tokens) == 0 or isinstance(tokens[0], list):\n",
    "        # 将词元列表展平成一个列表\n",
    "        tokens = [token for line in tokens for token in line]\n",
    "    return collections.Counter(tokens)\n"
   ]
  },
  {
   "cell_type": "markdown",
   "id": "f7b7909a",
   "metadata": {},
   "source": [
    "<pre>python知识点说明  \n",
    "\n",
    "collections.Counter是 Python 中一个强大的计数工具。  \n",
    "简单来说，当你把一个列表、字符串或其他可迭代对象交给它时，它会返回一个​​特殊的字典子类对象​​。  \n",
    "这个对象以原始数据中的元素作为键（key），以该元素出现的次数作为值（value）  \n",
    "\n",
    "sorted函数：\n",
    "key参数：自定义排序规则​​\n",
    "    这是 sorted()函数最强大灵活的部分。它接受一个函数，这个函数会应用于可迭代对象中的​​每一个元素​​，并根据该函数的返回值进行排序。  \n",
    "reverse参数：控制排序方向​​，一个布尔值参数。\n",
    "    reverse=False：​​升序​​（从小到大，默认值）。\n",
    "    reverse=True：​​降序​​（从大到小）\n",
    "iterable：指定要排序的可迭代对象（如列表、元组、字典等）\t\n",
    "    任何可迭代对象\n",
    "\n",
    "在Python中，__len__和 __getitem__是两种非常重要的​​魔术方法​​（也称为特殊方法或双下方法）。  \n",
    "它们的主要作用是让你自定义的类能够像Python内置的数据类型（如列表、字典）一样，支持使用 len()函数获取长度，以及使用中括号 []进行索引操作  \n",
    "\n",
    "isinstance()是 Python 中一个非常实用的内置函数，主要用于检查一个对象是否属于指定的类型（或其子类）\n",
    "\n",
    "字典dict的知识\n",
    "    dict.get(a,b),尝试在dict里面查找a并且返回a的value，如果没有找到，返回b\n",
    "    dict.items()方法是一个非常有用的工具，主要用于获取字典中所有的键值对，返回一个元组形式(key,value)的view(视图),\n",
    "    list(my_dict.items()),tuple(my_dict.items())进行转换，转换后的列表或元组就与原始字典“断开连接”了，后续对字典的修改不会影响它们\n",
    "    .keys()     dict_keys视图       返回字典中所有​​键​​的动态视图\n",
    "    .values()   dict_values视图     返回字典中所有​​值​​的动态视图。\n",
    "    .items()    dict_items视图      返回字典中所有​​键值对​​（作为元组）的动态视图\n",
    "\n",
    "@property是一个装饰器，它能把一个方法“变成”属性来使用，使得可以像访问属性一样调用方法（无需括号）\n",
    "可以配合@属性名.setter和@属性名.deleter装饰器，创建可读写或可控制的属性\n",
    "如果只使用@property而不定义setter方法，则可以创建只读属性\n",
    "\n",
    "Python 中三种主要的成员(方法、属性)访问权限约定\n",
    "公有成员​​    无下划线前缀               在任何地方都可以自由访问和修改。                                       self.public_attr\n",
    "​受保护成员​​  单下划线开头 (_member)     这是一种约定，提示该成员仅供类内部或子类使用。​​外部仍可访问​​，但不推荐。        self._protected_attr\n",
    "​私有成员​​    双下划线开头 (__member)    Python 会进行​​名称改写​​，使其难以直接从类外访问，从而实现一定程度的隔离。      self.__private_attr\n",
    "\n",
    "魔术方法（Magic Methods），也称为特殊方法或双下方法（Dunder Methods）\n",
    "    独特的命名规则：身份标识​​\n",
    "        双下划线的命名方式是一个强烈的视觉信号，旨在将它们与类的普通方法区分开来。当你看到以 __开头和结尾的方法时，就能立刻意识到这是一个会在特定场景下被自动调用的特殊方法\n",
    "    ​​自动的调用机制：幕后英雄​​\n",
    "        这是魔术方法最“魔术”的地方。你不需要知道它们的具体方法名并去显式调用。例如，当你使用 print(obj)时，解释器会自动去寻找并执行 obj.__str__()；当你使用 len(obj)时\n",
    "        ，会自动调用 obj.__len__()。这种机制将复杂的实现细节隐藏起来，让代码变得非常简洁和直观。\n",
    "    ​​强大的行为定制：自由的灵魂​​\n",
    "        魔术方法的核心价值在于“定制化”。它允许你定义自己的类该如何应对 Python 的各种内置操作。\n",
    "            ​​运算符重载​​：你可以通过实现 __add__方法，让你自定义的 Vector类或 Matrix类支持使用 +进行加法运算，使代码更符合数学直觉。\n",
    "            ​​行为模拟​​：你可以通过实现 __len__和 __getitem__等方法，让你自己的类表现得像一个内置的列表或字典。\n",
    "            ​​上下文管理​​：通过实现 __enter__和 __exit__方法，可以让你的类支持 with语句，用于安全地获取和释放资源（如文件操作、数据库连接）"
   ]
  },
  {
   "cell_type": "markdown",
   "id": "857af2a9",
   "metadata": {},
   "source": [
    "我们首先使用时光机器数据集作为语料库来构建词表，然后打印前几个高频词元及其索引。"
   ]
  },
  {
   "cell_type": "code",
   "execution_count": 5,
   "id": "8e787b5f",
   "metadata": {},
   "outputs": [
    {
     "name": "stdout",
     "output_type": "stream",
     "text": [
      "[('<unk>', 0), ('the', 1), ('i', 2), ('and', 3), ('of', 4), ('a', 5), ('to', 6), ('was', 7), ('in', 8), ('that', 9)]\n"
     ]
    }
   ],
   "source": [
    "vocab = Vocab(tokens)\n",
    "print(list(vocab.token_to_idx.items())[:10])\n"
   ]
  },
  {
   "cell_type": "markdown",
   "id": "c0cc0cfc",
   "metadata": {},
   "source": [
    "现在，我们可以将每一条文本行转换成一个数字索引列表。"
   ]
  },
  {
   "cell_type": "code",
   "execution_count": 6,
   "id": "b2bb56ef",
   "metadata": {},
   "outputs": [
    {
     "name": "stdout",
     "output_type": "stream",
     "text": [
      "文本: ['the', 'time', 'machine', 'by', 'h', 'g', 'wells']\n",
      "索引: [1, 19, 50, 40, 2183, 2184, 400]\n",
      "文本: ['twinkled', 'and', 'his', 'usually', 'pale', 'face', 'was', 'flushed', 'and', 'animated', 'the']\n",
      "索引: [2186, 3, 25, 1044, 362, 113, 7, 1421, 3, 1045, 1]\n"
     ]
    }
   ],
   "source": [
    "for i in [0, 10]:\n",
    "    print('文本:', tokens[i])\n",
    "    print('索引:', vocab[tokens[i]])\n"
   ]
  },
  {
   "cell_type": "markdown",
   "id": "60d181d0",
   "metadata": {},
   "source": [
    "<pre>整合所有功能\n",
    "\n",
    "在使用上述函数时，我们将所有功能打包到load_corpus_time_machine函数中， 该函数返回corpus（词元索引列表）和vocab（时光机器语料库的词表）。 我们在这里所做的改变是：\n",
    "\n",
    "    为了简化后面章节中的训练，我们使用字符（而不是单词）实现文本词元化；\n",
    "\n",
    "    时光机器数据集中的每个文本行不一定是一个句子或一个段落，还可能是一个单词，因此返回的corpus仅处理为单个列表，而不是使用多词元列表构成的一个列表。\n"
   ]
  },
  {
   "cell_type": "code",
   "execution_count": 7,
   "id": "6d4be3d5",
   "metadata": {},
   "outputs": [
    {
     "data": {
      "text/plain": [
       "(170580, 28)"
      ]
     },
     "execution_count": 7,
     "metadata": {},
     "output_type": "execute_result"
    }
   ],
   "source": [
    "def load_corpus_time_machine(max_tokens=-1):  #@save\n",
    "    \"\"\"返回时光机器数据集的词元索引列表和词表\"\"\"\n",
    "    lines = read_time_machine()\n",
    "    tokens = tokenize(lines, 'char')\n",
    "    vocab = Vocab(tokens)\n",
    "    # 因为时光机器数据集中的每个文本行不一定是一个句子或一个段落，\n",
    "    # 所以将所有文本行展平到一个列表中\n",
    "    corpus = [vocab[token] for line in tokens for token in line]\n",
    "    #把字符编码成了数字，全文展平放入到一维list\n",
    "    if max_tokens > 0:\n",
    "        corpus = corpus[:max_tokens]\n",
    "    return corpus, vocab\n",
    "\n",
    "corpus, vocab = load_corpus_time_machine()\n",
    "len(corpus), len(vocab)\n"
   ]
  },
  {
   "cell_type": "markdown",
   "id": "57c6184d",
   "metadata": {},
   "source": [
    "小结\n",
    "\n",
    "    文本是序列数据的一种最常见的形式之一。\n",
    "\n",
    "    为了对文本进行预处理，我们通常将文本拆分为词元，构建词表将词元字符串映射为数字索引，并将文本数据转换为词元索引以供模型操作。\n"
   ]
  },
  {
   "cell_type": "markdown",
   "id": "76f3be86",
   "metadata": {},
   "source": []
  }
 ],
 "metadata": {
  "kernelspec": {
   "display_name": "pytorch",
   "language": "python",
   "name": "python3"
  },
  "language_info": {
   "codemirror_mode": {
    "name": "ipython",
    "version": 3
   },
   "file_extension": ".py",
   "mimetype": "text/x-python",
   "name": "python",
   "nbconvert_exporter": "python",
   "pygments_lexer": "ipython3",
   "version": "3.10.18"
  }
 },
 "nbformat": 4,
 "nbformat_minor": 5
}
