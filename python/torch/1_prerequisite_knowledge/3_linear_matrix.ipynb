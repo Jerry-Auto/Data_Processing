{
 "cells": [
  {
   "cell_type": "markdown",
   "id": "8a26a51a",
   "metadata": {},
   "source": [
    "介绍一些维度变换，线代矩阵运算的知识"
   ]
  },
  {
   "cell_type": "code",
   "execution_count": 1,
   "id": "38f662a7",
   "metadata": {},
   "outputs": [
    {
     "data": {
      "text/plain": [
       "(tensor([[ 0.,  1.,  2.,  3.],\n",
       "         [ 4.,  5.,  6.,  7.],\n",
       "         [ 8.,  9., 10., 11.],\n",
       "         [12., 13., 14., 15.],\n",
       "         [16., 17., 18., 19.]]),\n",
       " tensor([[ 0.,  1.,  2.,  3.],\n",
       "         [ 4.,  5.,  6.,  7.],\n",
       "         [ 8.,  9., 10., 11.],\n",
       "         [12., 13., 14., 15.],\n",
       "         [16., 17., 18., 19.]]),\n",
       " tensor([0., 1., 2., 3.]))"
      ]
     },
     "execution_count": 1,
     "metadata": {},
     "output_type": "execute_result"
    }
   ],
   "source": [
    "import torch\n",
    "A = torch.arange(20, dtype=torch.float32).reshape(5, 4)\n",
    "B = A.clone()  # 通过分配新内存，将A的一个副本分配给B\n",
    "x = torch.arange(4, dtype=torch.float32)\n",
    "A, B,x"
   ]
  },
  {
   "cell_type": "markdown",
   "id": "35a65107",
   "metadata": {},
   "source": [
    "降维  \n",
    "计算其元素的和sum  \n",
    "mean或average  "
   ]
  },
  {
   "cell_type": "code",
   "execution_count": 5,
   "id": "99785218",
   "metadata": {},
   "outputs": [
    {
     "data": {
      "text/plain": [
       "(torch.Size([4]), torch.Size([5, 4]), tensor(6.), tensor(190.))"
      ]
     },
     "execution_count": 5,
     "metadata": {},
     "output_type": "execute_result"
    }
   ],
   "source": [
    "x.shape,A.shape,x.sum(), A.sum()#降为标量"
   ]
  },
  {
   "cell_type": "markdown",
   "id": "8e0c60b1",
   "metadata": {},
   "source": [
    "指定张量沿哪一个轴来通过求和降低一个维度，即指定的维度会被压成一维消失掉"
   ]
  },
  {
   "cell_type": "code",
   "execution_count": 7,
   "id": "a0c56e8a",
   "metadata": {},
   "outputs": [
    {
     "data": {
      "text/plain": [
       "(tensor([40., 45., 50., 55.]), torch.Size([4]))"
      ]
     },
     "execution_count": 7,
     "metadata": {},
     "output_type": "execute_result"
    }
   ],
   "source": [
    "A_sum_axis0 = A.sum(axis=0)\n",
    "A_sum_axis0, A_sum_axis0.shape\n",
    "#轴0表示行，现在只有一行了，变成了行向量（1,4）"
   ]
  },
  {
   "cell_type": "code",
   "execution_count": 8,
   "id": "a4ff7cee",
   "metadata": {},
   "outputs": [
    {
     "data": {
      "text/plain": [
       "(tensor([ 6., 22., 38., 54., 70.]), torch.Size([5]))"
      ]
     },
     "execution_count": 8,
     "metadata": {},
     "output_type": "execute_result"
    }
   ],
   "source": [
    "A_sum_axis1 = A.sum(axis=1)\n",
    "A_sum_axis1, A_sum_axis1.shape\n",
    "#轴1表示列，现在只有一列了，变成了列向量（5,1）"
   ]
  },
  {
   "cell_type": "markdown",
   "id": "e98ad05c",
   "metadata": {},
   "source": [
    "非降维求和  \n",
    "广播机制要求维度相同，标量除外  \n",
    "keepdims保持维度"
   ]
  },
  {
   "cell_type": "code",
   "execution_count": 13,
   "id": "918fda20",
   "metadata": {},
   "outputs": [
    {
     "data": {
      "text/plain": [
       "(tensor([[ 6.],\n",
       "         [22.],\n",
       "         [38.],\n",
       "         [54.],\n",
       "         [70.]]),\n",
       " torch.Size([5, 1]))"
      ]
     },
     "execution_count": 13,
     "metadata": {},
     "output_type": "execute_result"
    }
   ],
   "source": [
    "sum_A = A.sum(axis=1, keepdims=True)\n",
    "sum_A,sum_A.shape"
   ]
  },
  {
   "cell_type": "code",
   "execution_count": 14,
   "id": "a62323b6",
   "metadata": {},
   "outputs": [
    {
     "data": {
      "text/plain": [
       "tensor([[0.0000, 0.1667, 0.3333, 0.5000],\n",
       "        [0.1818, 0.2273, 0.2727, 0.3182],\n",
       "        [0.2105, 0.2368, 0.2632, 0.2895],\n",
       "        [0.2222, 0.2407, 0.2593, 0.2778],\n",
       "        [0.2286, 0.2429, 0.2571, 0.2714]])"
      ]
     },
     "execution_count": 14,
     "metadata": {},
     "output_type": "execute_result"
    }
   ],
   "source": [
    "A / sum_A"
   ]
  },
  {
   "cell_type": "markdown",
   "id": "c71aee52",
   "metadata": {},
   "source": [
    "线性代数矩阵运算  \n",
    "向量点积  "
   ]
  },
  {
   "cell_type": "code",
   "execution_count": 15,
   "id": "456a3ba7",
   "metadata": {},
   "outputs": [
    {
     "data": {
      "text/plain": [
       "(tensor([0., 1., 2., 3.]), tensor([1., 1., 1., 1.]), tensor(6.))"
      ]
     },
     "execution_count": 15,
     "metadata": {},
     "output_type": "execute_result"
    }
   ],
   "source": [
    "y = torch.ones(4, dtype = torch.float32)\n",
    "x, y, torch.dot(x, y)"
   ]
  },
  {
   "cell_type": "code",
   "execution_count": 16,
   "id": "09d026c3",
   "metadata": {},
   "outputs": [
    {
     "data": {
      "text/plain": [
       "tensor(6.)"
      ]
     },
     "execution_count": 16,
     "metadata": {},
     "output_type": "execute_result"
    }
   ],
   "source": [
    "torch.sum(x * y)"
   ]
  },
  {
   "cell_type": "markdown",
   "id": "2de4816e",
   "metadata": {},
   "source": [
    "矩阵与向量相乘  \n",
    "把矩阵看作一个列向量，列向量的每一行都是行向量  \n",
    "行向量与被乘的向量作点积  \n",
    "要求矩阵列数与向量size(也是行向量)相同"
   ]
  },
  {
   "cell_type": "code",
   "execution_count": 18,
   "id": "51d74652",
   "metadata": {},
   "outputs": [
    {
     "data": {
      "text/plain": [
       "(torch.Size([5, 4]),\n",
       " torch.Size([4]),\n",
       " tensor([ 14.,  38.,  62.,  86., 110.]),\n",
       " torch.Size([5]))"
      ]
     },
     "execution_count": 18,
     "metadata": {},
     "output_type": "execute_result"
    }
   ],
   "source": [
    "A.shape, x.shape, torch.mv(A, x),torch.mv(A, x).shape"
   ]
  },
  {
   "cell_type": "markdown",
   "id": "d1a467a5",
   "metadata": {},
   "source": [
    "矩阵与矩阵的乘法  \n",
    "要求前面的列等于后面的行  \n",
    "可以把A看作列向量$\\begin{bmatrix} a1\\\\a2\\\\...\\\\am\\end{bmatrix}$，B看作行向量$\\begin{bmatrix} b1&b2&...&bn\\end{bmatrix}$  \n",
    "$C={\\left\\{a_i \\cdot b_j \\right\\}}_{m \\times n}$  "
   ]
  },
  {
   "cell_type": "code",
   "execution_count": 21,
   "id": "3870e6fa",
   "metadata": {},
   "outputs": [
    {
     "name": "stdout",
     "output_type": "stream",
     "text": [
      "tensor([[ 6.,  6.,  6.],\n",
      "        [22., 22., 22.],\n",
      "        [38., 38., 38.],\n",
      "        [54., 54., 54.],\n",
      "        [70., 70., 70.]])\n",
      "torch.Size([5, 4]) torch.Size([4, 3]) torch.Size([5, 3])\n"
     ]
    }
   ],
   "source": [
    "B = torch.ones(4, 3)\n",
    "C=torch.mm(A, B)\n",
    "print(C)\n",
    "print(A.shape,B.shape,C.shape)"
   ]
  },
  {
   "cell_type": "markdown",
   "id": "af1256fd",
   "metadata": {},
   "source": [
    "向量范数计算  \n",
    "距离，二范数  \n",
    "L1范数，绝对值再求和  \n",
    "还有P范数，(sum(abs(xi)^p))^(1/p) 需要自己搭建"
   ]
  },
  {
   "cell_type": "code",
   "execution_count": 22,
   "id": "93e20c0d",
   "metadata": {},
   "outputs": [
    {
     "data": {
      "text/plain": [
       "tensor(5.)"
      ]
     },
     "execution_count": 22,
     "metadata": {},
     "output_type": "execute_result"
    }
   ],
   "source": [
    "u = torch.tensor([3.0, -4.0])\n",
    "torch.norm(u)"
   ]
  },
  {
   "cell_type": "code",
   "execution_count": 23,
   "id": "e4000720",
   "metadata": {},
   "outputs": [
    {
     "data": {
      "text/plain": [
       "tensor(7.)"
      ]
     },
     "execution_count": 23,
     "metadata": {},
     "output_type": "execute_result"
    }
   ],
   "source": [
    "torch.abs(u).sum()#L1范数"
   ]
  },
  {
   "cell_type": "markdown",
   "id": "97b6b344",
   "metadata": {},
   "source": [
    "矩阵的Frobenius范数  \n",
    "矩阵元素平方和的平方根"
   ]
  },
  {
   "cell_type": "code",
   "execution_count": null,
   "id": "340f3ccb",
   "metadata": {},
   "outputs": [],
   "source": [
    "torch.norm(torch.ones((4, 9)))"
   ]
  }
 ],
 "metadata": {
  "kernelspec": {
   "display_name": "pytorch",
   "language": "python",
   "name": "python3"
  },
  "language_info": {
   "codemirror_mode": {
    "name": "ipython",
    "version": 3
   },
   "file_extension": ".py",
   "mimetype": "text/x-python",
   "name": "python",
   "nbconvert_exporter": "python",
   "pygments_lexer": "ipython3",
   "version": "3.10.18"
  }
 },
 "nbformat": 4,
 "nbformat_minor": 5
}
