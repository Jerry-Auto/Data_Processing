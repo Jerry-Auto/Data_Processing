{
 "cells": [
  {
   "cell_type": "markdown",
   "id": "7fbbdc98",
   "metadata": {},
   "source": [
    "使用pytorch框架实现简单的线性回归"
   ]
  },
  {
   "cell_type": "markdown",
   "id": "a74c7241",
   "metadata": {},
   "source": [
    "生成数据集"
   ]
  },
  {
   "cell_type": "code",
   "execution_count": 2,
   "id": "45d5c829",
   "metadata": {},
   "outputs": [],
   "source": [
    "import numpy as np\n",
    "import torch\n",
    "from torch.utils import data\n",
    "from d2l import torch as d2l\n",
    "\n",
    "true_w = torch.tensor([2, -3.4])\n",
    "true_b = 4.2\n",
    "features, labels = d2l.synthetic_data(true_w, true_b, 1000)#返回两个tensor"
   ]
  },
  {
   "cell_type": "markdown",
   "id": "7279971e",
   "metadata": {},
   "source": [
    "读取数据集  \n",
    "TensorDataset已实现了__len__() 和__getitem__() 方法  \n",
    "输入参数是两个，一个是features,一个是labels  \n",
    "*data_arrays 操作符会将 data_arrays 中的元素拆开，作为单独的参数传递给函数  \n",
    "\n",
    "Dataset、DataLoader：可迭代对象  \n",
    "\n",
    "<pre>\n",
    "DataLoader 如何实现迭代？\n",
    "    内部通过 _DataLoaderIter 类（C++ 加速的迭代器）管理数据加载逻辑。\n",
    "    每次调用 next(iter(dataloader)) 或 for batch in dataloader 时，DataLoader 会：\n",
    "        根据 batch_size 和 shuffle 参数生成一批索引。\n",
    "        调用 dataset.__getitem__(idx) 获取样本。\n",
    "        返回批处理后的数据（如 (batch_features, batch_labels)）。\n",
    "<pre>\n",
    "\n"
   ]
  },
  {
   "cell_type": "code",
   "execution_count": 3,
   "id": "1592f38f",
   "metadata": {},
   "outputs": [],
   "source": [
    "def load_array(data_arrays, batch_size, is_train=True):  #@save\n",
    "    \"\"\"构造一个PyTorch数据迭代器\"\"\"\n",
    "    dataset = data.TensorDataset(*data_arrays)\n",
    "    return data.DataLoader(dataset, batch_size, shuffle=is_train)\n",
    "\n",
    "batch_size = 10\n",
    "data_iter = load_array((features, labels), batch_size)\n"
   ]
  },
  {
   "cell_type": "code",
   "execution_count": 5,
   "id": "47e13ecd",
   "metadata": {},
   "outputs": [
    {
     "data": {
      "text/plain": [
       "[tensor([[ 0.1195, -1.4603],\n",
       "         [ 1.0013,  0.3880],\n",
       "         [ 1.8640, -0.3198],\n",
       "         [-0.2284,  0.3190],\n",
       "         [ 0.1474, -1.0273],\n",
       "         [ 0.8014, -0.3731],\n",
       "         [ 0.7791,  1.0599],\n",
       "         [-1.0130, -0.3225],\n",
       "         [-1.0240,  1.2463],\n",
       "         [-0.3934, -0.1403]]),\n",
       " tensor([[ 9.4022],\n",
       "         [ 4.8870],\n",
       "         [ 9.0043],\n",
       "         [ 2.6561],\n",
       "         [ 8.0050],\n",
       "         [ 7.0600],\n",
       "         [ 2.1685],\n",
       "         [ 3.2814],\n",
       "         [-2.1030],\n",
       "         [ 3.8872]])]"
      ]
     },
     "execution_count": 5,
     "metadata": {},
     "output_type": "execute_result"
    }
   ],
   "source": [
    "next(iter(data_iter))"
   ]
  },
  {
   "cell_type": "markdown",
   "id": "72f44994",
   "metadata": {},
   "source": [
    "定义模型  \n",
    "首先定义一个模型变量net，它是一个Sequential类的实例。   Sequential类将多个层串联在一起。   \n",
    "当给定输入数据时，Sequential实例将数据传入到第一层， 然后将第一层的输出作为第二层的输入，以此类推。  \n",
    "全连接层在Linear类中定义，需要将两个参数传递到nn.Linear中。  \n",
    "第一个指定输入特征形状，即2，第二个指定输出特征形状，输出特征形状为单个标量，因此为1"
   ]
  },
  {
   "cell_type": "code",
   "execution_count": null,
   "id": "a1f77501",
   "metadata": {},
   "outputs": [],
   "source": [
    "# nn是神经网络的缩写\n",
    "from torch import nn\n",
    "net = nn.Sequential(nn.Linear(2, 1))"
   ]
  },
  {
   "cell_type": "markdown",
   "id": "ab3076af",
   "metadata": {},
   "source": [
    "初始化模型参数  \n",
    "能直接访问定义好的模型的参数以设定它们的初始值  \n",
    "通过net[0]选择网络中的第一个图层， 然后使用weight.data和bias.data方法访问参数  \n",
    "还可以使用替换方法normal_和fill_来重写参数值"
   ]
  },
  {
   "cell_type": "code",
   "execution_count": 5,
   "id": "e448c627",
   "metadata": {},
   "outputs": [
    {
     "data": {
      "text/plain": [
       "tensor([0.])"
      ]
     },
     "execution_count": 5,
     "metadata": {},
     "output_type": "execute_result"
    }
   ],
   "source": [
    "net[0].weight.data.normal_(0, 0.01)\n",
    "net[0].bias.data.fill_(0)\n"
   ]
  },
  {
   "cell_type": "markdown",
   "id": "a03474b7",
   "metadata": {},
   "source": [
    "定义损失函数  \n",
    "定义优化算法  \n",
    "实例化一个SGD实例时，我们要指定优化的参数 （可通过net.parameters()从我们的模型中获得）以及优化算法所需的超参数字典\n"
   ]
  },
  {
   "cell_type": "code",
   "execution_count": 6,
   "id": "ab552803",
   "metadata": {},
   "outputs": [],
   "source": [
    "loss = nn.MSELoss()\n",
    "trainer = torch.optim.SGD(net.parameters(), lr=0.03)"
   ]
  },
  {
   "cell_type": "markdown",
   "id": "d6fa69ce",
   "metadata": {},
   "source": [
    "训练  \n",
    "在每个迭代周期里，我们将完整遍历一次数据集（train_data）， 不停地从中获取一个小批量的输入和相应的标签。  \n",
    "对于每一个小批量，我们会进行以下步骤:\n",
    "<pre>\n",
    "    通过调用net(X)生成预测并计算损失l（前向传播）。  \n",
    "    通过进行反向传播来计算梯度。  \n",
    "    通过调用优化器来更新模型参数。\n",
    "<pre>\n"
   ]
  },
  {
   "cell_type": "code",
   "execution_count": 7,
   "id": "42acd1cd",
   "metadata": {},
   "outputs": [
    {
     "name": "stdout",
     "output_type": "stream",
     "text": [
      "epoch 1, loss 0.000177\n",
      "epoch 2, loss 0.000105\n",
      "epoch 3, loss 0.000104\n"
     ]
    }
   ],
   "source": [
    "num_epochs = 3\n",
    "for epoch in range(num_epochs):\n",
    "    for X, y in data_iter:\n",
    "        l = loss(net(X) ,y)\n",
    "        trainer.zero_grad()\n",
    "        l.backward()\n",
    "        trainer.step()\n",
    "    l = loss(net(features), labels)\n",
    "    print(f'epoch {epoch + 1}, loss {l:f}')\n"
   ]
  },
  {
   "cell_type": "code",
   "execution_count": 8,
   "id": "6f97d30f",
   "metadata": {},
   "outputs": [
    {
     "name": "stdout",
     "output_type": "stream",
     "text": [
      "w的估计误差： tensor([-0.0008,  0.0003])\n",
      "b的估计误差： tensor([0.0005])\n"
     ]
    }
   ],
   "source": [
    "w = net[0].weight.data\n",
    "print('w的估计误差：', true_w - w.reshape(true_w.shape))\n",
    "b = net[0].bias.data\n",
    "print('b的估计误差：', true_b - b)\n"
   ]
  },
  {
   "cell_type": "code",
   "execution_count": null,
   "id": "c733c235",
   "metadata": {},
   "outputs": [],
   "source": []
  }
 ],
 "metadata": {
  "kernelspec": {
   "display_name": "pytorch",
   "language": "python",
   "name": "python3"
  },
  "language_info": {
   "codemirror_mode": {
    "name": "ipython",
    "version": 3
   },
   "file_extension": ".py",
   "mimetype": "text/x-python",
   "name": "python",
   "nbconvert_exporter": "python",
   "pygments_lexer": "ipython3",
   "version": "3.10.18"
  }
 },
 "nbformat": 4,
 "nbformat_minor": 5
}
