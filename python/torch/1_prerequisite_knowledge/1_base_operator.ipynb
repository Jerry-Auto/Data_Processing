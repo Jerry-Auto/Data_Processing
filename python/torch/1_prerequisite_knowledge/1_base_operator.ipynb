{
 "cells": [
  {
   "cell_type": "markdown",
   "id": "46ffbb3a",
   "metadata": {},
   "source": [
    "介绍一些tensor的基础操作"
   ]
  },
  {
   "cell_type": "code",
   "execution_count": 1,
   "id": "33b3b1de",
   "metadata": {},
   "outputs": [
    {
     "data": {
      "text/plain": [
       "tensor([[1., 2.],\n",
       "        [3., 4.],\n",
       "        [5., 6.]], device='cuda:0', dtype=torch.float64)"
      ]
     },
     "execution_count": 1,
     "metadata": {},
     "output_type": "execute_result"
    }
   ],
   "source": [
    "import torch\n",
    "import numpy as np\n",
    "a=torch.tensor([[1,2],[3,4],[5,6]],dtype=torch.float64, device=\"cuda:0\")\n",
    "a"
   ]
  },
  {
   "cell_type": "code",
   "execution_count": 2,
   "id": "74821a9e",
   "metadata": {},
   "outputs": [
    {
     "name": "stdout",
     "output_type": "stream",
     "text": [
      "torch.Size([3, 2])\n",
      "torch.Size([3, 2])\n"
     ]
    }
   ],
   "source": [
    "print(a.size())\n",
    "print(a.shape)\n"
   ]
  },
  {
   "cell_type": "code",
   "execution_count": 3,
   "id": "581ec6ca",
   "metadata": {},
   "outputs": [
    {
     "data": {
      "text/plain": [
       "6"
      ]
     },
     "execution_count": 3,
     "metadata": {},
     "output_type": "execute_result"
    }
   ],
   "source": [
    "a.numel()#元素总数"
   ]
  },
  {
   "cell_type": "code",
   "execution_count": 4,
   "id": "d5501469",
   "metadata": {},
   "outputs": [
    {
     "data": {
      "text/plain": [
       "tensor([[1., 2., 3.],\n",
       "        [4., 5., 6.]], device='cuda:0', dtype=torch.float64)"
      ]
     },
     "execution_count": 4,
     "metadata": {},
     "output_type": "execute_result"
    }
   ],
   "source": [
    "a.reshape(-1,3)"
   ]
  },
  {
   "cell_type": "code",
   "execution_count": 5,
   "id": "6e3583e2",
   "metadata": {},
   "outputs": [
    {
     "data": {
      "text/plain": [
       "tensor([[0., 0.],\n",
       "        [0., 0.],\n",
       "        [0., 0.]])"
      ]
     },
     "execution_count": 5,
     "metadata": {},
     "output_type": "execute_result"
    }
   ],
   "source": [
    "zeros=torch.zeros((3,2))\n",
    "zeros"
   ]
  },
  {
   "cell_type": "markdown",
   "id": "9f9cda28",
   "metadata": {},
   "source": [
    "torch.randn((a,b))：生成服从标准正态分布（均值为0，标准差为1）且形状为(a,b)的随机张量   \n",
    "torch.rand(a, b)：生成服从均匀分布（范围在[0, 1)）且形状为(a,b)的随机数,等价于torch.rand((a, b))"
   ]
  },
  {
   "cell_type": "code",
   "execution_count": 6,
   "id": "93b76eb9",
   "metadata": {},
   "outputs": [
    {
     "data": {
      "text/plain": [
       "(tensor([[ 0.3075, -0.1424],\n",
       "         [ 1.7530,  0.2687],\n",
       "         [ 2.1185, -0.7891]]),\n",
       " tensor([[0.3595, 0.6859],\n",
       "         [0.5314, 0.7214],\n",
       "         [0.2623, 0.2231]]))"
      ]
     },
     "execution_count": 6,
     "metadata": {},
     "output_type": "execute_result"
    }
   ],
   "source": [
    "rdm=torch.randn((3,2))\n",
    "rdu=torch.rand(3,2)\n",
    "rdm,rdu"
   ]
  },
  {
   "cell_type": "code",
   "execution_count": 7,
   "id": "aec3a3f3",
   "metadata": {},
   "outputs": [
    {
     "data": {
      "text/plain": [
       "tensor(-0.1424)"
      ]
     },
     "execution_count": 7,
     "metadata": {},
     "output_type": "execute_result"
    }
   ],
   "source": [
    "rdm[0,1]"
   ]
  },
  {
   "cell_type": "code",
   "execution_count": 8,
   "id": "8e643d72",
   "metadata": {},
   "outputs": [
    {
     "data": {
      "text/plain": [
       "tensor([[ 3.0750e-01,  8.8800e+02],\n",
       "        [ 1.7530e+00,  2.6873e-01],\n",
       "        [ 2.1185e+00, -7.8905e-01]])"
      ]
     },
     "execution_count": 8,
     "metadata": {},
     "output_type": "execute_result"
    }
   ],
   "source": [
    "rdm[0,1]=888\n",
    "rdm"
   ]
  },
  {
   "cell_type": "markdown",
   "id": "47c7b72c",
   "metadata": {},
   "source": [
    "使用赋值符号相当于C++里面的引用，共用同一份数据，使用clone创建副本"
   ]
  },
  {
   "cell_type": "code",
   "execution_count": 9,
   "id": "86ea13bd",
   "metadata": {},
   "outputs": [
    {
     "name": "stdout",
     "output_type": "stream",
     "text": [
      "tensor([[3.0750e-01, 8.8800e+02]])\n",
      "tensor([[3.0750e-01, 8.8800e+02]])\n"
     ]
    }
   ],
   "source": [
    "ref=rdm[:1,:]\n",
    "copy=rdm[:1,:].clone()\n",
    "print(ref)\n",
    "print(copy)\n",
    "ref[0,1]=666\n",
    "copy[0,1]=55"
   ]
  },
  {
   "cell_type": "code",
   "execution_count": 10,
   "id": "e7e79865",
   "metadata": {},
   "outputs": [
    {
     "data": {
      "text/plain": [
       "tensor([[ 3.0750e-01,  6.6600e+02],\n",
       "        [ 1.7530e+00,  2.6873e-01],\n",
       "        [ 2.1185e+00, -7.8905e-01]])"
      ]
     },
     "execution_count": 10,
     "metadata": {},
     "output_type": "execute_result"
    }
   ],
   "source": [
    "rdm"
   ]
  },
  {
   "cell_type": "markdown",
   "id": "0fde0e22",
   "metadata": {},
   "source": [
    "切片，可以用[-1]选择最后一个元素  \n",
    "为多个元素赋值相同的值，我们只需要索引所有元素，然后为它们赋值"
   ]
  },
  {
   "cell_type": "code",
   "execution_count": 11,
   "id": "7e8feb07",
   "metadata": {},
   "outputs": [
    {
     "name": "stdout",
     "output_type": "stream",
     "text": [
      "tensor([ 2.1185, -0.7891])\n"
     ]
    },
    {
     "data": {
      "text/plain": [
       "tensor([[10.0000, 10.0000],\n",
       "        [ 1.7530,  0.2687],\n",
       "        [ 2.1185, -0.7891]])"
      ]
     },
     "execution_count": 11,
     "metadata": {},
     "output_type": "execute_result"
    }
   ],
   "source": [
    "print(rdm[-1])\n",
    "rdm[0,:]=10\n",
    "rdm"
   ]
  },
  {
   "cell_type": "markdown",
   "id": "d71d3cf8",
   "metadata": {},
   "source": [
    "Tensor可以和numpy的ndarray互转"
   ]
  },
  {
   "cell_type": "code",
   "execution_count": 12,
   "id": "54bd0203",
   "metadata": {},
   "outputs": [
    {
     "data": {
      "text/plain": [
       "array([[10.       , 10.       ],\n",
       "       [ 1.7529708,  0.2687299],\n",
       "       [ 2.1185024, -0.7890515]], dtype=float32)"
      ]
     },
     "execution_count": 12,
     "metadata": {},
     "output_type": "execute_result"
    }
   ],
   "source": [
    "np_rdm=rdm.numpy()\n",
    "np_rdm"
   ]
  },
  {
   "cell_type": "code",
   "execution_count": 13,
   "id": "e2ab1029",
   "metadata": {},
   "outputs": [
    {
     "data": {
      "text/plain": [
       "array([[ 0,  1,  2,  3],\n",
       "       [ 4,  5,  6,  7],\n",
       "       [ 8,  9, 10, 11]])"
      ]
     },
     "execution_count": 13,
     "metadata": {},
     "output_type": "execute_result"
    }
   ],
   "source": [
    "np_a=np.arange(12).reshape((3,4))\n",
    "np_a"
   ]
  },
  {
   "cell_type": "markdown",
   "id": "6559b86f",
   "metadata": {},
   "source": [
    "共享内存的互转"
   ]
  },
  {
   "cell_type": "code",
   "execution_count": 14,
   "id": "2160df12",
   "metadata": {},
   "outputs": [
    {
     "data": {
      "text/plain": [
       "tensor([[ 0,  1,  2,  3],\n",
       "        [ 4,  5,  6,  7],\n",
       "        [ 8,  9, 10, 11]])"
      ]
     },
     "execution_count": 14,
     "metadata": {},
     "output_type": "execute_result"
    }
   ],
   "source": [
    "ts_a=torch.from_numpy(np_a)#Tensor 与 NumPy 数组共享内存（修改一方会影响另一方）\n",
    "ts_a"
   ]
  },
  {
   "cell_type": "code",
   "execution_count": 15,
   "id": "9d8cf26c",
   "metadata": {},
   "outputs": [
    {
     "data": {
      "text/plain": [
       "(numpy.ndarray, torch.Tensor, torch.Tensor)"
      ]
     },
     "execution_count": 15,
     "metadata": {},
     "output_type": "execute_result"
    }
   ],
   "source": [
    "np_ref=rdm.numpy()\n",
    "ts_ref=torch.as_tensor(np_ref)#接受更多输入类型（如列表、其他 Tensor）\n",
    "ts_copy=torch.tensor(np_ref)# 复制数据，生成独立 Tensor,不共享内存‌\n",
    "type(np_ref),type(ts_copy),type(ts_ref)"
   ]
  },
  {
   "cell_type": "code",
   "execution_count": 16,
   "id": "87d437c3",
   "metadata": {},
   "outputs": [
    {
     "name": "stdout",
     "output_type": "stream",
     "text": [
      "tensor([[10.0000, 10.0000],\n",
      "        [ 1.7530,  0.2687],\n",
      "        [ 2.1185, -0.7891]])\n",
      "[[10.         5.       ]\n",
      " [ 1.7529708  5.       ]\n",
      " [ 2.1185024  5.       ]]\n",
      "tensor([[10.0000,  5.0000],\n",
      "        [ 1.7530,  5.0000],\n",
      "        [ 2.1185,  5.0000]])\n",
      "tensor([[10.0000, 10.0000],\n",
      "        [ 1.7530,  0.2687],\n",
      "        [ 2.1185, -0.7891]])\n"
     ]
    }
   ],
   "source": [
    "print(rdm)\n",
    "rdm[:,1]=5\n",
    "print(np_ref)\n",
    "print(ts_ref)\n",
    "print(ts_copy)"
   ]
  },
  {
   "cell_type": "markdown",
   "id": "aef38dab",
   "metadata": {},
   "source": [
    "使用 torchvision.transforms  \n",
    "将 NumPy 格式的图片（HWC 格式，值域 [0, 255]）转换为 Tensor（CHW 格式，值域 [0.0, 1.0]"
   ]
  },
  {
   "cell_type": "code",
   "execution_count": 17,
   "id": "23550d08",
   "metadata": {},
   "outputs": [
    {
     "data": {
      "text/plain": [
       "torch.Size([4, 275, 976])"
      ]
     },
     "execution_count": 17,
     "metadata": {},
     "output_type": "execute_result"
    }
   ],
   "source": [
    "from PIL import Image\n",
    "from torchvision import transforms\n",
    " \n",
    "img = Image.open(\"image.jpg\")  # PIL.Image 对象 （H,W,C）\n",
    "tensor_trans = transforms.ToTensor()\n",
    "tensor_img = tensor_trans(img)  # 转为 Tensor (C, H, W)\n",
    "tensor_img.shape"
   ]
  },
  {
   "cell_type": "markdown",
   "id": "d143207c",
   "metadata": {},
   "source": [
    "tensor计算\n",
    "张量加法有两种形式，一种是直接使用加号，另一种使用torch.add方法"
   ]
  },
  {
   "cell_type": "code",
   "execution_count": 18,
   "id": "0acc6a22",
   "metadata": {},
   "outputs": [
    {
     "data": {
      "text/plain": [
       "tensor([[-0.0782,  0.0381, -1.6843,  2.2875],\n",
       "        [-0.0794,  2.1358,  1.2830,  0.1828],\n",
       "        [-0.1891, -2.3499, -0.8752,  0.5585]])"
      ]
     },
     "execution_count": 18,
     "metadata": {},
     "output_type": "execute_result"
    }
   ],
   "source": [
    "ts_b=torch.randn((3,4))\n",
    "ts_b"
   ]
  },
  {
   "cell_type": "code",
   "execution_count": 19,
   "id": "26828745",
   "metadata": {},
   "outputs": [
    {
     "data": {
      "text/plain": [
       "tensor([[-0.0782,  1.0381,  0.3157,  5.2875],\n",
       "        [ 3.9206,  7.1358,  7.2830,  7.1828],\n",
       "        [ 7.8109,  6.6501,  9.1248, 11.5585]])"
      ]
     },
     "execution_count": 19,
     "metadata": {},
     "output_type": "execute_result"
    }
   ],
   "source": [
    "ts_a+ts_b"
   ]
  },
  {
   "cell_type": "code",
   "execution_count": 20,
   "id": "3442fb86",
   "metadata": {},
   "outputs": [
    {
     "data": {
      "text/plain": [
       "tensor([[-0.0782,  1.0381,  0.3157,  5.2875],\n",
       "        [ 3.9206,  7.1358,  7.2830,  7.1828],\n",
       "        [ 7.8109,  6.6501,  9.1248, 11.5585]])"
      ]
     },
     "execution_count": 20,
     "metadata": {},
     "output_type": "execute_result"
    }
   ],
   "source": [
    "torch.add(ts_a,ts_b)"
   ]
  },
  {
   "cell_type": "markdown",
   "id": "bba9479c",
   "metadata": {},
   "source": [
    "广播broadcast,标量与tensor加减法，会把标量扩张为tensor的维度，然后再逐个元素加减"
   ]
  },
  {
   "cell_type": "code",
   "execution_count": 21,
   "id": "fef6366a",
   "metadata": {},
   "outputs": [
    {
     "data": {
      "text/plain": [
       "tensor([[ 5,  6,  7,  8],\n",
       "        [ 9, 10, 11, 12],\n",
       "        [13, 14, 15, 16]])"
      ]
     },
     "execution_count": 21,
     "metadata": {},
     "output_type": "execute_result"
    }
   ],
   "source": [
    "ts_a+5"
   ]
  },
  {
   "cell_type": "code",
   "execution_count": 22,
   "id": "cfed65dc",
   "metadata": {},
   "outputs": [
    {
     "data": {
      "text/plain": [
       "tensor([[2, 3, 4, 5]])"
      ]
     },
     "execution_count": 22,
     "metadata": {},
     "output_type": "execute_result"
    }
   ],
   "source": [
    "ts_row=torch.from_numpy(np.arange(2,6).reshape(1,4))\n",
    "ts_row"
   ]
  },
  {
   "cell_type": "markdown",
   "id": "af207583",
   "metadata": {},
   "source": [
    "矩阵运算，矩阵乘行向量，运算不同于线性代数，这里的计算是针对元素的，要求列数相同，左乘右乘完全相同  \n",
    "相当于把向量作了广播变成两个形状相同的tensor，再进行计算  \n",
    "广播机制要求维度相同，标量除外 "
   ]
  },
  {
   "cell_type": "code",
   "execution_count": 23,
   "id": "ca475aa9",
   "metadata": {},
   "outputs": [
    {
     "name": "stdout",
     "output_type": "stream",
     "text": [
      "torch.Size([3, 4])\n",
      "tensor([[ 0,  1,  2,  3],\n",
      "        [ 4,  5,  6,  7],\n",
      "        [ 8,  9, 10, 11]])\n",
      "torch.Size([1, 4])\n",
      "tensor([[2, 3, 4, 5]])\n"
     ]
    }
   ],
   "source": [
    "print(ts_a.shape)\n",
    "print(ts_a)\n",
    "print(ts_row.shape)\n",
    "print(ts_row)"
   ]
  },
  {
   "cell_type": "code",
   "execution_count": 24,
   "id": "6764d20a",
   "metadata": {},
   "outputs": [
    {
     "data": {
      "text/plain": [
       "tensor([[ 0,  3,  8, 15],\n",
       "        [ 8, 15, 24, 35],\n",
       "        [16, 27, 40, 55]])"
      ]
     },
     "execution_count": 24,
     "metadata": {},
     "output_type": "execute_result"
    }
   ],
   "source": [
    "ts_a*ts_row"
   ]
  },
  {
   "cell_type": "code",
   "execution_count": 25,
   "id": "25afa235",
   "metadata": {},
   "outputs": [
    {
     "data": {
      "text/plain": [
       "tensor([[ 0,  3,  8, 15],\n",
       "        [ 8, 15, 24, 35],\n",
       "        [16, 27, 40, 55]])"
      ]
     },
     "execution_count": 25,
     "metadata": {},
     "output_type": "execute_result"
    }
   ],
   "source": [
    "ts_row*ts_a"
   ]
  },
  {
   "cell_type": "markdown",
   "id": "7af9d791",
   "metadata": {},
   "source": [
    "矩阵与列向量，要求行数相同，左乘右乘完全相同  \n",
    "相当于把向量作了广播变成两个形状相同的tensor，再进行计算"
   ]
  },
  {
   "cell_type": "code",
   "execution_count": 26,
   "id": "d88c1542",
   "metadata": {},
   "outputs": [
    {
     "data": {
      "text/plain": [
       "tensor([[0],\n",
       "        [1],\n",
       "        [2]])"
      ]
     },
     "execution_count": 26,
     "metadata": {},
     "output_type": "execute_result"
    }
   ],
   "source": [
    "ts_vec=torch.arange(3).reshape(3,1)\n",
    "ts_vec"
   ]
  },
  {
   "cell_type": "code",
   "execution_count": 27,
   "id": "d85e1981",
   "metadata": {},
   "outputs": [
    {
     "name": "stdout",
     "output_type": "stream",
     "text": [
      "torch.Size([3, 4])\n",
      "tensor([[ 0,  1,  2,  3],\n",
      "        [ 4,  5,  6,  7],\n",
      "        [ 8,  9, 10, 11]])\n",
      "torch.Size([3, 1])\n",
      "tensor([[0],\n",
      "        [1],\n",
      "        [2]])\n"
     ]
    }
   ],
   "source": [
    "print(ts_a.shape)\n",
    "print(ts_a)\n",
    "print(ts_vec.shape)\n",
    "print(ts_vec)"
   ]
  },
  {
   "cell_type": "code",
   "execution_count": 28,
   "id": "a236dd38",
   "metadata": {},
   "outputs": [
    {
     "data": {
      "text/plain": [
       "tensor([[ 0,  0,  0,  0],\n",
       "        [ 4,  5,  6,  7],\n",
       "        [16, 18, 20, 22]])"
      ]
     },
     "execution_count": 28,
     "metadata": {},
     "output_type": "execute_result"
    }
   ],
   "source": [
    "ts_a*ts_vec"
   ]
  },
  {
   "cell_type": "code",
   "execution_count": 29,
   "id": "2898e9f9",
   "metadata": {},
   "outputs": [
    {
     "data": {
      "text/plain": [
       "tensor([[ 0,  0,  0,  0],\n",
       "        [ 4,  5,  6,  7],\n",
       "        [16, 18, 20, 22]])"
      ]
     },
     "execution_count": 29,
     "metadata": {},
     "output_type": "execute_result"
    }
   ],
   "source": [
    "ts_vec*ts_a"
   ]
  },
  {
   "cell_type": "markdown",
   "id": "c3d2eaf4",
   "metadata": {},
   "source": [
    "更一般化的广播机制,把两个不同的行列向量分别在长度为1的轴上进行扩展，最终得到两个形状相同的张量，再进行计算"
   ]
  },
  {
   "cell_type": "code",
   "execution_count": 30,
   "id": "518fe72d",
   "metadata": {},
   "outputs": [
    {
     "data": {
      "text/plain": [
       "(tensor([[0],\n",
       "         [1],\n",
       "         [2]]),\n",
       " tensor([[0, 1]]),\n",
       " tensor([[0, 1],\n",
       "         [1, 2],\n",
       "         [2, 3]]))"
      ]
     },
     "execution_count": 30,
     "metadata": {},
     "output_type": "execute_result"
    }
   ],
   "source": [
    "a = torch.arange(3).reshape((3, 1))\n",
    "b = torch.arange(2).reshape((1, 2))\n",
    "a, b,a + b\n"
   ]
  },
  {
   "cell_type": "markdown",
   "id": "bdb688c6",
   "metadata": {},
   "source": [
    "矩阵相乘，要求形状相同，左乘右乘完全相同"
   ]
  },
  {
   "cell_type": "code",
   "execution_count": 31,
   "id": "4d5800b4",
   "metadata": {},
   "outputs": [
    {
     "data": {
      "text/plain": [
       "tensor([[ 2,  3,  4,  5],\n",
       "        [ 6,  7,  8,  9],\n",
       "        [10, 11, 12, 13]])"
      ]
     },
     "execution_count": 31,
     "metadata": {},
     "output_type": "execute_result"
    }
   ],
   "source": [
    "ts_matrix=torch.from_numpy(np.arange(2,14).reshape(3,4))\n",
    "ts_matrix"
   ]
  },
  {
   "cell_type": "code",
   "execution_count": 32,
   "id": "7dd3461b",
   "metadata": {},
   "outputs": [
    {
     "name": "stdout",
     "output_type": "stream",
     "text": [
      "torch.Size([3, 4])\n",
      "tensor([[ 0,  1,  2,  3],\n",
      "        [ 4,  5,  6,  7],\n",
      "        [ 8,  9, 10, 11]])\n",
      "torch.Size([3, 4])\n",
      "tensor([[ 2,  3,  4,  5],\n",
      "        [ 6,  7,  8,  9],\n",
      "        [10, 11, 12, 13]])\n"
     ]
    }
   ],
   "source": [
    "print(ts_a.shape)\n",
    "print(ts_a)\n",
    "print(ts_matrix.shape)\n",
    "print(ts_matrix)\n"
   ]
  },
  {
   "cell_type": "code",
   "execution_count": 33,
   "id": "18fa0930",
   "metadata": {},
   "outputs": [
    {
     "data": {
      "text/plain": [
       "tensor([[  0,   3,   8,  15],\n",
       "        [ 24,  35,  48,  63],\n",
       "        [ 80,  99, 120, 143]])"
      ]
     },
     "execution_count": 33,
     "metadata": {},
     "output_type": "execute_result"
    }
   ],
   "source": [
    "ts_a*ts_matrix"
   ]
  },
  {
   "cell_type": "code",
   "execution_count": 34,
   "id": "10defc7c",
   "metadata": {},
   "outputs": [
    {
     "data": {
      "text/plain": [
       "tensor([[  0,   3,   8,  15],\n",
       "        [ 24,  35,  48,  63],\n",
       "        [ 80,  99, 120, 143]])"
      ]
     },
     "execution_count": 34,
     "metadata": {},
     "output_type": "execute_result"
    }
   ],
   "source": [
    "ts_matrix*ts_a"
   ]
  },
  {
   "cell_type": "code",
   "execution_count": 35,
   "id": "8780bc9b",
   "metadata": {},
   "outputs": [
    {
     "data": {
      "text/plain": [
       "(tensor([ 3.,  4.,  6., 10.]),\n",
       " tensor([-1.,  0.,  2.,  6.]),\n",
       " tensor([ 2.,  4.,  8., 16.]),\n",
       " tensor([0.5000, 1.0000, 2.0000, 4.0000]),\n",
       " tensor([ 1.,  4., 16., 64.]))"
      ]
     },
     "execution_count": 35,
     "metadata": {},
     "output_type": "execute_result"
    }
   ],
   "source": [
    "x = torch.tensor([1.0, 2, 4, 8])\n",
    "y = torch.tensor([2, 2, 2, 2])\n",
    "x + y, x - y, x * y, x / y, x ** y  # **运算符是求幂运算"
   ]
  },
  {
   "cell_type": "markdown",
   "id": "d152861f",
   "metadata": {},
   "source": [
    "reshape方法，还有一个view方法有一样的效果  \n",
    "连续张量指的是张量的数据在内存中是连续存储的，没有间隔。也就是说，从第一个元素到最后一个元素，内存地址是连续的，没有跳跃。  \n",
    "例如，经过转置（transpose(0,1)）的二维张量，其逻辑形状是 [M, N]，但物理存储仍按原始顺序 [N, M] 排列，导致访问时需要跳过其他行的数据，无法直接连续读取  \n",
    "view()：严格要求输入张量是连续的。若张量非连续（如通过transpose()、permute()等操作后），调用view()会抛出RuntimeError  \n",
    "reshape()：自动处理非连续张量。若输入非连续，reshape()会隐式复制数据，生成一个新的连续张量，再调整形状，连续输入 → 返回视图（无数据复制）。 "
   ]
  },
  {
   "cell_type": "code",
   "execution_count": 36,
   "id": "44d4ad8b",
   "metadata": {},
   "outputs": [
    {
     "data": {
      "text/plain": [
       "tensor([[ 0.6495, -0.5686,  0.7608,  1.0031, -0.2733,  0.2965, -0.8959,  0.1429,\n",
       "         -0.8522, -1.0628,  1.5034, -1.4683],\n",
       "        [-1.0319,  2.0175, -0.7632,  0.5477, -0.6755,  0.7788,  1.2398,  0.5464,\n",
       "         -1.7496,  1.4107,  0.0569,  0.2638],\n",
       "        [ 0.7847, -0.5050, -0.1641,  0.0794,  0.3567, -0.7263,  1.7505, -1.3797,\n",
       "         -0.6402,  1.2280,  0.0823, -1.4060],\n",
       "        [ 1.1185,  0.5151, -0.0588, -0.8571, -0.6396,  0.8989, -2.2318,  1.0868,\n",
       "         -0.4226,  0.2629,  0.1378,  1.7286]])"
      ]
     },
     "execution_count": 36,
     "metadata": {},
     "output_type": "execute_result"
    }
   ],
   "source": [
    "x = torch.randn(6, 8)\n",
    "y=x.view(-1,12)#负1表示这一个维度通过推断得到。\n",
    "y"
   ]
  },
  {
   "cell_type": "code",
   "execution_count": 37,
   "id": "4e114a65",
   "metadata": {},
   "outputs": [
    {
     "data": {
      "text/plain": [
       "tensor([ 0.6495, -0.5686,  0.7608,  1.0031, -0.2733,  0.2965, -0.8959,  0.1429,\n",
       "        -0.8522, -1.0628,  1.5034, -1.4683, -1.0319,  2.0175, -0.7632,  0.5477,\n",
       "        -0.6755,  0.7788,  1.2398,  0.5464, -1.7496,  1.4107,  0.0569,  0.2638,\n",
       "         0.7847, -0.5050, -0.1641,  0.0794,  0.3567, -0.7263,  1.7505, -1.3797,\n",
       "        -0.6402,  1.2280,  0.0823, -1.4060,  1.1185,  0.5151, -0.0588, -0.8571,\n",
       "        -0.6396,  0.8989, -2.2318,  1.0868, -0.4226,  0.2629,  0.1378,  1.7286])"
      ]
     },
     "execution_count": 37,
     "metadata": {},
     "output_type": "execute_result"
    }
   ],
   "source": [
    "z=y.view(48)\n",
    "z"
   ]
  },
  {
   "cell_type": "code",
   "execution_count": 38,
   "id": "437eaf0b",
   "metadata": {},
   "outputs": [
    {
     "data": {
      "text/plain": [
       "tensor([[ 0.6495, -0.5686,  0.7608,  1.0031, -0.2733,  0.2965, -0.8959,  0.1429,\n",
       "         -0.8522, -1.0628,  1.5034, -1.4683],\n",
       "        [-1.0319,  2.0175, -0.7632,  0.5477, -0.6755,  0.7788,  1.2398,  0.5464,\n",
       "         -1.7496,  1.4107,  0.0569,  0.2638],\n",
       "        [ 0.7847, -0.5050, -0.1641,  0.0794,  0.3567, -0.7263,  1.7505, -1.3797,\n",
       "         -0.6402,  1.2280,  0.0823, -1.4060],\n",
       "        [ 1.1185,  0.5151, -0.0588, -0.8571, -0.6396,  0.8989, -2.2318,  1.0868,\n",
       "         -0.4226,  0.2629,  0.1378,  1.7286]])"
      ]
     },
     "execution_count": 38,
     "metadata": {},
     "output_type": "execute_result"
    }
   ],
   "source": [
    "y=x.reshape(-1,12)\n",
    "y"
   ]
  },
  {
   "cell_type": "code",
   "execution_count": 39,
   "id": "f0e9df88",
   "metadata": {},
   "outputs": [
    {
     "data": {
      "text/plain": [
       "tensor([ 0.6495, -0.5686,  0.7608,  1.0031, -0.2733,  0.2965, -0.8959,  0.1429,\n",
       "        -0.8522, -1.0628,  1.5034, -1.4683, -1.0319,  2.0175, -0.7632,  0.5477,\n",
       "        -0.6755,  0.7788,  1.2398,  0.5464, -1.7496,  1.4107,  0.0569,  0.2638,\n",
       "         0.7847, -0.5050, -0.1641,  0.0794,  0.3567, -0.7263,  1.7505, -1.3797,\n",
       "        -0.6402,  1.2280,  0.0823, -1.4060,  1.1185,  0.5151, -0.0588, -0.8571,\n",
       "        -0.6396,  0.8989, -2.2318,  1.0868, -0.4226,  0.2629,  0.1378,  1.7286])"
      ]
     },
     "execution_count": 39,
     "metadata": {},
     "output_type": "execute_result"
    }
   ],
   "source": [
    "z=y.reshape(48)\n",
    "z"
   ]
  },
  {
   "cell_type": "markdown",
   "id": "f4790325",
   "metadata": {},
   "source": [
    "torch.clamp(data,min,max)  \n",
    "将data里面的所有数值限定到[min,max]之间，超过边界的等于边界"
   ]
  },
  {
   "cell_type": "code",
   "execution_count": 40,
   "id": "4286fc6b",
   "metadata": {},
   "outputs": [
    {
     "data": {
      "text/plain": [
       "tensor([ 0.6495, -0.5000,  0.7608,  1.0000, -0.2733,  0.2965, -0.5000,  0.1429,\n",
       "        -0.5000, -0.5000,  1.0000, -0.5000, -0.5000,  1.0000, -0.5000,  0.5477,\n",
       "        -0.5000,  0.7788,  1.0000,  0.5464, -0.5000,  1.0000,  0.0569,  0.2638,\n",
       "         0.7847, -0.5000, -0.1641,  0.0794,  0.3567, -0.5000,  1.0000, -0.5000,\n",
       "        -0.5000,  1.0000,  0.0823, -0.5000,  1.0000,  0.5151, -0.0588, -0.5000,\n",
       "        -0.5000,  0.8989, -0.5000,  1.0000, -0.4226,  0.2629,  0.1378,  1.0000])"
      ]
     },
     "execution_count": 40,
     "metadata": {},
     "output_type": "execute_result"
    }
   ],
   "source": [
    "torch.clamp(z,-0.5,1)"
   ]
  },
  {
   "cell_type": "markdown",
   "id": "5b198e62",
   "metadata": {},
   "source": [
    "堆叠cat  \n",
    "torch.cat(tensors, dim=0, *, out=None):沿指定维度拼接张量序列，不增加新维度，输出张量维度与输入一致  \n",
    "torch.stack(tensors, dim=0, *, out=None):沿新维度dim堆叠张量序列，输出张量维度+1  \n",
    "tensors.squeeze():去除冗余维度  \n",
    "reshape方法返回一个新的张量，但并不会改变原始张量A和B的值，除非赋值给A和B  \n",
    "\n",
    "以下三种，要求除连接轴外的其他轴形状相同,维度必须相同，不会增加维度  \n",
    "torch.vstack()：垂直拼接（沿维度0），等价于 torch.cat(..., dim=0)  \n",
    "torch.hstack():水平拼接（沿维度1），等价于 torch.cat(..., dim=1)  \n",
    "torch.dstack()：深度堆叠（沿维度2），适用于三维数据（如图像通道叠加）  \n"
   ]
  },
  {
   "cell_type": "code",
   "execution_count": 41,
   "id": "a0fca5bb",
   "metadata": {},
   "outputs": [
    {
     "data": {
      "text/plain": [
       "(tensor([[[ 0,  1,  2,  3]],\n",
       " \n",
       "         [[ 4,  5,  6,  7]],\n",
       " \n",
       "         [[ 8,  9, 10, 11]],\n",
       " \n",
       "         [[ 0,  1,  2,  3]],\n",
       " \n",
       "         [[ 4,  5,  6,  7]]]),\n",
       " torch.Size([5, 1, 4]))"
      ]
     },
     "execution_count": 41,
     "metadata": {},
     "output_type": "execute_result"
    }
   ],
   "source": [
    "A = torch.arange(12).reshape((3, 1,4))\n",
    "B = torch.arange(8).reshape((2, 1,4))\n",
    "out=torch.vstack((A,B))\n",
    "out,out.shape"
   ]
  },
  {
   "cell_type": "code",
   "execution_count": 42,
   "id": "60db50d4",
   "metadata": {},
   "outputs": [
    {
     "data": {
      "text/plain": [
       "(tensor([[[ 0,  1,  2,  3]],\n",
       " \n",
       "         [[ 4,  5,  6,  7]],\n",
       " \n",
       "         [[ 8,  9, 10, 11]],\n",
       " \n",
       "         [[ 0,  1,  2,  3]],\n",
       " \n",
       "         [[ 4,  5,  6,  7]]]),\n",
       " torch.Size([5, 1, 4]))"
      ]
     },
     "execution_count": 42,
     "metadata": {},
     "output_type": "execute_result"
    }
   ],
   "source": [
    "out=torch.cat((A,B),0)\n",
    "out,out.shape"
   ]
  },
  {
   "cell_type": "code",
   "execution_count": 43,
   "id": "62948ce9",
   "metadata": {},
   "outputs": [
    {
     "data": {
      "text/plain": [
       "(tensor([[[ 0,  1,  2,  3],\n",
       "          [ 4,  5,  6,  7],\n",
       "          [ 8,  9, 10, 11],\n",
       "          [ 0,  1,  2,  3],\n",
       "          [ 4,  5,  6,  7]]]),\n",
       " torch.Size([1, 5, 4]))"
      ]
     },
     "execution_count": 43,
     "metadata": {},
     "output_type": "execute_result"
    }
   ],
   "source": [
    "A=A.reshape(1,3,4)\n",
    "B=B.reshape(1,2,4)\n",
    "out=torch.hstack((A,B))\n",
    "out,out.shape"
   ]
  },
  {
   "cell_type": "code",
   "execution_count": 44,
   "id": "122d78b2",
   "metadata": {},
   "outputs": [
    {
     "data": {
      "text/plain": [
       "(tensor([[[ 0,  1,  2,  3],\n",
       "          [ 4,  5,  6,  7],\n",
       "          [ 8,  9, 10, 11],\n",
       "          [ 0,  1,  2,  3],\n",
       "          [ 4,  5,  6,  7]]]),\n",
       " torch.Size([1, 5, 4]))"
      ]
     },
     "execution_count": 44,
     "metadata": {},
     "output_type": "execute_result"
    }
   ],
   "source": [
    "out=torch.cat((A,B),1)\n",
    "out,out.shape"
   ]
  },
  {
   "cell_type": "code",
   "execution_count": 45,
   "id": "1882ddeb",
   "metadata": {},
   "outputs": [
    {
     "data": {
      "text/plain": [
       "(tensor([[[ 0,  1,  2,  0,  1],\n",
       "          [ 3,  4,  5,  2,  3],\n",
       "          [ 6,  7,  8,  4,  5],\n",
       "          [ 9, 10, 11,  6,  7]]]),\n",
       " torch.Size([1, 4, 5]))"
      ]
     },
     "execution_count": 45,
     "metadata": {},
     "output_type": "execute_result"
    }
   ],
   "source": [
    "A=A.reshape(1,4,3)\n",
    "B=B.reshape(1,4,2)\n",
    "out=torch.dstack((A,B))\n",
    "out,out.shape"
   ]
  },
  {
   "cell_type": "code",
   "execution_count": 46,
   "id": "832d9548",
   "metadata": {},
   "outputs": [
    {
     "data": {
      "text/plain": [
       "(tensor([[[ 0,  1,  2,  0,  1],\n",
       "          [ 3,  4,  5,  2,  3],\n",
       "          [ 6,  7,  8,  4,  5],\n",
       "          [ 9, 10, 11,  6,  7]]]),\n",
       " torch.Size([1, 4, 5]))"
      ]
     },
     "execution_count": 46,
     "metadata": {},
     "output_type": "execute_result"
    }
   ],
   "source": [
    "out=torch.cat((A,B),2)\n",
    "out,out.shape"
   ]
  },
  {
   "cell_type": "code",
   "execution_count": 47,
   "id": "eebbb6e5",
   "metadata": {},
   "outputs": [
    {
     "data": {
      "text/plain": [
       "(torch.Size([3, 4]), torch.Size([3, 4]), torch.Size([2, 3, 4]))"
      ]
     },
     "execution_count": 47,
     "metadata": {},
     "output_type": "execute_result"
    }
   ],
   "source": [
    "A = torch.arange(0,12,1).reshape((3, 1,4))\n",
    "B = torch.arange(5,17,1).reshape((3, 1,4))\n",
    "A=A.squeeze()\n",
    "B=B.squeeze()\n",
    "out=torch.stack((A,B),dim=0)\n",
    "A.shape,B.shape,out.shape"
   ]
  },
  {
   "cell_type": "markdown",
   "id": "f71e9d11",
   "metadata": {},
   "source": [
    "torch.unsqueeze() 在指定维度添加一个长度为1的维度"
   ]
  },
  {
   "cell_type": "code",
   "execution_count": 48,
   "id": "7847a21d",
   "metadata": {},
   "outputs": [
    {
     "data": {
      "text/plain": [
       "(torch.Size([1, 3, 4]), torch.Size([1, 3, 4]))"
      ]
     },
     "execution_count": 48,
     "metadata": {},
     "output_type": "execute_result"
    }
   ],
   "source": [
    "A=A.unsqueeze(0)\n",
    "B=torch.unsqueeze(B,dim=0)\n",
    "A.shape,B.shape"
   ]
  },
  {
   "cell_type": "markdown",
   "id": "a2ad3718",
   "metadata": {},
   "source": [
    "torch.linspace用于在一个区间上生成指定长度的等距序列，返回一维tensor  \n",
    "torch.linspace(start, end, steps, *, out=None, dtype=None, layout=torch.strided, device=None, requires_grad=False) → Tensor  \n",
    "start   float\t序列的起始值（包含）  \n",
    "end     float\t序列的结束值（包含）  \n",
    "steps   int\t    生成的样本总数  "
   ]
  },
  {
   "cell_type": "code",
   "execution_count": 49,
   "id": "2c26579d",
   "metadata": {},
   "outputs": [
    {
     "data": {
      "text/plain": [
       "(tensor([-1.0000, -0.9800, -0.9600, -0.9400, -0.9200, -0.9000, -0.8800, -0.8600,\n",
       "         -0.8400, -0.8200]),\n",
       " tensor([-1.0000, -0.9800, -0.9600, -0.9400, -0.9200, -0.9000, -0.8800, -0.8600,\n",
       "         -0.8400, -0.8200]))"
      ]
     },
     "execution_count": 49,
     "metadata": {},
     "output_type": "execute_result"
    }
   ],
   "source": [
    "X=torch.linspace(-1.0, 1.0, 101)\n",
    "Y=torch.linspace(-1.0, 1.0, 101)\n",
    "X[:10],Y[:10]"
   ]
  },
  {
   "cell_type": "markdown",
   "id": "3a1e7924",
   "metadata": {},
   "source": [
    "torch.meshgrid 从多个一维坐标数组中创建网格坐标矩阵，返回的是坐标矩阵而不是数据网格，用于从坐标向量创建坐标矩阵，常用于生成网格点的坐标。  \n",
    "torch.meshgrid(*tensors, indexing='ij')-->tuple(输入数量个tensors)  \n",
    "    *tensors：一个或多个一维张量，表示不同维度的坐标值  \n",
    "    indexing：索引模式，可选 'ij'（矩阵索引）或 'xy'（笛卡尔索引）  \n",
    "\n"
   ]
  },
  {
   "cell_type": "code",
   "execution_count": 57,
   "id": "7f1c49ce",
   "metadata": {},
   "outputs": [
    {
     "data": {
      "text/plain": [
       "(torch.Size([101, 101]), (tensor(-0.9800), tensor(-0.9800)))"
      ]
     },
     "execution_count": 57,
     "metadata": {},
     "output_type": "execute_result"
    }
   ],
   "source": [
    "Z=torch.meshgrid(X,Y)\n",
    "ZX=Z[0]\n",
    "ZY=Z[1]\n",
    "Z[0].shape,(Z[0][1][1],Z[1][1][1])"
   ]
  },
  {
   "cell_type": "code",
   "execution_count": 60,
   "id": "d2fa1d16",
   "metadata": {},
   "outputs": [
    {
     "data": {
      "image/png": "[encoded data removed]",
      "text/plain": [
       "<Figure size 640x480 with 2 Axes>"
      ]
     },
     "metadata": {},
     "output_type": "display_data"
    }
   ],
   "source": [
    "import matplotlib.pyplot as plt\n",
    "Z = torch.exp(-(ZX**2 + ZY**2))\n",
    "plt.contourf(ZX.numpy(), ZY.numpy(), Z.numpy(), levels=20)\n",
    "plt.colorbar()\n",
    "plt.title(\"2D Gaussian Function\")\n",
    "plt.show()"
   ]
  }
 ],
 "metadata": {
  "kernelspec": {
   "display_name": "pytorch",
   "language": "python",
   "name": "python3"
  },
  "language_info": {
   "codemirror_mode": {
    "name": "ipython",
    "version": 3
   },
   "file_extension": ".py",
   "mimetype": "text/x-python",
   "name": "python",
   "nbconvert_exporter": "python",
   "pygments_lexer": "ipython3",
   "version": "3.10.18"
  }
 },
 "nbformat": 4,
 "nbformat_minor": 5
}
