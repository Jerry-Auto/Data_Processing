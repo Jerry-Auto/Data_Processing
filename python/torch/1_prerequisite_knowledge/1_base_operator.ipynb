{
 "cells": [
  {
   "cell_type": "markdown",
   "id": "46ffbb3a",
   "metadata": {},
   "source": [
    "介绍一些tensor的基础操作"
   ]
  },
  {
   "cell_type": "code",
   "execution_count": 1,
   "id": "33b3b1de",
   "metadata": {},
   "outputs": [
    {
     "data": {
      "text/plain": [
       "tensor([[1., 2.],\n",
       "        [3., 4.],\n",
       "        [5., 6.]], device='cuda:0', dtype=torch.float64)"
      ]
     },
     "execution_count": 1,
     "metadata": {},
     "output_type": "execute_result"
    }
   ],
   "source": [
    "import torch\n",
    "import numpy as np\n",
    "a=torch.tensor([[1,2],[3,4],[5,6]],dtype=torch.float64, device=\"cuda:0\")\n",
    "a"
   ]
  },
  {
   "cell_type": "code",
   "execution_count": 2,
   "id": "74821a9e",
   "metadata": {},
   "outputs": [
    {
     "name": "stdout",
     "output_type": "stream",
     "text": [
      "torch.Size([3, 2])\n",
      "torch.Size([3, 2])\n"
     ]
    }
   ],
   "source": [
    "print(a.size())\n",
    "print(a.shape)\n"
   ]
  },
  {
   "cell_type": "code",
   "execution_count": 3,
   "id": "581ec6ca",
   "metadata": {},
   "outputs": [
    {
     "data": {
      "text/plain": [
       "6"
      ]
     },
     "execution_count": 3,
     "metadata": {},
     "output_type": "execute_result"
    }
   ],
   "source": [
    "a.numel()#元素总数"
   ]
  },
  {
   "cell_type": "code",
   "execution_count": 4,
   "id": "d5501469",
   "metadata": {},
   "outputs": [
    {
     "data": {
      "text/plain": [
       "tensor([[1., 2., 3.],\n",
       "        [4., 5., 6.]], device='cuda:0', dtype=torch.float64)"
      ]
     },
     "execution_count": 4,
     "metadata": {},
     "output_type": "execute_result"
    }
   ],
   "source": [
    "a.reshape(-1,3)"
   ]
  },
  {
   "cell_type": "code",
   "execution_count": 5,
   "id": "6e3583e2",
   "metadata": {},
   "outputs": [
    {
     "data": {
      "text/plain": [
       "tensor([[0., 0.],\n",
       "        [0., 0.],\n",
       "        [0., 0.]])"
      ]
     },
     "execution_count": 5,
     "metadata": {},
     "output_type": "execute_result"
    }
   ],
   "source": [
    "zeros=torch.zeros((3,2))\n",
    "zeros"
   ]
  },
  {
   "cell_type": "markdown",
   "id": "9f9cda28",
   "metadata": {},
   "source": [
    "torch.randn((a,b))：生成服从标准正态分布（均值为0，标准差为1）且形状为(a,b)的随机张量   \n",
    "torch.rand(a, b)：生成服从均匀分布（范围在[0, 1)）且形状为(a,b)的随机数,等价于torch.rand((a, b))"
   ]
  },
  {
   "cell_type": "code",
   "execution_count": 6,
   "id": "93b76eb9",
   "metadata": {},
   "outputs": [
    {
     "data": {
      "text/plain": [
       "(tensor([[ 0.7887, -0.5781],\n",
       "         [-0.1436,  0.0384],\n",
       "         [ 0.6465, -0.2272]]),\n",
       " tensor([[0.0783, 0.1078],\n",
       "         [0.0345, 0.8284],\n",
       "         [0.4919, 0.7628]]))"
      ]
     },
     "execution_count": 6,
     "metadata": {},
     "output_type": "execute_result"
    }
   ],
   "source": [
    "rdm=torch.randn((3,2))\n",
    "rdu=torch.rand(3,2)\n",
    "rdm,rdu"
   ]
  },
  {
   "cell_type": "code",
   "execution_count": 7,
   "id": "aec3a3f3",
   "metadata": {},
   "outputs": [
    {
     "data": {
      "text/plain": [
       "tensor(-0.5781)"
      ]
     },
     "execution_count": 7,
     "metadata": {},
     "output_type": "execute_result"
    }
   ],
   "source": [
    "rdm[0,1]"
   ]
  },
  {
   "cell_type": "code",
   "execution_count": 8,
   "id": "8e643d72",
   "metadata": {},
   "outputs": [
    {
     "data": {
      "text/plain": [
       "tensor([[ 7.8873e-01,  8.8800e+02],\n",
       "        [-1.4364e-01,  3.8409e-02],\n",
       "        [ 6.4649e-01, -2.2717e-01]])"
      ]
     },
     "execution_count": 8,
     "metadata": {},
     "output_type": "execute_result"
    }
   ],
   "source": [
    "rdm[0,1]=888\n",
    "rdm"
   ]
  },
  {
   "cell_type": "markdown",
   "id": "47c7b72c",
   "metadata": {},
   "source": [
    "使用赋值符号相当于C++里面的引用，共用同一份数据，使用clone创建副本"
   ]
  },
  {
   "cell_type": "code",
   "execution_count": 9,
   "id": "86ea13bd",
   "metadata": {},
   "outputs": [
    {
     "name": "stdout",
     "output_type": "stream",
     "text": [
      "tensor([[7.8873e-01, 8.8800e+02]])\n",
      "tensor([[7.8873e-01, 8.8800e+02]])\n"
     ]
    }
   ],
   "source": [
    "ref=rdm[:1,:]\n",
    "copy=rdm[:1,:].clone()\n",
    "print(ref)\n",
    "print(copy)\n",
    "ref[0,1]=666\n",
    "copy[0,1]=55"
   ]
  },
  {
   "cell_type": "code",
   "execution_count": 10,
   "id": "e7e79865",
   "metadata": {},
   "outputs": [
    {
     "data": {
      "text/plain": [
       "tensor([[ 7.8873e-01,  6.6600e+02],\n",
       "        [-1.4364e-01,  3.8409e-02],\n",
       "        [ 6.4649e-01, -2.2717e-01]])"
      ]
     },
     "execution_count": 10,
     "metadata": {},
     "output_type": "execute_result"
    }
   ],
   "source": [
    "rdm"
   ]
  },
  {
   "cell_type": "markdown",
   "id": "0fde0e22",
   "metadata": {},
   "source": [
    "切片，可以用[-1]选择最后一个元素  \n",
    "为多个元素赋值相同的值，我们只需要索引所有元素，然后为它们赋值"
   ]
  },
  {
   "cell_type": "code",
   "execution_count": 11,
   "id": "7e8feb07",
   "metadata": {},
   "outputs": [
    {
     "name": "stdout",
     "output_type": "stream",
     "text": [
      "tensor([ 0.6465, -0.2272])\n"
     ]
    },
    {
     "data": {
      "text/plain": [
       "tensor([[10.0000, 10.0000],\n",
       "        [-0.1436,  0.0384],\n",
       "        [ 0.6465, -0.2272]])"
      ]
     },
     "execution_count": 11,
     "metadata": {},
     "output_type": "execute_result"
    }
   ],
   "source": [
    "print(rdm[-1])\n",
    "rdm[0,:]=10\n",
    "rdm"
   ]
  },
  {
   "cell_type": "markdown",
   "id": "d71d3cf8",
   "metadata": {},
   "source": [
    "Tensor可以和numpy的ndarray互转"
   ]
  },
  {
   "cell_type": "code",
   "execution_count": 12,
   "id": "54bd0203",
   "metadata": {},
   "outputs": [
    {
     "data": {
      "text/plain": [
       "array([[10.        , 10.        ],\n",
       "       [-0.1436398 ,  0.03840855],\n",
       "       [ 0.64649487, -0.2271658 ]], dtype=float32)"
      ]
     },
     "execution_count": 12,
     "metadata": {},
     "output_type": "execute_result"
    }
   ],
   "source": [
    "np_rdm=rdm.numpy()\n",
    "np_rdm"
   ]
  },
  {
   "cell_type": "code",
   "execution_count": 13,
   "id": "e2ab1029",
   "metadata": {},
   "outputs": [
    {
     "data": {
      "text/plain": [
       "array([[ 0,  1,  2,  3],\n",
       "       [ 4,  5,  6,  7],\n",
       "       [ 8,  9, 10, 11]])"
      ]
     },
     "execution_count": 13,
     "metadata": {},
     "output_type": "execute_result"
    }
   ],
   "source": [
    "np_a=np.arange(12).reshape((3,4))\n",
    "np_a"
   ]
  },
  {
   "cell_type": "markdown",
   "id": "6559b86f",
   "metadata": {},
   "source": [
    "共享内存的互转"
   ]
  },
  {
   "cell_type": "code",
   "execution_count": 14,
   "id": "2160df12",
   "metadata": {},
   "outputs": [
    {
     "data": {
      "text/plain": [
       "tensor([[ 0,  1,  2,  3],\n",
       "        [ 4,  5,  6,  7],\n",
       "        [ 8,  9, 10, 11]])"
      ]
     },
     "execution_count": 14,
     "metadata": {},
     "output_type": "execute_result"
    }
   ],
   "source": [
    "ts_a=torch.from_numpy(np_a)#Tensor 与 NumPy 数组共享内存（修改一方会影响另一方）\n",
    "ts_a"
   ]
  },
  {
   "cell_type": "code",
   "execution_count": 15,
   "id": "9d8cf26c",
   "metadata": {},
   "outputs": [
    {
     "data": {
      "text/plain": [
       "(numpy.ndarray, torch.Tensor, torch.Tensor)"
      ]
     },
     "execution_count": 15,
     "metadata": {},
     "output_type": "execute_result"
    }
   ],
   "source": [
    "np_ref=rdm.numpy()\n",
    "ts_ref=torch.as_tensor(np_ref)#接受更多输入类型（如列表、其他 Tensor）\n",
    "ts_copy=torch.tensor(np_ref)# 复制数据，生成独立 Tensor,不共享内存‌\n",
    "type(np_ref),type(ts_copy),type(ts_ref)"
   ]
  },
  {
   "cell_type": "code",
   "execution_count": 16,
   "id": "87d437c3",
   "metadata": {},
   "outputs": [
    {
     "name": "stdout",
     "output_type": "stream",
     "text": [
      "tensor([[10.0000, 10.0000],\n",
      "        [-0.1436,  0.0384],\n",
      "        [ 0.6465, -0.2272]])\n",
      "[[10.          5.        ]\n",
      " [-0.1436398   5.        ]\n",
      " [ 0.64649487  5.        ]]\n",
      "tensor([[10.0000,  5.0000],\n",
      "        [-0.1436,  5.0000],\n",
      "        [ 0.6465,  5.0000]])\n",
      "tensor([[10.0000, 10.0000],\n",
      "        [-0.1436,  0.0384],\n",
      "        [ 0.6465, -0.2272]])\n"
     ]
    }
   ],
   "source": [
    "print(rdm)\n",
    "rdm[:,1]=5\n",
    "print(np_ref)\n",
    "print(ts_ref)\n",
    "print(ts_copy)"
   ]
  },
  {
   "cell_type": "markdown",
   "id": "aef38dab",
   "metadata": {},
   "source": [
    "使用 torchvision.transforms  \n",
    "将 NumPy 格式的图片（HWC 格式，值域 [0, 255]）转换为 Tensor（CHW 格式，值域 [0.0, 1.0]"
   ]
  },
  {
   "cell_type": "code",
   "execution_count": 17,
   "id": "23550d08",
   "metadata": {},
   "outputs": [
    {
     "data": {
      "text/plain": [
       "torch.Size([4, 275, 976])"
      ]
     },
     "execution_count": 17,
     "metadata": {},
     "output_type": "execute_result"
    }
   ],
   "source": [
    "from PIL import Image\n",
    "from torchvision import transforms\n",
    " \n",
    "img = Image.open(\"image.jpg\")  # PIL.Image 对象 （H,W,C）\n",
    "tensor_trans = transforms.ToTensor()\n",
    "tensor_img = tensor_trans(img)  # 转为 Tensor (C, H, W)\n",
    "tensor_img.shape"
   ]
  },
  {
   "cell_type": "markdown",
   "id": "d143207c",
   "metadata": {},
   "source": [
    "tensor计算\n",
    "张量加法有两种形式，一种是直接使用加号，另一种使用torch.add方法"
   ]
  },
  {
   "cell_type": "code",
   "execution_count": 18,
   "id": "0acc6a22",
   "metadata": {},
   "outputs": [
    {
     "data": {
      "text/plain": [
       "tensor([[-0.8377, -0.7354,  1.1299,  0.5134],\n",
       "        [-0.4291, -0.7775,  0.7818,  0.8969],\n",
       "        [-0.8617, -0.2052, -0.8105, -1.1060]])"
      ]
     },
     "execution_count": 18,
     "metadata": {},
     "output_type": "execute_result"
    }
   ],
   "source": [
    "ts_b=torch.randn((3,4))\n",
    "ts_b"
   ]
  },
  {
   "cell_type": "code",
   "execution_count": 19,
   "id": "26828745",
   "metadata": {},
   "outputs": [
    {
     "data": {
      "text/plain": [
       "tensor([[-0.8377,  0.2646,  3.1299,  3.5134],\n",
       "        [ 3.5709,  4.2225,  6.7818,  7.8969],\n",
       "        [ 7.1383,  8.7948,  9.1895,  9.8940]])"
      ]
     },
     "execution_count": 19,
     "metadata": {},
     "output_type": "execute_result"
    }
   ],
   "source": [
    "ts_a+ts_b"
   ]
  },
  {
   "cell_type": "code",
   "execution_count": 20,
   "id": "3442fb86",
   "metadata": {},
   "outputs": [
    {
     "data": {
      "text/plain": [
       "tensor([[-0.8377,  0.2646,  3.1299,  3.5134],\n",
       "        [ 3.5709,  4.2225,  6.7818,  7.8969],\n",
       "        [ 7.1383,  8.7948,  9.1895,  9.8940]])"
      ]
     },
     "execution_count": 20,
     "metadata": {},
     "output_type": "execute_result"
    }
   ],
   "source": [
    "torch.add(ts_a,ts_b)"
   ]
  },
  {
   "cell_type": "markdown",
   "id": "bba9479c",
   "metadata": {},
   "source": [
    "广播broadcast,标量与tensor加减法，会把标量扩张为tensor的维度，然后再逐个元素加减"
   ]
  },
  {
   "cell_type": "code",
   "execution_count": 21,
   "id": "fef6366a",
   "metadata": {},
   "outputs": [
    {
     "data": {
      "text/plain": [
       "tensor([[ 5,  6,  7,  8],\n",
       "        [ 9, 10, 11, 12],\n",
       "        [13, 14, 15, 16]])"
      ]
     },
     "execution_count": 21,
     "metadata": {},
     "output_type": "execute_result"
    }
   ],
   "source": [
    "ts_a+5"
   ]
  },
  {
   "cell_type": "code",
   "execution_count": 22,
   "id": "cfed65dc",
   "metadata": {},
   "outputs": [
    {
     "data": {
      "text/plain": [
       "tensor([[2, 3, 4, 5]])"
      ]
     },
     "execution_count": 22,
     "metadata": {},
     "output_type": "execute_result"
    }
   ],
   "source": [
    "ts_row=torch.from_numpy(np.arange(2,6).reshape(1,4))\n",
    "ts_row"
   ]
  },
  {
   "cell_type": "markdown",
   "id": "af207583",
   "metadata": {},
   "source": [
    "矩阵运算，矩阵乘行向量，运算不同于线性代数，这里的计算是针对元素的，要求列数相同，左乘右乘完全相同  \n",
    "相当于把向量作了广播变成两个形状相同的tensor，再进行计算  \n",
    "广播机制要求维度相同，标量除外 "
   ]
  },
  {
   "cell_type": "code",
   "execution_count": 23,
   "id": "ca475aa9",
   "metadata": {},
   "outputs": [
    {
     "name": "stdout",
     "output_type": "stream",
     "text": [
      "torch.Size([3, 4])\n",
      "tensor([[ 0,  1,  2,  3],\n",
      "        [ 4,  5,  6,  7],\n",
      "        [ 8,  9, 10, 11]])\n",
      "torch.Size([1, 4])\n",
      "tensor([[2, 3, 4, 5]])\n"
     ]
    }
   ],
   "source": [
    "print(ts_a.shape)\n",
    "print(ts_a)\n",
    "print(ts_row.shape)\n",
    "print(ts_row)"
   ]
  },
  {
   "cell_type": "code",
   "execution_count": 24,
   "id": "6764d20a",
   "metadata": {},
   "outputs": [
    {
     "data": {
      "text/plain": [
       "tensor([[ 0,  3,  8, 15],\n",
       "        [ 8, 15, 24, 35],\n",
       "        [16, 27, 40, 55]])"
      ]
     },
     "execution_count": 24,
     "metadata": {},
     "output_type": "execute_result"
    }
   ],
   "source": [
    "ts_a*ts_row"
   ]
  },
  {
   "cell_type": "code",
   "execution_count": 25,
   "id": "25afa235",
   "metadata": {},
   "outputs": [
    {
     "data": {
      "text/plain": [
       "tensor([[ 0,  3,  8, 15],\n",
       "        [ 8, 15, 24, 35],\n",
       "        [16, 27, 40, 55]])"
      ]
     },
     "execution_count": 25,
     "metadata": {},
     "output_type": "execute_result"
    }
   ],
   "source": [
    "ts_row*ts_a"
   ]
  },
  {
   "cell_type": "markdown",
   "id": "7af9d791",
   "metadata": {},
   "source": [
    "矩阵与列向量，要求行数相同，左乘右乘完全相同  \n",
    "相当于把向量作了广播变成两个形状相同的tensor，再进行计算"
   ]
  },
  {
   "cell_type": "code",
   "execution_count": 26,
   "id": "d88c1542",
   "metadata": {},
   "outputs": [
    {
     "data": {
      "text/plain": [
       "tensor([[0],\n",
       "        [1],\n",
       "        [2]])"
      ]
     },
     "execution_count": 26,
     "metadata": {},
     "output_type": "execute_result"
    }
   ],
   "source": [
    "ts_vec=torch.arange(3).reshape(3,1)\n",
    "ts_vec"
   ]
  },
  {
   "cell_type": "code",
   "execution_count": 27,
   "id": "d85e1981",
   "metadata": {},
   "outputs": [
    {
     "name": "stdout",
     "output_type": "stream",
     "text": [
      "torch.Size([3, 4])\n",
      "tensor([[ 0,  1,  2,  3],\n",
      "        [ 4,  5,  6,  7],\n",
      "        [ 8,  9, 10, 11]])\n",
      "torch.Size([3, 1])\n",
      "tensor([[0],\n",
      "        [1],\n",
      "        [2]])\n"
     ]
    }
   ],
   "source": [
    "print(ts_a.shape)\n",
    "print(ts_a)\n",
    "print(ts_vec.shape)\n",
    "print(ts_vec)"
   ]
  },
  {
   "cell_type": "code",
   "execution_count": 28,
   "id": "a236dd38",
   "metadata": {},
   "outputs": [
    {
     "data": {
      "text/plain": [
       "tensor([[ 0,  0,  0,  0],\n",
       "        [ 4,  5,  6,  7],\n",
       "        [16, 18, 20, 22]])"
      ]
     },
     "execution_count": 28,
     "metadata": {},
     "output_type": "execute_result"
    }
   ],
   "source": [
    "ts_a*ts_vec"
   ]
  },
  {
   "cell_type": "code",
   "execution_count": 29,
   "id": "2898e9f9",
   "metadata": {},
   "outputs": [
    {
     "data": {
      "text/plain": [
       "tensor([[ 0,  0,  0,  0],\n",
       "        [ 4,  5,  6,  7],\n",
       "        [16, 18, 20, 22]])"
      ]
     },
     "execution_count": 29,
     "metadata": {},
     "output_type": "execute_result"
    }
   ],
   "source": [
    "ts_vec*ts_a"
   ]
  },
  {
   "cell_type": "markdown",
   "id": "c3d2eaf4",
   "metadata": {},
   "source": [
    "更一般化的广播机制,把两个不同的行列向量分别在长度为1的轴上进行扩展，最终得到两个形状相同的张量，再进行计算"
   ]
  },
  {
   "cell_type": "code",
   "execution_count": 30,
   "id": "518fe72d",
   "metadata": {},
   "outputs": [
    {
     "data": {
      "text/plain": [
       "(tensor([[0],\n",
       "         [1],\n",
       "         [2]]),\n",
       " tensor([[0, 1]]),\n",
       " tensor([[0, 1],\n",
       "         [1, 2],\n",
       "         [2, 3]]))"
      ]
     },
     "execution_count": 30,
     "metadata": {},
     "output_type": "execute_result"
    }
   ],
   "source": [
    "a = torch.arange(3).reshape((3, 1))\n",
    "b = torch.arange(2).reshape((1, 2))\n",
    "a, b,a + b\n"
   ]
  },
  {
   "cell_type": "markdown",
   "id": "bdb688c6",
   "metadata": {},
   "source": [
    "矩阵相乘，要求形状相同，左乘右乘完全相同"
   ]
  },
  {
   "cell_type": "code",
   "execution_count": 31,
   "id": "4d5800b4",
   "metadata": {},
   "outputs": [
    {
     "data": {
      "text/plain": [
       "tensor([[ 2,  3,  4,  5],\n",
       "        [ 6,  7,  8,  9],\n",
       "        [10, 11, 12, 13]])"
      ]
     },
     "execution_count": 31,
     "metadata": {},
     "output_type": "execute_result"
    }
   ],
   "source": [
    "ts_matrix=torch.from_numpy(np.arange(2,14).reshape(3,4))\n",
    "ts_matrix"
   ]
  },
  {
   "cell_type": "code",
   "execution_count": 32,
   "id": "7dd3461b",
   "metadata": {},
   "outputs": [
    {
     "name": "stdout",
     "output_type": "stream",
     "text": [
      "torch.Size([3, 4])\n",
      "tensor([[ 0,  1,  2,  3],\n",
      "        [ 4,  5,  6,  7],\n",
      "        [ 8,  9, 10, 11]])\n",
      "torch.Size([3, 4])\n",
      "tensor([[ 2,  3,  4,  5],\n",
      "        [ 6,  7,  8,  9],\n",
      "        [10, 11, 12, 13]])\n"
     ]
    }
   ],
   "source": [
    "print(ts_a.shape)\n",
    "print(ts_a)\n",
    "print(ts_matrix.shape)\n",
    "print(ts_matrix)\n"
   ]
  },
  {
   "cell_type": "code",
   "execution_count": 33,
   "id": "18fa0930",
   "metadata": {},
   "outputs": [
    {
     "data": {
      "text/plain": [
       "tensor([[  0,   3,   8,  15],\n",
       "        [ 24,  35,  48,  63],\n",
       "        [ 80,  99, 120, 143]])"
      ]
     },
     "execution_count": 33,
     "metadata": {},
     "output_type": "execute_result"
    }
   ],
   "source": [
    "ts_a*ts_matrix"
   ]
  },
  {
   "cell_type": "code",
   "execution_count": 34,
   "id": "10defc7c",
   "metadata": {},
   "outputs": [
    {
     "data": {
      "text/plain": [
       "tensor([[  0,   3,   8,  15],\n",
       "        [ 24,  35,  48,  63],\n",
       "        [ 80,  99, 120, 143]])"
      ]
     },
     "execution_count": 34,
     "metadata": {},
     "output_type": "execute_result"
    }
   ],
   "source": [
    "ts_matrix*ts_a"
   ]
  },
  {
   "cell_type": "code",
   "execution_count": 35,
   "id": "8780bc9b",
   "metadata": {},
   "outputs": [
    {
     "data": {
      "text/plain": [
       "(tensor([ 3.,  4.,  6., 10.]),\n",
       " tensor([-1.,  0.,  2.,  6.]),\n",
       " tensor([ 2.,  4.,  8., 16.]),\n",
       " tensor([0.5000, 1.0000, 2.0000, 4.0000]),\n",
       " tensor([ 1.,  4., 16., 64.]))"
      ]
     },
     "execution_count": 35,
     "metadata": {},
     "output_type": "execute_result"
    }
   ],
   "source": [
    "x = torch.tensor([1.0, 2, 4, 8])\n",
    "y = torch.tensor([2, 2, 2, 2])\n",
    "x + y, x - y, x * y, x / y, x ** y  # **运算符是求幂运算"
   ]
  },
  {
   "cell_type": "markdown",
   "id": "d152861f",
   "metadata": {},
   "source": [
    "reshape方法，还有一个view方法有一样的效果  \n",
    "连续张量指的是张量的数据在内存中是连续存储的，没有间隔。也就是说，从第一个元素到最后一个元素，内存地址是连续的，没有跳跃。  \n",
    "例如，经过转置（transpose(0,1)）的二维张量，其逻辑形状是 [M, N]，但物理存储仍按原始顺序 [N, M] 排列，导致访问时需要跳过其他行的数据，无法直接连续读取  \n",
    "view()：严格要求输入张量是连续的。若张量非连续（如通过transpose()、permute()等操作后），调用view()会抛出RuntimeError  \n",
    "reshape()：自动处理非连续张量。若输入非连续，reshape()会隐式复制数据，生成一个新的连续张量，再调整形状，连续输入 → 返回视图（无数据复制）。 "
   ]
  },
  {
   "cell_type": "code",
   "execution_count": 36,
   "id": "44d4ad8b",
   "metadata": {},
   "outputs": [
    {
     "data": {
      "text/plain": [
       "tensor([[-1.1417, -0.7778,  1.9812, -1.8019,  0.6079,  0.1375, -0.7298,  0.8300,\n",
       "          1.6139, -0.4953, -0.7419,  1.3657],\n",
       "        [-0.6386, -0.9230, -0.8225,  0.8396, -0.3287, -0.3185, -0.5716, -0.9015,\n",
       "          1.3355,  0.8460, -1.6919,  0.9251],\n",
       "        [-0.7419, -0.2791, -0.3919,  1.3135,  1.0622, -1.8698, -2.2066, -1.1838,\n",
       "         -0.3796,  0.4015,  0.9358, -0.9834],\n",
       "        [ 0.4111, -1.0796, -0.1684,  1.5222,  2.7072,  0.2290, -0.3648,  0.2585,\n",
       "         -0.8265, -0.6160,  1.0931, -0.4990]])"
      ]
     },
     "execution_count": 36,
     "metadata": {},
     "output_type": "execute_result"
    }
   ],
   "source": [
    "x = torch.randn(6, 8)\n",
    "y=x.view(-1,12)#负1表示这一个维度通过推断得到。\n",
    "y"
   ]
  },
  {
   "cell_type": "code",
   "execution_count": 37,
   "id": "4e114a65",
   "metadata": {},
   "outputs": [
    {
     "data": {
      "text/plain": [
       "tensor([-1.1417, -0.7778,  1.9812, -1.8019,  0.6079,  0.1375, -0.7298,  0.8300,\n",
       "         1.6139, -0.4953, -0.7419,  1.3657, -0.6386, -0.9230, -0.8225,  0.8396,\n",
       "        -0.3287, -0.3185, -0.5716, -0.9015,  1.3355,  0.8460, -1.6919,  0.9251,\n",
       "        -0.7419, -0.2791, -0.3919,  1.3135,  1.0622, -1.8698, -2.2066, -1.1838,\n",
       "        -0.3796,  0.4015,  0.9358, -0.9834,  0.4111, -1.0796, -0.1684,  1.5222,\n",
       "         2.7072,  0.2290, -0.3648,  0.2585, -0.8265, -0.6160,  1.0931, -0.4990])"
      ]
     },
     "execution_count": 37,
     "metadata": {},
     "output_type": "execute_result"
    }
   ],
   "source": [
    "z=y.view(48)\n",
    "z"
   ]
  },
  {
   "cell_type": "code",
   "execution_count": 38,
   "id": "437eaf0b",
   "metadata": {},
   "outputs": [
    {
     "data": {
      "text/plain": [
       "tensor([[-1.1417, -0.7778,  1.9812, -1.8019,  0.6079,  0.1375, -0.7298,  0.8300,\n",
       "          1.6139, -0.4953, -0.7419,  1.3657],\n",
       "        [-0.6386, -0.9230, -0.8225,  0.8396, -0.3287, -0.3185, -0.5716, -0.9015,\n",
       "          1.3355,  0.8460, -1.6919,  0.9251],\n",
       "        [-0.7419, -0.2791, -0.3919,  1.3135,  1.0622, -1.8698, -2.2066, -1.1838,\n",
       "         -0.3796,  0.4015,  0.9358, -0.9834],\n",
       "        [ 0.4111, -1.0796, -0.1684,  1.5222,  2.7072,  0.2290, -0.3648,  0.2585,\n",
       "         -0.8265, -0.6160,  1.0931, -0.4990]])"
      ]
     },
     "execution_count": 38,
     "metadata": {},
     "output_type": "execute_result"
    }
   ],
   "source": [
    "y=x.reshape(-1,12)\n",
    "y"
   ]
  },
  {
   "cell_type": "code",
   "execution_count": 39,
   "id": "f0e9df88",
   "metadata": {},
   "outputs": [
    {
     "data": {
      "text/plain": [
       "tensor([-1.1417, -0.7778,  1.9812, -1.8019,  0.6079,  0.1375, -0.7298,  0.8300,\n",
       "         1.6139, -0.4953, -0.7419,  1.3657, -0.6386, -0.9230, -0.8225,  0.8396,\n",
       "        -0.3287, -0.3185, -0.5716, -0.9015,  1.3355,  0.8460, -1.6919,  0.9251,\n",
       "        -0.7419, -0.2791, -0.3919,  1.3135,  1.0622, -1.8698, -2.2066, -1.1838,\n",
       "        -0.3796,  0.4015,  0.9358, -0.9834,  0.4111, -1.0796, -0.1684,  1.5222,\n",
       "         2.7072,  0.2290, -0.3648,  0.2585, -0.8265, -0.6160,  1.0931, -0.4990])"
      ]
     },
     "execution_count": 39,
     "metadata": {},
     "output_type": "execute_result"
    }
   ],
   "source": [
    "z=y.reshape(48)\n",
    "z"
   ]
  },
  {
   "cell_type": "markdown",
   "id": "f4790325",
   "metadata": {},
   "source": [
    "torch.clamp(data,min,max)  \n",
    "将data里面的所有数值限定到[min,max]之间，超过边界的等于边界"
   ]
  },
  {
   "cell_type": "code",
   "execution_count": 40,
   "id": "4286fc6b",
   "metadata": {},
   "outputs": [
    {
     "data": {
      "text/plain": [
       "tensor([-0.5000, -0.5000,  1.0000, -0.5000,  0.6079,  0.1375, -0.5000,  0.8300,\n",
       "         1.0000, -0.4953, -0.5000,  1.0000, -0.5000, -0.5000, -0.5000,  0.8396,\n",
       "        -0.3287, -0.3185, -0.5000, -0.5000,  1.0000,  0.8460, -0.5000,  0.9251,\n",
       "        -0.5000, -0.2791, -0.3919,  1.0000,  1.0000, -0.5000, -0.5000, -0.5000,\n",
       "        -0.3796,  0.4015,  0.9358, -0.5000,  0.4111, -0.5000, -0.1684,  1.0000,\n",
       "         1.0000,  0.2290, -0.3648,  0.2585, -0.5000, -0.5000,  1.0000, -0.4990])"
      ]
     },
     "execution_count": 40,
     "metadata": {},
     "output_type": "execute_result"
    }
   ],
   "source": [
    "torch.clamp(z,-0.5,1)"
   ]
  },
  {
   "cell_type": "markdown",
   "id": "5b198e62",
   "metadata": {},
   "source": [
    "堆叠cat  \n",
    "torch.cat(tensors, dim=0, *, out=None):沿指定维度拼接张量序列，不增加新维度，输出张量维度与输入一致  \n",
    "torch.stack(tensors, dim=0, *, out=None):沿新维度dim堆叠张量序列，输出张量维度+1  \n",
    "tensors.squeeze():去除冗余维度  \n",
    "reshape方法返回一个新的张量，但并不会改变原始张量A和B的值，除非赋值给A和B  \n",
    "\n",
    "以下三种，要求除连接轴外的其他轴形状相同,维度必须相同，不会增加维度  \n",
    "torch.vstack()：垂直拼接（沿维度0），等价于 torch.cat(..., dim=0)  \n",
    "torch.hstack():水平拼接（沿维度1），等价于 torch.cat(..., dim=1)  \n",
    "torch.dstack()：深度堆叠（沿维度2），适用于三维数据（如图像通道叠加）  \n"
   ]
  },
  {
   "cell_type": "code",
   "execution_count": 41,
   "id": "a0fca5bb",
   "metadata": {},
   "outputs": [
    {
     "data": {
      "text/plain": [
       "(tensor([[[ 0,  1,  2,  3]],\n",
       " \n",
       "         [[ 4,  5,  6,  7]],\n",
       " \n",
       "         [[ 8,  9, 10, 11]],\n",
       " \n",
       "         [[ 0,  1,  2,  3]],\n",
       " \n",
       "         [[ 4,  5,  6,  7]]]),\n",
       " torch.Size([5, 1, 4]))"
      ]
     },
     "execution_count": 41,
     "metadata": {},
     "output_type": "execute_result"
    }
   ],
   "source": [
    "A = torch.arange(12).reshape((3, 1,4))\n",
    "B = torch.arange(8).reshape((2, 1,4))\n",
    "out=torch.vstack((A,B))\n",
    "out,out.shape"
   ]
  },
  {
   "cell_type": "code",
   "execution_count": 42,
   "id": "60db50d4",
   "metadata": {},
   "outputs": [
    {
     "data": {
      "text/plain": [
       "(tensor([[[ 0,  1,  2,  3]],\n",
       " \n",
       "         [[ 4,  5,  6,  7]],\n",
       " \n",
       "         [[ 8,  9, 10, 11]],\n",
       " \n",
       "         [[ 0,  1,  2,  3]],\n",
       " \n",
       "         [[ 4,  5,  6,  7]]]),\n",
       " torch.Size([5, 1, 4]))"
      ]
     },
     "execution_count": 42,
     "metadata": {},
     "output_type": "execute_result"
    }
   ],
   "source": [
    "out=torch.cat((A,B),0)\n",
    "out,out.shape"
   ]
  },
  {
   "cell_type": "code",
   "execution_count": 43,
   "id": "62948ce9",
   "metadata": {},
   "outputs": [
    {
     "data": {
      "text/plain": [
       "(tensor([[[ 0,  1,  2,  3],\n",
       "          [ 4,  5,  6,  7],\n",
       "          [ 8,  9, 10, 11],\n",
       "          [ 0,  1,  2,  3],\n",
       "          [ 4,  5,  6,  7]]]),\n",
       " torch.Size([1, 5, 4]))"
      ]
     },
     "execution_count": 43,
     "metadata": {},
     "output_type": "execute_result"
    }
   ],
   "source": [
    "A=A.reshape(1,3,4)\n",
    "B=B.reshape(1,2,4)\n",
    "out=torch.hstack((A,B))\n",
    "out,out.shape"
   ]
  },
  {
   "cell_type": "code",
   "execution_count": 44,
   "id": "122d78b2",
   "metadata": {},
   "outputs": [
    {
     "data": {
      "text/plain": [
       "(tensor([[[ 0,  1,  2,  3],\n",
       "          [ 4,  5,  6,  7],\n",
       "          [ 8,  9, 10, 11],\n",
       "          [ 0,  1,  2,  3],\n",
       "          [ 4,  5,  6,  7]]]),\n",
       " torch.Size([1, 5, 4]))"
      ]
     },
     "execution_count": 44,
     "metadata": {},
     "output_type": "execute_result"
    }
   ],
   "source": [
    "out=torch.cat((A,B),1)\n",
    "out,out.shape"
   ]
  },
  {
   "cell_type": "code",
   "execution_count": 45,
   "id": "1882ddeb",
   "metadata": {},
   "outputs": [
    {
     "data": {
      "text/plain": [
       "(tensor([[[ 0,  1,  2,  0,  1],\n",
       "          [ 3,  4,  5,  2,  3],\n",
       "          [ 6,  7,  8,  4,  5],\n",
       "          [ 9, 10, 11,  6,  7]]]),\n",
       " torch.Size([1, 4, 5]))"
      ]
     },
     "execution_count": 45,
     "metadata": {},
     "output_type": "execute_result"
    }
   ],
   "source": [
    "A=A.reshape(1,4,3)\n",
    "B=B.reshape(1,4,2)\n",
    "out=torch.dstack((A,B))\n",
    "out,out.shape"
   ]
  },
  {
   "cell_type": "code",
   "execution_count": 46,
   "id": "832d9548",
   "metadata": {},
   "outputs": [
    {
     "data": {
      "text/plain": [
       "(tensor([[[ 0,  1,  2,  0,  1],\n",
       "          [ 3,  4,  5,  2,  3],\n",
       "          [ 6,  7,  8,  4,  5],\n",
       "          [ 9, 10, 11,  6,  7]]]),\n",
       " torch.Size([1, 4, 5]))"
      ]
     },
     "execution_count": 46,
     "metadata": {},
     "output_type": "execute_result"
    }
   ],
   "source": [
    "out=torch.cat((A,B),2)\n",
    "out,out.shape"
   ]
  },
  {
   "cell_type": "code",
   "execution_count": 47,
   "id": "eebbb6e5",
   "metadata": {},
   "outputs": [
    {
     "data": {
      "text/plain": [
       "(torch.Size([3, 4]), torch.Size([3, 4]), torch.Size([2, 3, 4]))"
      ]
     },
     "execution_count": 47,
     "metadata": {},
     "output_type": "execute_result"
    }
   ],
   "source": [
    "A = torch.arange(0,12,1).reshape((3, 1,4))\n",
    "B = torch.arange(5,17,1).reshape((3, 1,4))\n",
    "A=A.squeeze()\n",
    "B=B.squeeze()\n",
    "out=torch.stack((A,B),dim=0)\n",
    "A.shape,B.shape,out.shape"
   ]
  },
  {
   "cell_type": "markdown",
   "id": "f71e9d11",
   "metadata": {},
   "source": [
    "torch.unsqueeze() 在指定维度添加一个长度为1的维度"
   ]
  },
  {
   "cell_type": "code",
   "execution_count": 48,
   "id": "7847a21d",
   "metadata": {},
   "outputs": [
    {
     "data": {
      "text/plain": [
       "(torch.Size([1, 3, 4]), torch.Size([1, 3, 4]))"
      ]
     },
     "execution_count": 48,
     "metadata": {},
     "output_type": "execute_result"
    }
   ],
   "source": [
    "A=A.unsqueeze(0)\n",
    "B=torch.unsqueeze(B,dim=0)\n",
    "A.shape,B.shape"
   ]
  }
 ],
 "metadata": {
  "kernelspec": {
   "display_name": "pytorch",
   "language": "python",
   "name": "python3"
  },
  "language_info": {
   "codemirror_mode": {
    "name": "ipython",
    "version": 3
   },
   "file_extension": ".py",
   "mimetype": "text/x-python",
   "name": "python",
   "nbconvert_exporter": "python",
   "pygments_lexer": "ipython3",
   "version": "3.10.18"
  }
 },
 "nbformat": 4,
 "nbformat_minor": 5
}
