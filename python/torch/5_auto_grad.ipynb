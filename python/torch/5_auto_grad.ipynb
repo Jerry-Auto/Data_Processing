{
 "cells": [
  {
   "cell_type": "markdown",
   "id": "ec70bcd2",
   "metadata": {},
   "source": [
    "介绍自动微分"
   ]
  },
  {
   "cell_type": "code",
   "execution_count": 2,
   "id": "9ea39ec5",
   "metadata": {},
   "outputs": [
    {
     "data": {
      "text/plain": [
       "tensor([0., 1., 2., 3.])"
      ]
     },
     "execution_count": 2,
     "metadata": {},
     "output_type": "execute_result"
    }
   ],
   "source": [
    "import torch\n",
    "x = torch.arange(4.0)\n",
    "x\n"
   ]
  },
  {
   "cell_type": "markdown",
   "id": "c8d3813b",
   "metadata": {},
   "source": [
    "一个标量函数关于向量的梯度是向量，并且与具有相同的形状"
   ]
  },
  {
   "cell_type": "code",
   "execution_count": null,
   "id": "9d832b53",
   "metadata": {},
   "outputs": [],
   "source": [
    "x.requires_grad_(True)  # 等价于x=torch.arange(4.0,requires_grad=True)启用梯度追踪\n",
    "x.grad  # 默认值是None"
   ]
  },
  {
   "cell_type": "code",
   "execution_count": 4,
   "id": "658270e8",
   "metadata": {},
   "outputs": [
    {
     "data": {
      "text/plain": [
       "tensor(28., grad_fn=<MulBackward0>)"
      ]
     },
     "execution_count": 4,
     "metadata": {},
     "output_type": "execute_result"
    }
   ],
   "source": [
    "y = 2 * torch.dot(x, x)\n",
    "y"
   ]
  },
  {
   "cell_type": "markdown",
   "id": "14b2d946",
   "metadata": {},
   "source": [
    "调用反向传播函数来自动计算y关于x每个分量的梯度"
   ]
  },
  {
   "cell_type": "code",
   "execution_count": 5,
   "id": "6b6e8326",
   "metadata": {},
   "outputs": [
    {
     "data": {
      "text/plain": [
       "tensor([ 0.,  4.,  8., 12.])"
      ]
     },
     "execution_count": 5,
     "metadata": {},
     "output_type": "execute_result"
    }
   ],
   "source": [
    "y.backward()\n",
    "x.grad"
   ]
  },
  {
   "cell_type": "markdown",
   "id": "7c328a05",
   "metadata": {},
   "source": [
    "<pre>\n",
    "当x改变时，再次得到梯度  \n",
    "    当执行 y = 2 * torch.dot(x, x) 时，PyTorch 会记录x到y的计算路径。如果后续直接修改x的值（如 x[0] = 5），  \n",
    "而没有重新构建计算图，backward()可能会基于旧的计算图（包含原始 x 的值）计算梯度，导致错误  \n",
    "    安全做法：  \n",
    "        重新创建 x（如 x = torch.tensor(...)），或  \n",
    "        通过 x.data 修改值(谨慎使用)，或  \n",
    "        在 torch.no_grad() 上下文中修改。  \n",
    "    始终记得清空梯度（x.grad.zero_()），避免累加。  \n",
    "注意：  \n",
    "    每次都要重新定义y的表达值\n",
    "<pre>\n"
   ]
  },
  {
   "cell_type": "code",
   "execution_count": 12,
   "id": "81fd00c1",
   "metadata": {},
   "outputs": [
    {
     "data": {
      "text/plain": [
       "tensor([20.,  4.,  8., 12.])"
      ]
     },
     "execution_count": 12,
     "metadata": {},
     "output_type": "execute_result"
    }
   ],
   "source": [
    "x = torch.tensor([5., 1., 2., 3.], requires_grad=True)  # 直接用新值重建 x\n",
    "y = 2 * torch.dot(x, x)\n",
    "y.backward()\n",
    "x.grad"
   ]
  },
  {
   "cell_type": "code",
   "execution_count": 13,
   "id": "86a13e1e",
   "metadata": {},
   "outputs": [
    {
     "data": {
      "text/plain": [
       "tensor([20.,  4.,  8., 12.])"
      ]
     },
     "execution_count": 13,
     "metadata": {},
     "output_type": "execute_result"
    }
   ],
   "source": [
    "# 通过 x.data 修改值（避免影响计算图）\n",
    "x.grad.zero_()\n",
    "x.data[0] = 5  # 修改底层数据，不破坏计算图\n",
    "y = 2 * torch.dot(x, x)  # 重新计算 y\n",
    "y.backward()\n",
    "x.grad"
   ]
  },
  {
   "cell_type": "code",
   "execution_count": 14,
   "id": "8ee3e2cc",
   "metadata": {},
   "outputs": [
    {
     "data": {
      "text/plain": [
       "tensor([40.,  4.,  8., 12.])"
      ]
     },
     "execution_count": 14,
     "metadata": {},
     "output_type": "execute_result"
    }
   ],
   "source": [
    "# 在无梯度追踪的上下文中修改 x\n",
    "with torch.no_grad():\n",
    "    x[0] = 10\n",
    "x.grad.zero_()\n",
    "y = 2 * torch.dot(x, x)\n",
    "y.backward()\n",
    "x.grad"
   ]
  },
  {
   "cell_type": "markdown",
   "id": "f42581cc",
   "metadata": {},
   "source": [
    "如果需要多次计算梯度，建议将逻辑封装为函数或循环："
   ]
  },
  {
   "cell_type": "code",
   "execution_count": 10,
   "id": "9229c0bd",
   "metadata": {},
   "outputs": [
    {
     "name": "stdout",
     "output_type": "stream",
     "text": [
      "第一次梯度: tensor([ 0.,  4.,  8., 12.])\n",
      "修改后梯度: tensor([ 4.,  8., 12., 16.])\n"
     ]
    }
   ],
   "source": [
    "def compute_gradient(x):\n",
    "    if x.grad is not None:\n",
    "        x.grad.zero_()\n",
    "    y = 2 * torch.dot(x, x)\n",
    "    y.backward()\n",
    "    return x.grad\n",
    "\n",
    "# 初始计算\n",
    "x = torch.arange(4.0, requires_grad=True)\n",
    "print(\"第一次梯度:\", compute_gradient(x))\n",
    "\n",
    "# 修改 x 并重新计算\n",
    "x.data.add_(1)\n",
    "print(\"修改后梯度:\", compute_gradient(x))"
   ]
  },
  {
   "cell_type": "markdown",
   "id": "104f9c06",
   "metadata": {},
   "source": [
    "当y关于x的表达式发生变化时需要先梯度清零"
   ]
  },
  {
   "cell_type": "code",
   "execution_count": 15,
   "id": "874f42c5",
   "metadata": {},
   "outputs": [
    {
     "data": {
      "text/plain": [
       "tensor([1., 1., 1., 1.])"
      ]
     },
     "execution_count": 15,
     "metadata": {},
     "output_type": "execute_result"
    }
   ],
   "source": [
    "# 在默认情况下，PyTorch会累积梯度，我们需要清除之前的值\n",
    "x.grad.zero_()\n",
    "y = x.sum()\n",
    "y.backward()\n",
    "x.grad"
   ]
  },
  {
   "cell_type": "markdown",
   "id": "1ae2713d",
   "metadata": {},
   "source": [
    " 对于高阶和高维的y和x，求导的结果可以是一个高阶张量  \n",
    " backward()调用对象需要是标量  \n",
    " 好在机器学习里只是计算样本批量的梯度之和，再作平均  \n",
    " 因此只需对y进行求和变成标量即可  \n",
    " "
   ]
  },
  {
   "cell_type": "code",
   "execution_count": 16,
   "id": "5ac845c9",
   "metadata": {},
   "outputs": [
    {
     "data": {
      "text/plain": [
       "tensor([20.,  2.,  4.,  6.])"
      ]
     },
     "execution_count": 16,
     "metadata": {},
     "output_type": "execute_result"
    }
   ],
   "source": [
    "# 对非标量调用backward需要传入一个gradient参数，该参数指定微分函数关于self的梯度。\n",
    "# 本例只想求偏导数的和，所以传递一个1的梯度是合适的\n",
    "x.grad.zero_()\n",
    "y = x * x\n",
    "# 等价于y.backward(torch.ones(len(x)))\n",
    "y.sum().backward()\n",
    "x.grad"
   ]
  },
  {
   "cell_type": "markdown",
   "id": "3d6cfce0",
   "metadata": {},
   "source": [
    "y.backward()需要传入的的参数  \n",
    "当y是张量（多维）时，必须提供一个与y形状相同的gradient参数，指定如何将 y 的每个分量加权求和得到标量，才能反向传播。  \n",
    "y是标量（单个值）时，可以直接调用 y.backward()（等价于 y.backward(torch.tensor(1.0))  \n",
    "$X=\\left\\{ x_{ij} \\right\\}_{3 \\times 4}$  \n",
    "$A=\\left\\{ a_{ij} \\right\\}_{3 \\times 3}$  \n",
    "$Y=\\left\\{ X^T\\cdot A\\cdot X \\right\\}_{4 \\times 4}$  \n",
    "$Y=sum(diag(Y))=tr(X^T\\cdot A\\cdot X)$  \n",
    "$\\left. \\frac{dY}{dX} \\right. =\\left\\{(A+A^T)X \\right\\}_{3 \\times 4}$  \n",
    "$\\left. \\frac{dY}{dA} \\right. =(X\\cdot X^T)_{3 \\times 3}$  "
   ]
  },
  {
   "cell_type": "code",
   "execution_count": 37,
   "id": "c9a19cee",
   "metadata": {},
   "outputs": [
    {
     "name": "stdout",
     "output_type": "stream",
     "text": [
      "tensor([[10.4428, 13.0896, 15.7364, 18.3831],\n",
      "        [-2.6402, -3.5598, -4.4794, -5.3989],\n",
      "        [-8.8983, -8.5755, -8.2527, -7.9298]], dtype=torch.float64) \n",
      " tensor([[10.4428, 13.0896, 15.7364, 18.3831],\n",
      "        [-2.6402, -3.5598, -4.4794, -5.3989],\n",
      "        [-8.8983, -8.5755, -8.2527, -7.9298]], dtype=torch.float64,\n",
      "       grad_fn=<MmBackward0>)\n",
      "tensor([[ 14.,  38.,  62.],\n",
      "        [ 38., 126., 214.],\n",
      "        [ 62., 214., 366.]], dtype=torch.float64) \n",
      " tensor([[ 14.,  38.,  62.],\n",
      "        [ 38., 126., 214.],\n",
      "        [ 62., 214., 366.]], dtype=torch.float64, grad_fn=<MmBackward0>)\n"
     ]
    }
   ],
   "source": [
    "X=torch.arange(12, dtype=torch.float64).reshape(3,4)\n",
    "A=torch.randn(3,3, dtype=torch.float64,requires_grad=True)\n",
    "X.requires_grad_(True)\n",
    "Y=torch.mm(torch.mm(X.T,A),X)\n",
    "gradient=torch.eye(4,4, dtype=torch.float64)\n",
    "Y.backward(gradient=gradient)\n",
    "DY_DX=torch.mm((A+A.T),X)\n",
    "DY_DA=torch.mm(X,X.T)\n",
    "X,A,Y,gradient\n",
    "print(X.grad,'\\n',DY_DX)\n",
    "print(A.grad,'\\n',DY_DA)"
   ]
  },
  {
   "cell_type": "markdown",
   "id": "cb2e3faf",
   "metadata": {},
   "source": [
    "分离计算  \n",
    "$y=f(x)$  \n",
    "$z=h(x,y)=h(x,f(x))=g(x)$  \n",
    "计算$\\frac{dz}{dx}= \\frac{\\partial h}{\\partial x}+ \\frac{\\partial h}{\\partial f} \\times \\frac{\\partial f}{\\partial x}$  \n",
    "$\\left. \\frac{dz}{dx} \\right|_{y}=\\left. \\frac{\\partial h}{\\partial x}+\n",
    " \\frac{\\partial h}{\\partial f} \\right|_{y} \\times \\left. \\frac{\\partial f}{\\partial x} \\right|_{y}$  \n",
    "希望将y视为一个常数， 并且只考虑到x在y被计算后发挥的作用,即令  \n",
    "$\\left. \\frac{\\partial h}{\\partial f} \\right|_{y}=0$  从而计算$\\left. \\frac{dz}{dx} \\right|_{y}=\\left. \\frac{\\partial h}{\\partial x} \\right.$  "
   ]
  },
  {
   "cell_type": "code",
   "execution_count": 38,
   "id": "8d160b2a",
   "metadata": {},
   "outputs": [
    {
     "data": {
      "text/plain": [
       "tensor([True, True, True, True])"
      ]
     },
     "execution_count": 38,
     "metadata": {},
     "output_type": "execute_result"
    }
   ],
   "source": [
    "x.grad.zero_()\n",
    "y = x * x\n",
    "u = y.detach()\n",
    "z = u * x\n",
    "\n",
    "z.sum().backward()\n",
    "x.grad == u\n"
   ]
  },
  {
   "cell_type": "markdown",
   "id": "0ac0e065",
   "metadata": {},
   "source": [
    "还可以单独计算$\\frac{dy}{dx}$"
   ]
  },
  {
   "cell_type": "code",
   "execution_count": 39,
   "id": "cd0de15f",
   "metadata": {},
   "outputs": [
    {
     "data": {
      "text/plain": [
       "tensor([True, True, True, True])"
      ]
     },
     "execution_count": 39,
     "metadata": {},
     "output_type": "execute_result"
    }
   ],
   "source": [
    "x.grad.zero_()\n",
    "y.sum().backward()\n",
    "x.grad == 2 * x"
   ]
  },
  {
   "cell_type": "markdown",
   "id": "150f50e6",
   "metadata": {},
   "source": [
    "即使是非常复杂的函数代码，也可以求梯度  \n",
    "并且分段函数(一阶导数不连续)也可以求，因为梯度是针对某一个特定点求出来的"
   ]
  },
  {
   "cell_type": "code",
   "execution_count": 40,
   "id": "ecf863cb",
   "metadata": {},
   "outputs": [
    {
     "data": {
      "text/plain": [
       "tensor(True)"
      ]
     },
     "execution_count": 40,
     "metadata": {},
     "output_type": "execute_result"
    }
   ],
   "source": [
    "def f(a):\n",
    "    \"\"\" f(a)=d*a,d取决于a \"\"\"\n",
    "    b = a * 2\n",
    "    while b.norm() < 1000:\n",
    "        b = b * 2\n",
    "    if b.sum() > 0:\n",
    "        c = b\n",
    "    else:\n",
    "        c = 100 * b\n",
    "    return c\n",
    "a = torch.randn(size=(), requires_grad=True)\n",
    "d = f(a)\n",
    "d.backward()\n",
    "a.grad == d / a\n"
   ]
  },
  {
   "cell_type": "code",
   "execution_count": null,
   "id": "3e1e2fc9",
   "metadata": {},
   "outputs": [],
   "source": []
  }
 ],
 "metadata": {
  "kernelspec": {
   "display_name": "pytorch",
   "language": "python",
   "name": "python3"
  },
  "language_info": {
   "codemirror_mode": {
    "name": "ipython",
    "version": 3
   },
   "file_extension": ".py",
   "mimetype": "text/x-python",
   "name": "python",
   "nbconvert_exporter": "python",
   "pygments_lexer": "ipython3",
   "version": "3.10.18"
  }
 },
 "nbformat": 4,
 "nbformat_minor": 5
}
