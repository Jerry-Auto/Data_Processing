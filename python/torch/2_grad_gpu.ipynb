{
 "cells": [
  {
   "cell_type": "markdown",
   "id": "b4098369",
   "metadata": {},
   "source": [
    "介绍有关梯度，GPU,内存的知识"
   ]
  },
  {
   "cell_type": "markdown",
   "id": "fc20f9a0",
   "metadata": {},
   "source": [
    "如果 out=f(x)是标量，out.backward() 会计算 ∂out/∂x  \n",
    "当out是矩阵时，out.backward() 默认不允许直接调用（因为梯度是矩阵，方向不明确）  \n",
    "必须提供一个与 out 形状相同的张量 gradient（即 grad_outputs），表示 out 的每个元素对最终损失的贡献权重。  \n",
    "torch.ones_like(out) 对 out 的每个元素求和（即 out.sum()）  \n",
    "对求和后的标量结果调用 backward()"
   ]
  },
  {
   "cell_type": "code",
   "execution_count": null,
   "id": "f6c69028",
   "metadata": {},
   "outputs": [
    {
     "name": "stdout",
     "output_type": "stream",
     "text": [
      "tensor([[10., 24.],\n",
      "        [42., 64.]])\n",
      "tensor([[ 1.,  4.],\n",
      "        [ 9., 16.]])\n"
     ]
    }
   ],
   "source": [
    "import torch\n",
    "import numpy as np\n",
    "x = torch.tensor([[1., 2.], [3., 4.]], requires_grad=True)\n",
    "y = torch.tensor([[5., 6.], [7., 8.]], requires_grad=True)#定义 x ，y并启用梯度跟踪\n",
    "out = (x.pow(2)*y).sum()#对x的每个元素平方，再对所有元素求和\n",
    "out.backward()#out最好是标量，不然很复杂\n",
    "print(x.grad)#表示OUT对x的梯度\n",
    "print(y.grad)"
   ]
  },
  {
   "cell_type": "markdown",
   "id": "641b2924",
   "metadata": {},
   "source": [
    "数据放到GPU或者CPU上进行计算"
   ]
  },
  {
   "cell_type": "code",
   "execution_count": null,
   "id": "012d19aa",
   "metadata": {},
   "outputs": [
    {
     "name": "stdout",
     "output_type": "stream",
     "text": [
      "tensor([2, 3], device='cuda:0')\n",
      "tensor([2, 3]) torch.float64\n"
     ]
    }
   ],
   "source": [
    "x = torch.tensor([1, 2])#默认是放在cpu  \n",
    "if torch.cuda.is_available():         \n",
    "    device = torch.device('cuda')     \n",
    "    y = torch.ones_like(x, device=device)\n",
    "    x = x.to(device)                  \n",
    "    z = x + y                         \n",
    "    print(z)                          \n",
    "    print(z.to('cpu'), torch.double)  "
   ]
  },
  {
   "cell_type": "markdown",
   "id": "caebf07d",
   "metadata": {},
   "source": [
    "张量连结（concatenate）提供张量列表，给出沿哪个轴连结"
   ]
  },
  {
   "cell_type": "code",
   "execution_count": 6,
   "id": "0d5308c1",
   "metadata": {},
   "outputs": [
    {
     "data": {
      "text/plain": [
       "(tensor([[ 0.,  1.,  2.,  3.],\n",
       "         [ 4.,  5.,  6.,  7.],\n",
       "         [ 8.,  9., 10., 11.],\n",
       "         [ 2.,  1.,  4.,  3.],\n",
       "         [ 1.,  2.,  3.,  4.],\n",
       "         [ 4.,  3.,  2.,  1.]]),\n",
       " tensor([[ 0.,  1.,  2.,  3.,  2.,  1.,  4.,  3.],\n",
       "         [ 4.,  5.,  6.,  7.,  1.,  2.,  3.,  4.],\n",
       "         [ 8.,  9., 10., 11.,  4.,  3.,  2.,  1.]]))"
      ]
     },
     "execution_count": 6,
     "metadata": {},
     "output_type": "execute_result"
    }
   ],
   "source": [
    "X = torch.arange(12, dtype=torch.float32).reshape((3,4))\n",
    "Y = torch.tensor([[2.0, 1, 4, 3], [1, 2, 3, 4], [4, 3, 2, 1]])\n",
    "torch.cat((X, Y), dim=0), torch.cat((X, Y), dim=1)"
   ]
  },
  {
   "cell_type": "markdown",
   "id": "f0f36316",
   "metadata": {},
   "source": [
    "节省内存  \n",
    "Python首先计算Y + X，为结果分配新的内存，然后使Y指向内存中的这个新位置"
   ]
  },
  {
   "cell_type": "code",
   "execution_count": 7,
   "id": "ac3ae2c0",
   "metadata": {},
   "outputs": [
    {
     "data": {
      "text/plain": [
       "False"
      ]
     },
     "execution_count": 7,
     "metadata": {},
     "output_type": "execute_result"
    }
   ],
   "source": [
    "before = id(Y)\n",
    "Y = Y + X\n",
    "id(Y) == before"
   ]
  },
  {
   "cell_type": "markdown",
   "id": "3bb10ebd",
   "metadata": {},
   "source": [
    "执行原地更新，即Y的地址保持不变，只是更新上面的值  \n",
    "1.切片表示法Y[:] = <expression>\n",
    "2.+=操作"
   ]
  },
  {
   "cell_type": "code",
   "execution_count": 8,
   "id": "ab945961",
   "metadata": {},
   "outputs": [
    {
     "name": "stdout",
     "output_type": "stream",
     "text": [
      "id(Z): 128033535797152\n",
      "id(Z): 128033535797152\n"
     ]
    }
   ],
   "source": [
    "Z = torch.zeros_like(Y)\n",
    "print('id(Z):', id(Z))\n",
    "Z[:] = X + Y\n",
    "print('id(Z):', id(Z))\n"
   ]
  },
  {
   "cell_type": "code",
   "execution_count": 9,
   "id": "92c639e5",
   "metadata": {},
   "outputs": [
    {
     "data": {
      "text/plain": [
       "True"
      ]
     },
     "execution_count": 9,
     "metadata": {},
     "output_type": "execute_result"
    }
   ],
   "source": [
    "before = id(Y)\n",
    "Y += X\n",
    "id(Y) == before"
   ]
  },
  {
   "cell_type": "code",
   "execution_count": null,
   "id": "edab72fe",
   "metadata": {},
   "outputs": [],
   "source": []
  }
 ],
 "metadata": {
  "kernelspec": {
   "display_name": "pytorch",
   "language": "python",
   "name": "python3"
  },
  "language_info": {
   "codemirror_mode": {
    "name": "ipython",
    "version": 3
   },
   "file_extension": ".py",
   "mimetype": "text/x-python",
   "name": "python",
   "nbconvert_exporter": "python",
   "pygments_lexer": "ipython3",
   "version": "3.10.18"
  }
 },
 "nbformat": 4,
 "nbformat_minor": 5
}
