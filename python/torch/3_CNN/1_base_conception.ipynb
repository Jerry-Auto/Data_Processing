{
 "cells": [
  {
   "cell_type": "markdown",
   "id": "959fc971",
   "metadata": {},
   "source": [
    "如今人类和机器都能很好地区分猫和狗：这是因为图像中本就拥有丰富的结构，而这些结构可以被人类和机器学习模型使用。  \n",
    "卷积神经网络（convolutional neural networks，CNN）是机器学习利用自然图像中一些已知结构的创造性方法"
   ]
  },
  {
   "cell_type": "markdown",
   "id": "771a978c",
   "metadata": {},
   "source": [
    "图像信息具有以下性质：  \n",
    "\n",
    "平移不变性（translation invariance）：不管检测对象出现在图像中的哪个位置，神经网络的前面几层应该对相同的图像区域具有相似的反应，即为“平移不变性”。  \n",
    "\n",
    "局部性（locality）：神经网络的前面几层应该只探索输入图像中的局部区域，而不过度在意图像中相隔较远区域的关系，这就是“局部性”原则。最终，可以聚合这些局部特征，以在整个图像级别进行预测。  \n"
   ]
  },
  {
   "cell_type": "markdown",
   "id": "f4ce6983",
   "metadata": {},
   "source": [
    "互相关运算  \n",
    "接下来，我们在corr2d函数中实现如上过程，该函数接受输入张量X和卷积核张量K，并返回输出张量Y"
   ]
  },
  {
   "cell_type": "code",
   "execution_count": 1,
   "id": "7f9286fd",
   "metadata": {},
   "outputs": [],
   "source": [
    "import torch\n",
    "from torch import nn\n",
    "from d2l import torch as d2l\n",
    "\n",
    "def corr2d(X, K):  #@save\n",
    "    \"\"\"计算二维互相关运算\"\"\"\n",
    "    h, w = K.shape\n",
    "    Y = torch.zeros((X.shape[0] - h + 1, X.shape[1] - w + 1))\n",
    "    for i in range(Y.shape[0]):\n",
    "        for j in range(Y.shape[1]):\n",
    "            Y[i, j] = (X[i:i + h, j:j + w] * K).sum()\n",
    "    return Y\n"
   ]
  },
  {
   "cell_type": "code",
   "execution_count": 2,
   "id": "18896a93",
   "metadata": {},
   "outputs": [
    {
     "data": {
      "text/plain": [
       "tensor([[19., 25.],\n",
       "        [37., 43.]])"
      ]
     },
     "execution_count": 2,
     "metadata": {},
     "output_type": "execute_result"
    }
   ],
   "source": [
    "X = torch.tensor([[0.0, 1.0, 2.0], [3.0, 4.0, 5.0], [6.0, 7.0, 8.0]])\n",
    "K = torch.tensor([[0.0, 1.0], [2.0, 3.0]])\n",
    "corr2d(X, K)\n",
    "\n"
   ]
  },
  {
   "cell_type": "markdown",
   "id": "dde4e8f5",
   "metadata": {},
   "source": [
    "卷积层  \n",
    "卷积层对输入和卷积核权重进行互相关运算，并在添加标量偏置之后产生输出。  \n",
    "所以，卷积层中的两个被训练的参数是卷积核权重和标量偏置。  \n",
    "就像我们之前随机初始化全连接层一样，在训练基于卷积层的模型时，我们也随机初始化卷积核权重。\n",
    "\n",
    "基于上面定义的corr2d函数实现二维卷积层。 \n",
    "在__init__构造函数中，将weight和bias声明为两个模型参数。前向传播函数调用corr2d函数并添加偏置。"
   ]
  },
  {
   "cell_type": "code",
   "execution_count": 3,
   "id": "d6bc835d",
   "metadata": {},
   "outputs": [],
   "source": [
    "class Conv2D(nn.Module):\n",
    "    def __init__(self,kernel_size):\n",
    "        super().__init__()\n",
    "        self.weight=nn.Parameter(torch.rand(kernel_size))\n",
    "        self.bias=nn.Parameter(torch.zeros(1))\n",
    "    def forward(self,X):\n",
    "        return corr2d(X,self.weight)+self.bias"
   ]
  },
  {
   "cell_type": "markdown",
   "id": "e1191d01",
   "metadata": {},
   "source": [
    "图像中目标的边缘检测  \n",
    "通过找到像素变化的位置，来检测图像中不同颜色的边缘  \n",
    "构造一个像素6*8的黑白图像。  \n",
    "中间四列为黑色（0），其余像素为白色（1）"
   ]
  },
  {
   "cell_type": "code",
   "execution_count": 4,
   "id": "c60a619f",
   "metadata": {},
   "outputs": [
    {
     "data": {
      "text/plain": [
       "tensor([[1., 1., 0., 0., 0., 0., 1., 1.],\n",
       "        [1., 1., 0., 0., 0., 0., 1., 1.],\n",
       "        [1., 1., 0., 0., 0., 0., 1., 1.],\n",
       "        [1., 1., 0., 0., 0., 0., 1., 1.],\n",
       "        [1., 1., 0., 0., 0., 0., 1., 1.],\n",
       "        [1., 1., 0., 0., 0., 0., 1., 1.]])"
      ]
     },
     "execution_count": 4,
     "metadata": {},
     "output_type": "execute_result"
    }
   ],
   "source": [
    "X = torch.ones((6, 8))\n",
    "X[:, 2:6] = 0\n",
    "X"
   ]
  },
  {
   "cell_type": "code",
   "execution_count": 5,
   "id": "6ae8bd7b",
   "metadata": {},
   "outputs": [],
   "source": [
    "K = torch.tensor([[1.0, -1.0]])\n"
   ]
  },
  {
   "cell_type": "code",
   "execution_count": 6,
   "id": "5bcd7d62",
   "metadata": {},
   "outputs": [
    {
     "data": {
      "text/plain": [
       "tensor([[ 0.,  1.,  0.,  0.,  0., -1.,  0.],\n",
       "        [ 0.,  1.,  0.,  0.,  0., -1.,  0.],\n",
       "        [ 0.,  1.,  0.,  0.,  0., -1.,  0.],\n",
       "        [ 0.,  1.,  0.,  0.,  0., -1.,  0.],\n",
       "        [ 0.,  1.,  0.,  0.,  0., -1.,  0.],\n",
       "        [ 0.,  1.,  0.,  0.,  0., -1.,  0.]])"
      ]
     },
     "execution_count": 6,
     "metadata": {},
     "output_type": "execute_result"
    }
   ],
   "source": [
    "Y = corr2d(X, K)\n",
    "Y\n"
   ]
  },
  {
   "cell_type": "markdown",
   "id": "8b202c5a",
   "metadata": {},
   "source": [
    "现在我们将输入的二维图像转置，再进行如上的互相关运算。  \n",
    "其输出如下，之前检测到的垂直边缘消失了。  \n",
    "不出所料，这个卷积核K只可以检测垂直边缘，无法检测水平边缘。"
   ]
  },
  {
   "cell_type": "code",
   "execution_count": 7,
   "id": "7f748591",
   "metadata": {},
   "outputs": [
    {
     "data": {
      "text/plain": [
       "tensor([[0., 0., 0., 0., 0.],\n",
       "        [0., 0., 0., 0., 0.],\n",
       "        [0., 0., 0., 0., 0.],\n",
       "        [0., 0., 0., 0., 0.],\n",
       "        [0., 0., 0., 0., 0.],\n",
       "        [0., 0., 0., 0., 0.],\n",
       "        [0., 0., 0., 0., 0.],\n",
       "        [0., 0., 0., 0., 0.]])"
      ]
     },
     "execution_count": 7,
     "metadata": {},
     "output_type": "execute_result"
    }
   ],
   "source": [
    "corr2d(X.t(), K)\n"
   ]
  },
  {
   "cell_type": "markdown",
   "id": "cd449888",
   "metadata": {},
   "source": [
    "学习卷积核  \n",
    "学习由X生成Y的卷积核  \n",
    "先构造一个卷积层，并将其卷积核初始化为随机张量。  \n",
    "接下来，在每次迭代中，我们比较Y与卷积层输出的平方误差，然后计算梯度来更新卷积核。  \n",
    "为了简单起见，我们在此使用内置的二维卷积层，并忽略偏置。"
   ]
  },
  {
   "cell_type": "code",
   "execution_count": 12,
   "id": "5912f711",
   "metadata": {},
   "outputs": [
    {
     "name": "stdout",
     "output_type": "stream",
     "text": [
      "epoch 20, loss 0.001\n",
      "epoch 40, loss 0.000\n",
      "epoch 60, loss 0.000\n",
      "epoch 80, loss 0.000\n",
      "epoch 100, loss 0.000\n"
     ]
    }
   ],
   "source": [
    "conv2d=nn.Conv2d(1,1,kernel_size=(1,2),bias=False)\n",
    "\n",
    "X=X.reshape(1,1,6,8)\n",
    "Y=Y.reshape(1,1,6,7)\n",
    "lr=3e-2\n",
    "\n",
    "for i in range(100):\n",
    "    Y_hat=conv2d(X)\n",
    "    l=(Y_hat-Y)**2\n",
    "    conv2d.zero_grad()\n",
    "    l.sum().backward()\n",
    "\n",
    "    conv2d.weight.data[:]-=lr*conv2d.weight.grad\n",
    "    if (i+1)%20==0:\n",
    "        print(f'epoch {i+1}, loss {l.sum():.3f}')\n"
   ]
  },
  {
   "cell_type": "code",
   "execution_count": 13,
   "id": "d08d5bf9",
   "metadata": {},
   "outputs": [
    {
     "data": {
      "text/plain": [
       "tensor([[ 1.0000, -1.0000]])"
      ]
     },
     "execution_count": 13,
     "metadata": {},
     "output_type": "execute_result"
    }
   ],
   "source": [
    "conv2d.weight.data.reshape((1, 2))\n"
   ]
  },
  {
   "cell_type": "markdown",
   "id": "2b0a20bb",
   "metadata": {},
   "source": [
    "填充（padding）和步幅（stride）  \n",
    "输入矩阵形状$n_h \\times n_w$  \n",
    "卷积核大小$k_h \\times k_w$  \n",
    "输出形状$(n_h-(k_h-1))\\times(n_w-(k_w-1))$  \n",
    "如果在高和宽方向分别填充$2p_h \\quad 2p_w$,两侧均匀填充$p_h \\quad p_w$则输出形状为：  \n",
    "$(n_h-(k_h-1)+2p_h)\\times(n_w-(k_w-1)+2p_w)$  \n",
    "当设置$(k_h-1)=2p_h \\quad (k_w-1)=2p_w$时，输出与输入形状相同  \n",
    "等价于在两侧都填充\n",
    "$$p_h=\\frac{k_h-1}{2} \\text{行} \\\\ p_w=\\frac{k_w-1}{2} \\text{行}$$\n",
    "当$k_h$与$k_w$均为奇数时，方便使得输入输出形状相同且两侧均匀填充  \n",
    "卷积神经网络中卷积核的高度和宽度通常为奇数，例如1、3、5或7  "
   ]
  },
  {
   "cell_type": "markdown",
   "id": "905ac050",
   "metadata": {},
   "source": [
    "<pre>对于任何二维张量X，当满足： \n",
    "1. 卷积核的大小是奇数； \n",
    "2. 所有边的填充行数和列数相同； \n",
    "3. 输出与输入具有相同高度和宽度；\n",
    "则：\n",
    "输出Y[i, j]是通过以输入X[i, j]为中心，与卷积核进行互相关计算得到的"
   ]
  },
  {
   "cell_type": "code",
   "execution_count": null,
   "id": "5405de89",
   "metadata": {},
   "outputs": [
    {
     "data": {
      "text/plain": [
       "torch.Size([8, 8])"
      ]
     },
     "execution_count": 14,
     "metadata": {},
     "output_type": "execute_result"
    }
   ],
   "source": [
    "# 为了方便起见，我们定义了一个计算卷积层的函数。\n",
    "# 此函数初始化卷积层权重，并对输入和输出提高和缩减相应的维数\n",
    "def comp_conv2d(conv2d, X):\n",
    "    # 这里的（1，1）表示批量大小和通道数都是1\n",
    "    X = X.reshape((1, 1) + X.shape)#（1,1,（X.shape））(批量，通道，高，宽)\n",
    "    Y = conv2d(X)\n",
    "    # 省略前两个维度：批量大小和通道\n",
    "    return Y.reshape(Y.shape[2:])\n",
    "\n",
    "# 请注意，这里每边都填充了1行或1列，因此总共添加了2行或2列\n",
    "conv2d = nn.Conv2d(1, 1, kernel_size=3, padding=1)\n",
    "X = torch.rand(size=(8, 8))\n",
    "comp_conv2d(conv2d, X).shape\n"
   ]
  },
  {
   "cell_type": "markdown",
   "id": "746fa2b7",
   "metadata": {},
   "source": [
    "当卷积核的高度和宽度不同时，我们可以填充不同的高度和宽度，使输出和输入具有相同的高度和宽度。  \n",
    "在如下示例中，我们使用高度为5，宽度为3的卷积核，高度和宽度两边的填充分别为2和1。"
   ]
  },
  {
   "cell_type": "code",
   "execution_count": 16,
   "id": "38199b9b",
   "metadata": {},
   "outputs": [
    {
     "data": {
      "text/plain": [
       "torch.Size([8, 8])"
      ]
     },
     "execution_count": 16,
     "metadata": {},
     "output_type": "execute_result"
    }
   ],
   "source": [
    "conv2d = nn.Conv2d(1, 1, kernel_size=(5, 3), padding=(2, 1))\n",
    "comp_conv2d(conv2d, X).shape\n"
   ]
  },
  {
   "cell_type": "markdown",
   "id": "956d15c5",
   "metadata": {},
   "source": [
    "步幅  \n",
    "将每次滑动元素的数量称为步幅（stride）  \n",
    "当垂直与水平步幅分别为$s_h \\quad s_w$时，输出形状为  \n",
    "$[(n_h-(k_h-1)+2p_h+s_h-1)/s_h]\\times[(n_w-(k_w-1)+2p_w+s_w-1)/s_w]$  \n",
    "当$p_h=\\frac{k_h-1}{2} \\text{行} \\quad p_w=\\frac{k_w-1}{2} \\text{行}$时形状为  \n",
    "$[(n_h+s_h-1)/s_h]\\times[(n_w+s_w-1)/s_w]$  \n"
   ]
  },
  {
   "cell_type": "markdown",
   "id": "269170fc",
   "metadata": {},
   "source": [
    "将高度和宽度的步幅设置为2，从而将输入的高度和宽度减半。"
   ]
  },
  {
   "cell_type": "code",
   "execution_count": 17,
   "id": "24c57893",
   "metadata": {},
   "outputs": [
    {
     "data": {
      "text/plain": [
       "torch.Size([4, 4])"
      ]
     },
     "execution_count": 17,
     "metadata": {},
     "output_type": "execute_result"
    }
   ],
   "source": [
    "conv2d = nn.Conv2d(1, 1, kernel_size=3, padding=1, stride=2)\n",
    "comp_conv2d(conv2d, X).shape\n"
   ]
  },
  {
   "cell_type": "markdown",
   "id": "19ac9808",
   "metadata": {},
   "source": [
    "稍微复杂的例子"
   ]
  },
  {
   "cell_type": "code",
   "execution_count": 18,
   "id": "5e940ee8",
   "metadata": {},
   "outputs": [
    {
     "data": {
      "text/plain": [
       "torch.Size([2, 2])"
      ]
     },
     "execution_count": 18,
     "metadata": {},
     "output_type": "execute_result"
    }
   ],
   "source": [
    "conv2d = nn.Conv2d(1, 1, kernel_size=(3, 5), padding=(0, 1), stride=(3, 4))\n",
    "comp_conv2d(conv2d, X).shape\n"
   ]
  },
  {
   "cell_type": "markdown",
   "id": "bcfa9450",
   "metadata": {},
   "source": [
    "在实践中，我们很少使用不一致的步幅或填充，也就是说，我们通常有  \n",
    "$p_h=p_w=p$和$s_h=s_w=s$"
   ]
  },
  {
   "cell_type": "markdown",
   "id": "84458429",
   "metadata": {},
   "source": []
  }
 ],
 "metadata": {
  "kernelspec": {
   "display_name": "pytorch",
   "language": "python",
   "name": "python3"
  },
  "language_info": {
   "codemirror_mode": {
    "name": "ipython",
    "version": 3
   },
   "file_extension": ".py",
   "mimetype": "text/x-python",
   "name": "python",
   "nbconvert_exporter": "python",
   "pygments_lexer": "ipython3",
   "version": "3.10.18"
  }
 },
 "nbformat": 4,
 "nbformat_minor": 5
}
