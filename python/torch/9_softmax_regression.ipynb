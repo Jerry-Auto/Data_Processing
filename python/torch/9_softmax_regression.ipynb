{
 "cells": [
  {
   "cell_type": "markdown",
   "id": "ecea680e",
   "metadata": {},
   "source": [
    "介绍softmax回归"
   ]
  },
  {
   "cell_type": "markdown",
   "id": "78edc924",
   "metadata": {},
   "source": []
  }
 ],
 "metadata": {
  "kernelspec": {
   "display_name": "pytorch",
   "language": "python",
   "name": "python3"
  },
  "language_info": {
   "name": "python",
   "version": "3.10.18"
  }
 },
 "nbformat": 4,
 "nbformat_minor": 5
}
