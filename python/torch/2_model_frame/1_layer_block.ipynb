{
 "cells": [
  {
   "cell_type": "markdown",
   "id": "70e997cb",
   "metadata": {},
   "source": [
    "介绍层和块(layers,block)"
   ]
  },
  {
   "cell_type": "markdown",
   "id": "a2f358dc",
   "metadata": {},
   "source": [
    "块（block）可以描述单个层、由多个层组成的组件或整个模型本身。  \n",
    "使用块进行抽象的一个好处是可以将一些块组合成更大的组件， 这一过程通常是递归的"
   ]
  },
  {
   "cell_type": "markdown",
   "id": "d26cdab7",
   "metadata": {},
   "source": [
    "从编程的角度来看，块由类（class）表示。  \n",
    "它的任何子类都必须定义一个将其输入转换为输出的前向传播函数， 并且必须存储任何必需的参数。  \n",
    "注意，有些块不需要任何参数。 最后，为了计算梯度，块必须具有反向传播函数。  \n",
    "在定义我们自己的块时，由于自动微分（在 2.5节 中引入） 提供了一些后端实现，我们只需要考虑前向传播函数和必需的参数。"
   ]
  },
  {
   "cell_type": "markdown",
   "id": "39a13016",
   "metadata": {},
   "source": [
    "下面的代码生成一个网络，其中包含一个具有256个单元和ReLU激活函数的全连接隐藏层， 然后是一个具有10个隐藏单元且不带激活函数的全连接输出层。"
   ]
  },
  {
   "cell_type": "code",
   "execution_count": 1,
   "id": "e0437a1e",
   "metadata": {},
   "outputs": [
    {
     "data": {
      "text/plain": [
       "tensor([[ 0.1822,  0.2442, -0.1306,  0.1434, -0.1137,  0.1714, -0.2374,  0.0860,\n",
       "         -0.1158,  0.0176],\n",
       "        [ 0.1137,  0.0519, -0.0602,  0.1616,  0.0777,  0.0867, -0.1549,  0.0853,\n",
       "         -0.0359, -0.0367]], grad_fn=<AddmmBackward0>)"
      ]
     },
     "execution_count": 1,
     "metadata": {},
     "output_type": "execute_result"
    }
   ],
   "source": [
    "import torch\n",
    "from torch import nn\n",
    "from torch.nn import functional as F\n",
    "\n",
    "net = nn.Sequential(nn.Linear(20, 256), nn.ReLU(), nn.Linear(256, 10))\n",
    "\n",
    "X = torch.rand(2, 20)\n",
    "net(X)\n"
   ]
  },
  {
   "cell_type": "markdown",
   "id": "9db378ce",
   "metadata": {},
   "source": [
    "通过实例化nn.Sequential来构建我们的模型， 层的执行顺序是作为参数传递的。  \n",
    "简而言之，nn.Sequential定义了一种特殊的Module， 即在PyTorch中表示一个块的类， 它维护了一个由Module组成的有序列表。  \n",
    "注意，两个全连接层都是Linear类的实例， Linear类本身就是Module的子类。  \n",
    "另外，到目前为止，我们一直在通过net(X)调用我们的模型来获得模型的输出。  \n",
    "这实际上是net.\\__call\\__(X)的简写。  \n",
    "这个前向传播函数非常简单： 它将列表中的每个块连接在一起，将每个块的输出作为下一个块的输入。"
   ]
  },
  {
   "cell_type": "markdown",
   "id": "67942c97",
   "metadata": {},
   "source": [
    "<pre>自定义块  \n",
    "简要总结一下每个块必须提供的基本功能  \n",
    "\n",
    "    1.将输入数据作为其前向传播函数的参数。\n",
    "\n",
    "    2.通过前向传播函数来生成输出。请注意，输出的形状可能与输入的形状不同。例如，我们上面模型中的第一个全连接的层接收一个20维的输入，但是返回一个维度为256的输出。\n",
    "\n",
    "    3.计算其输出关于输入的梯度，可通过其反向传播函数进行访问。通常这是自动发生的。\n",
    "\n",
    "    4.存储和访问前向传播计算所需的参数。\n",
    "\n",
    "    5.根据需要初始化模型参数。\n",
    "\n"
   ]
  },
  {
   "cell_type": "markdown",
   "id": "179d0b56",
   "metadata": {},
   "source": [
    "从零开始编写一个块。  \n",
    "它包含一个多层感知机，其具有256个隐藏单元的隐藏层和一个10维输出层。  \n",
    "注意，下面的MLP类继承了表示块的类。  \n",
    "我们的实现只需要提供我们自己的构造函数（Python中的__init__函数）和前向传播函数。"
   ]
  },
  {
   "cell_type": "code",
   "execution_count": 4,
   "id": "fa53245a",
   "metadata": {},
   "outputs": [],
   "source": [
    "class MLP(nn.Module):\n",
    "    # 用模型参数声明层。这里，我们声明两个全连接的层\n",
    "    def __init__(self):\n",
    "        # 调用MLP的父类Module的构造函数来执行必要的初始化。\n",
    "        # 这样，在类实例化时也可以指定其他函数参数，例如模型参数params（稍后将介绍）\n",
    "        super().__init__()\n",
    "        self.hidden=nn.Linear(20,256)\n",
    "        self.out=nn.Linear(256,10)\n",
    "\n",
    "    # 定义模型的前向传播，即如何根据输入X返回所需的模型输出\n",
    "    def forward(self,X):\n",
    "        # 注意，这里我们使用ReLU的函数版本，其在nn.functional模块中定义。\n",
    "        return self.out(F.relu(self.hidden(X)))"
   ]
  },
  {
   "cell_type": "markdown",
   "id": "b5360af3",
   "metadata": {},
   "source": [
    "除非我们实现一个新的运算符， 否则我们不必担心反向传播函数或参数初始化， 系统将自动生成这些"
   ]
  },
  {
   "cell_type": "code",
   "execution_count": 5,
   "id": "22c006be",
   "metadata": {},
   "outputs": [
    {
     "data": {
      "text/plain": [
       "tensor([[ 0.1033, -0.1391,  0.0533, -0.0606, -0.0818,  0.0706,  0.0736,  0.0912,\n",
       "         -0.0832, -0.0205],\n",
       "        [ 0.0925, -0.1671,  0.0274, -0.0266, -0.0350, -0.0092,  0.1303,  0.1412,\n",
       "         -0.0008,  0.0727]], grad_fn=<AddmmBackward0>)"
      ]
     },
     "execution_count": 5,
     "metadata": {},
     "output_type": "execute_result"
    }
   ],
   "source": [
    "net = MLP()\n",
    "net(X)\n"
   ]
  },
  {
   "cell_type": "markdown",
   "id": "fc2a42c6",
   "metadata": {},
   "source": [
    "顺序块  \n",
    "看看Sequential类是如何工作的    \n",
    "构建我们自己的简化的MySequential， 我们只需要定义两个关键函数：  \n",
    "\n",
    "    一种将块逐个追加到列表中的函数；  \n",
    "\n",
    "    一种前向传播函数，用于将输入按追加块的顺序传递给块组成的“链条”。  \n",
    "\n",
    "下面的MySequential类提供了与默认Sequential类相同的功能"
   ]
  },
  {
   "cell_type": "code",
   "execution_count": 18,
   "id": "df432cfc",
   "metadata": {},
   "outputs": [],
   "source": [
    "class MySequential(nn.Module):\n",
    "    def __init__(self,*args):\n",
    "        super().__init__()\n",
    "        for idx,module in enumerate(args):\n",
    "            # 这里，module是Module子类的一个实例。我们把它保存在'Module'类的成员\n",
    "            # 变量_modules中。_module的类型是OrderedDict\n",
    "            self._modules[str(idx)]=module\n",
    "\n",
    "    def forward(self,X):\n",
    "        for block in self._modules.values():\n",
    "            X=block(X)\n",
    "        return X"
   ]
  },
  {
   "cell_type": "markdown",
   "id": "6d6f8e30",
   "metadata": {},
   "source": [
    "__init__函数将每个模块逐个添加到有序字典_modules中。  \n",
    "读者可能会好奇为什么每个Module都有一个_modules属性？   \n",
    "以及为什么我们使用它而不是自己定义一个Python列表？   \n",
    "简而言之，_modules的主要优点是：   \n",
    "在模块的参数初始化过程中， 系统知道在_modules字典中查找需要初始化参数的子块。\n",
    "\n",
    "当MySequential的前向传播函数被调用时， 每个添加的块都按照它们被添加的顺序执行。   \n",
    "\n",
    "现在可以使用我们的MySequential类重新实现多层感知机。"
   ]
  },
  {
   "cell_type": "code",
   "execution_count": 19,
   "id": "968e4a7b",
   "metadata": {},
   "outputs": [
    {
     "data": {
      "text/plain": [
       "tensor([[ 0.1562,  0.0602,  0.0727,  0.2359, -0.1304,  0.2054, -0.2025,  0.0031,\n",
       "         -0.1251,  0.1205],\n",
       "        [ 0.1281,  0.1897, -0.0363, -0.0802, -0.1686,  0.0846, -0.0511,  0.0547,\n",
       "         -0.0493,  0.2548]], grad_fn=<AddmmBackward0>)"
      ]
     },
     "execution_count": 19,
     "metadata": {},
     "output_type": "execute_result"
    }
   ],
   "source": [
    "net = MySequential(nn.Linear(20, 256), nn.ReLU(), nn.Linear(256, 10))\n",
    "net(X)\n"
   ]
  },
  {
   "cell_type": "markdown",
   "id": "115bba67",
   "metadata": {},
   "source": [
    "在前向传播函数中执行代码  \n",
    "Sequential类使模型构造变得简单， 允许我们组合新的架构，而不必定义自己的类。   \n",
    "然而，并不是所有的架构都是简单的顺序架构。 当需要更强的灵活性时，我们需要定义自己的块。   \n",
    "例如，我们可能希望在前向传播函数中执行Python的控制流。   \n",
    "此外，我们可能希望执行任意的数学运算， 而不是简单地依赖预定义的神经网络层。"
   ]
  },
  {
   "cell_type": "markdown",
   "id": "4c803027",
   "metadata": {},
   "source": [
    "有时我们可能希望合并既不是上一层的结果也不是可更新参数的项， 我们称之为常数参数（constant parameter）。  \n",
    "例如，我们需要一个计算函数$f(x,w)=c \\cdot w^Tx$的层， 其中x是输入， w是参数， c是某个在优化过程中没有更新的指定常量。"
   ]
  },
  {
   "cell_type": "code",
   "execution_count": 25,
   "id": "ccb45d6f",
   "metadata": {},
   "outputs": [],
   "source": [
    "class FixedHiddenMLP(nn.Module):\n",
    "    def __init__(self):\n",
    "        super().__init__()\n",
    "        # 不计算梯度的随机权重参数C。因此其在训练期间保持不变\n",
    "        self.rand_weight=torch.rand((20,20),requires_grad=False)\n",
    "        self.linear=nn.Linear(20,20)\n",
    "    def forward(self,X):\n",
    "        X=self.linear(X)\n",
    "        # 使用创建的常量参数以及relu和mm函数\n",
    "        X=F.relu(torch.mm(X,self.rand_weight)+1)\n",
    "        # 复用全连接层。这相当于两个全连接层共享参数\n",
    "        X=self.linear(X)\n",
    "        # 控制流\n",
    "        while X.abs().sum()>1:\n",
    "            X/=2\n",
    "        return X.sum()\n"
   ]
  },
  {
   "cell_type": "markdown",
   "id": "b813b51d",
   "metadata": {},
   "source": [
    "实现了一个隐藏层， 其权重（self.rand_weight）在实例化时被随机初始化，之后为常量。  \n",
    "这个权重不是一个模型参数，因此它永远不会被反向传播更新。  \n",
    "然后，神经网络将这个固定层的输出通过一个全连接层  \n",
    "模型做了一些不寻常的事情:  \n",
    "行了一个while循环，在L1范数大于1的条件下， 将输出向量除以2，直到它满足条件为止。  \n",
    "最后，模型返回了X中所有项的和。  \n",
    "注意，此操作可能不会常用于在任何实际任务中， 我们只展示如何将任意代码集成到神经网络计算的流程中。"
   ]
  },
  {
   "cell_type": "code",
   "execution_count": 26,
   "id": "7f5cb957",
   "metadata": {},
   "outputs": [
    {
     "data": {
      "text/plain": [
       "tensor(-0.0002, grad_fn=<SumBackward0>)"
      ]
     },
     "execution_count": 26,
     "metadata": {},
     "output_type": "execute_result"
    }
   ],
   "source": [
    "net = FixedHiddenMLP()\n",
    "net(X)\n"
   ]
  },
  {
   "cell_type": "markdown",
   "id": "fe2b3145",
   "metadata": {},
   "source": [
    "可以混合搭配各种组合块的方法。 在下面的例子中，我们以一些想到的方法嵌套块。"
   ]
  },
  {
   "cell_type": "code",
   "execution_count": 30,
   "id": "34414268",
   "metadata": {},
   "outputs": [
    {
     "data": {
      "text/plain": [
       "tensor(0.4044, grad_fn=<SumBackward0>)"
      ]
     },
     "execution_count": 30,
     "metadata": {},
     "output_type": "execute_result"
    }
   ],
   "source": [
    "class NestMLP(nn.Module):\n",
    "    def __init__(self):\n",
    "        super().__init__()\n",
    "        self.net=nn.Sequential(\n",
    "            nn.Linear(20,64),\n",
    "            nn.ReLU(),\n",
    "            nn.Linear(64,32),\n",
    "            nn.ReLU(),\n",
    "        )\n",
    "        self.linear=nn.Linear(32,16)\n",
    "    \n",
    "    def forward(self,X):\n",
    "        return self.linear(self.net(X))\n",
    "\n",
    "chimera=nn.Sequential(\n",
    "    NestMLP(),\n",
    "    nn.Linear(16,20),\n",
    "    FixedHiddenMLP())\n",
    "\n",
    "chimera(X)"
   ]
  },
  {
   "cell_type": "code",
   "execution_count": null,
   "id": "94c487d3",
   "metadata": {},
   "outputs": [],
   "source": []
  }
 ],
 "metadata": {
  "kernelspec": {
   "display_name": "pytorch",
   "language": "python",
   "name": "python3"
  },
  "language_info": {
   "codemirror_mode": {
    "name": "ipython",
    "version": 3
   },
   "file_extension": ".py",
   "mimetype": "text/x-python",
   "name": "python",
   "nbconvert_exporter": "python",
   "pygments_lexer": "ipython3",
   "version": "3.10.18"
  }
 },
 "nbformat": 4,
 "nbformat_minor": 5
}
