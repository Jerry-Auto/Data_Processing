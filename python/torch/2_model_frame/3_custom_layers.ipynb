{
 "cells": [
  {
   "cell_type": "markdown",
   "id": "0ee5e676",
   "metadata": {},
   "source": [
    "介绍自定义层  \n",
    "可以用创造性的方式组合不同的层，从而设计出适用于各种任务的架构  \n",
    "发明一个现在在深度学习框架中还不存在的层"
   ]
  },
  {
   "cell_type": "markdown",
   "id": "7e1deea8",
   "metadata": {},
   "source": [
    "不带参数的层  \n",
    "构造一个没有任何参数的自定义层  \n",
    "下面的CenteredLayer类要从其输入中减去均值。  \n",
    "要构建它，我们只需继承基础层类并实现前向传播功能。"
   ]
  },
  {
   "cell_type": "code",
   "execution_count": 2,
   "id": "c58fc1de",
   "metadata": {},
   "outputs": [],
   "source": [
    "import torch \n",
    "import torch.nn.functional as F\n",
    "from torch import nn\n",
    "class CenteredLayer(nn.Module):\n",
    "    def __init__(self):\n",
    "        super().__init__()\n",
    "\n",
    "\n",
    "    def forward(self,X):\n",
    "        return X-X.mean()"
   ]
  },
  {
   "cell_type": "markdown",
   "id": "48d4b1be",
   "metadata": {},
   "source": [
    "向该层提供一些数据，验证它是否能按预期工作"
   ]
  },
  {
   "cell_type": "code",
   "execution_count": 3,
   "id": "a16d393d",
   "metadata": {},
   "outputs": [
    {
     "data": {
      "text/plain": [
       "tensor([-2., -1.,  0.,  1.,  2.])"
      ]
     },
     "execution_count": 3,
     "metadata": {},
     "output_type": "execute_result"
    }
   ],
   "source": [
    "layer = CenteredLayer()\n",
    "layer(torch.FloatTensor([1, 2, 3, 4, 5]))\n"
   ]
  },
  {
   "cell_type": "markdown",
   "id": "31a9c7d4",
   "metadata": {},
   "source": [
    "现在，我们可以将层作为组件合并到更复杂的模型中。"
   ]
  },
  {
   "cell_type": "code",
   "execution_count": 4,
   "id": "bb8a04f6",
   "metadata": {},
   "outputs": [],
   "source": [
    "net=nn.Sequential(\n",
    "    nn.Linear(8,128),\n",
    "    CenteredLayer()\n",
    ")"
   ]
  },
  {
   "cell_type": "markdown",
   "id": "db73b7ec",
   "metadata": {},
   "source": [
    "作为额外的健全性检查，我们可以在向该网络发送随机数据后，检查均值是否为0。  \n",
    "由于我们处理的是浮点数，因为存储精度的原因，我们仍然可能会看到一个非常小的非零数。"
   ]
  },
  {
   "cell_type": "code",
   "execution_count": 5,
   "id": "20781c47",
   "metadata": {},
   "outputs": [
    {
     "data": {
      "text/plain": [
       "tensor(4.0745e-09, grad_fn=<MeanBackward0>)"
      ]
     },
     "execution_count": 5,
     "metadata": {},
     "output_type": "execute_result"
    }
   ],
   "source": [
    "Y=net(torch.rand(4,8))\n",
    "Y.mean()"
   ]
  },
  {
   "cell_type": "markdown",
   "id": "d0262524",
   "metadata": {},
   "source": [
    "带参数的层  \n",
    "继续定义具有参数的层， 这些参数可以通过训练进行调整。  \n",
    "我们可以使用内置函数来创建参数，这些函数提供一些基本的管理功能。  \n",
    "比如管理访问、初始化、共享、保存和加载模型参数。  \n",
    "这样做的好处之一是：我们不需要为每个自定义层编写自定义的序列化程序。\n",
    "\n",
    "现在，让我们实现自定义版本的全连接层。 \n",
    "回想一下，该层需要两个参数，一个用于表示权重，另一个用于表示偏置项。  \n",
    "在此实现中，我们使用修正线性单元(relu)作为激活函数。  \n",
    "该层需要输入参数：in_units和units，分别表示输入数d和输出数q。\n",
    "$$\\vec o_{1 \\times q}=\\vec{x}_{1 \\times d}W_{d \\times q}+\\vec{b}_{1 \\times q}$$"
   ]
  },
  {
   "cell_type": "code",
   "execution_count": 7,
   "id": "afed2018",
   "metadata": {},
   "outputs": [],
   "source": [
    "class MyLinear(nn.Module):\n",
    "    def __init__(self, in_units, units):\n",
    "        super().__init__()\n",
    "        self.weight=nn.Parameter(torch.rand(in_units,units))\n",
    "        self.bias=nn.Parameter(torch.rand(units,))\n",
    "    \n",
    "    def forward(self,X):\n",
    "        linear=torch.mm(X,self.weight.data)+self.bias.data\n",
    "        return F.relu(linear)\n"
   ]
  },
  {
   "cell_type": "markdown",
   "id": "6275eb31",
   "metadata": {},
   "source": [
    "实例化MyLinear类并访问其模型参数"
   ]
  },
  {
   "cell_type": "code",
   "execution_count": 8,
   "id": "60440647",
   "metadata": {},
   "outputs": [
    {
     "data": {
      "text/plain": [
       "Parameter containing:\n",
       "tensor([[0.2801, 0.0844, 0.5043],\n",
       "        [0.1674, 0.7256, 0.4996],\n",
       "        [0.8017, 0.6882, 0.4554],\n",
       "        [0.8114, 0.0291, 0.0189],\n",
       "        [0.4198, 0.3908, 0.6795]], requires_grad=True)"
      ]
     },
     "execution_count": 8,
     "metadata": {},
     "output_type": "execute_result"
    }
   ],
   "source": [
    "linear = MyLinear(5, 3)\n",
    "linear.weight\n"
   ]
  },
  {
   "cell_type": "markdown",
   "id": "fbb89c74",
   "metadata": {},
   "source": [
    "以使用自定义层直接执行前向传播计算"
   ]
  },
  {
   "cell_type": "code",
   "execution_count": 9,
   "id": "45ae5819",
   "metadata": {},
   "outputs": [
    {
     "data": {
      "text/plain": [
       "tensor([[1.9057, 1.7435, 1.5225],\n",
       "        [0.8720, 1.7081, 1.2995]])"
      ]
     },
     "execution_count": 9,
     "metadata": {},
     "output_type": "execute_result"
    }
   ],
   "source": [
    "linear(torch.rand(2, 5))"
   ]
  },
  {
   "cell_type": "markdown",
   "id": "ae7fee95",
   "metadata": {},
   "source": [
    "还可以使用自定义层构建模型，就像使用内置的全连接层一样使用自定义层"
   ]
  },
  {
   "cell_type": "code",
   "execution_count": 10,
   "id": "38c3b4c3",
   "metadata": {},
   "outputs": [
    {
     "data": {
      "text/plain": [
       "tensor([[60.4864],\n",
       "        [64.4479]])"
      ]
     },
     "execution_count": 10,
     "metadata": {},
     "output_type": "execute_result"
    }
   ],
   "source": [
    "net = nn.Sequential(MyLinear(64, 8), MyLinear(8, 1))\n",
    "net(torch.rand(2, 64))\n"
   ]
  },
  {
   "cell_type": "code",
   "execution_count": null,
   "id": "f2ce488d",
   "metadata": {},
   "outputs": [],
   "source": []
  }
 ],
 "metadata": {
  "kernelspec": {
   "display_name": "pytorch",
   "language": "python",
   "name": "python3"
  },
  "language_info": {
   "codemirror_mode": {
    "name": "ipython",
    "version": 3
   },
   "file_extension": ".py",
   "mimetype": "text/x-python",
   "name": "python",
   "nbconvert_exporter": "python",
   "pygments_lexer": "ipython3",
   "version": "3.10.18"
  }
 },
 "nbformat": 4,
 "nbformat_minor": 5
}
