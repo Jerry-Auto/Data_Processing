{
 "cells": [
  {
   "cell_type": "markdown",
   "id": "589c5954",
   "metadata": {},
   "source": [
    "如何使用单个GPU，然后是如何使用多个GPU和多个服务器（具有多个GPU）"
   ]
  },
  {
   "cell_type": "markdown",
   "id": "4cec3d2d",
   "metadata": {},
   "source": [
    "在PyTorch中，每个数组都有一个设备（device）， 我们通常将其称为环境（context）。  \n",
    "默认情况下，所有变量和相关的计算都分配给CPU。有时环境可能是GPU。  \n",
    "当我们跨多个服务器部署作业时，事情会变得更加棘手。  \n",
    "通过智能地将数组分配给环境， 我们可以最大限度地减少在设备之间传输数据的时间。  \n",
    "例如，当在带有GPU的服务器上训练神经网络时， 我们通常希望模型的参数在GPU上。\n",
    "\n",
    "要运行此部分中的程序，至少需要两个GPU。  \n",
    "注意，对大多数桌面计算机来说，这可能是奢侈的，但在云中很容易获得。  \n",
    "例如可以使用AWS EC2的多GPU实例。  \n",
    "本书的其他章节大都不需要多个GPU， 而本节只是为了展示数据如何在不同的设备之间传递。"
   ]
  },
  {
   "cell_type": "markdown",
   "id": "0cd9df5e",
   "metadata": {},
   "source": [
    "计算设备\n",
    "我们可以指定用于存储和计算的设备，如CPU和GPU。  \n",
    "默认情况下，张量是在内存中创建的，然后使用CPU计算它。"
   ]
  },
  {
   "cell_type": "markdown",
   "id": "27ac2c60",
   "metadata": {},
   "source": [
    "在PyTorch中，CPU和GPU可以用torch.device('cpu') 和torch.device('cuda')表示。  \n",
    "应该注意的是，cpu设备意味着所有物理CPU和内存， 这意味着PyTorch的计算将尝试使用所有CPU核心。  \n",
    "然而，gpu设备只代表一个卡和相应的显存。  \n",
    "如果有多个GPU，我们使用torch.device(f'cuda:{i}') 来表示第i块GPU（从0开始）。  \n",
    "另外，cuda:0和cuda是等价的。"
   ]
  },
  {
   "cell_type": "code",
   "execution_count": 1,
   "id": "cb5836bd",
   "metadata": {},
   "outputs": [
    {
     "data": {
      "text/plain": [
       "(device(type='cpu'), device(type='cuda'), device(type='cuda', index=1))"
      ]
     },
     "execution_count": 1,
     "metadata": {},
     "output_type": "execute_result"
    }
   ],
   "source": [
    "import torch\n",
    "from torch import nn\n",
    "\n",
    "torch.device('cpu'), torch.device('cuda'), torch.device('cuda:1')"
   ]
  },
  {
   "cell_type": "code",
   "execution_count": 2,
   "id": "054e4be9",
   "metadata": {},
   "outputs": [
    {
     "data": {
      "text/plain": [
       "1"
      ]
     },
     "execution_count": 2,
     "metadata": {},
     "output_type": "execute_result"
    }
   ],
   "source": [
    "#查询可用gpu的数量\n",
    "torch.cuda.device_count()"
   ]
  },
  {
   "cell_type": "markdown",
   "id": "3c032ccf",
   "metadata": {},
   "source": [
    "现在我们定义了两个方便的函数， 这两个函数允许我们在不存在所需所有GPU的情况下运行代码。"
   ]
  },
  {
   "cell_type": "code",
   "execution_count": null,
   "id": "87b1e63d",
   "metadata": {},
   "outputs": [
    {
     "data": {
      "text/plain": [
       "(device(type='cuda', index=0),\n",
       " device(type='cpu'),\n",
       " [device(type='cuda', index=0)])"
      ]
     },
     "execution_count": 3,
     "metadata": {},
     "output_type": "execute_result"
    }
   ],
   "source": [
    "def try_gpu(i=0):  #@save\n",
    "    \"\"\"如果存在，则返回gpu(i)，否则返回cpu()\"\"\"\n",
    "    if torch.cuda.device_count() >= i + 1:\n",
    "        return torch.device(f'cuda:{i}')\n",
    "    return torch.device('cpu')\n",
    "\n",
    "def try_all_gpus():  #@save\n",
    "    \"\"\"返回所有可用的GPU，如果没有GPU，则返回[cpu(),]\"\"\"\n",
    "    devices = [torch.device(f'cuda:{i}') for i in range(torch.cuda.device_count())]\n",
    "    return devices if devices else [torch.device('cpu')]\n",
    "\n",
    "try_gpu(), try_gpu(10), try_all_gpus()\n"
   ]
  },
  {
   "cell_type": "markdown",
   "id": "3391ed3f",
   "metadata": {},
   "source": [
    "张量与GPU  \n",
    "可以查询张量所在的设备。 默认情况下，张量是在CPU上创建的"
   ]
  },
  {
   "cell_type": "code",
   "execution_count": 4,
   "id": "8b4ae64d",
   "metadata": {},
   "outputs": [
    {
     "data": {
      "text/plain": [
       "device(type='cpu')"
      ]
     },
     "execution_count": 4,
     "metadata": {},
     "output_type": "execute_result"
    }
   ],
   "source": [
    "x = torch.tensor([1, 2, 3])\n",
    "x.device\n"
   ]
  },
  {
   "cell_type": "markdown",
   "id": "8e778fc4",
   "metadata": {},
   "source": [
    "无论何时我们要对多个项进行操作， 它们都必须在同一个设备上。  \n",
    "例如，如果我们对两个张量求和， 我们需要确保两个张量都位于同一个设备上， 否则框架将不知道在哪里存储结果，甚至不知道在哪里执行计算。"
   ]
  },
  {
   "cell_type": "markdown",
   "id": "204b8c20",
   "metadata": {},
   "source": [
    "存储在GPU上  \n",
    "有几种方法可以在GPU上存储张量。  \n",
    "例如，我们可以在创建张量时指定存储设备。 \n",
    "接下来，我们在第一个gpu上创建张量变量X。  \n",
    "在GPU上创建的张量只消耗这个GPU的显存。  \n",
    "我们可以使用nvidia-smi命令查看显存使用情况。  \n",
    "一般来说，我们需要确保不创建超过GPU显存限制的数据。"
   ]
  },
  {
   "cell_type": "code",
   "execution_count": 6,
   "id": "2a058fff",
   "metadata": {},
   "outputs": [
    {
     "data": {
      "text/plain": [
       "tensor([[1., 1., 1.],\n",
       "        [1., 1., 1.]], device='cuda:0')"
      ]
     },
     "execution_count": 6,
     "metadata": {},
     "output_type": "execute_result"
    }
   ],
   "source": [
    "X = torch.ones(2, 3, device=try_gpu())\n",
    "X"
   ]
  },
  {
   "cell_type": "code",
   "execution_count": 9,
   "id": "3e1781bd",
   "metadata": {},
   "outputs": [
    {
     "data": {
      "text/plain": [
       "tensor([[0.7178, 0.2061, 0.2288],\n",
       "        [0.7464, 0.2408, 0.0329]], device='cuda:0')"
      ]
     },
     "execution_count": 9,
     "metadata": {},
     "output_type": "execute_result"
    }
   ],
   "source": [
    "Y = torch.rand(2, 3, device=try_gpu(0))#这里如果有第二块GPU，try_gpu(1)\n",
    "Y"
   ]
  },
  {
   "cell_type": "markdown",
   "id": "19ecc2cf",
   "metadata": {},
   "source": [
    "复制  \n",
    "如果我们要计算X + Y，我们需要决定在哪里执行这个操作。  \n",
    "例如，我们可以将X传输到第二个GPU并在那里执行操作。  \n",
    "不要简单地X加上Y，因为这会导致异常， 运行时引擎不知道该怎么做：它在同一设备上找不到数据会导致失败。  \n",
    "由于Y位于第二个GPU上，所以我们需要将X移到那里， 然后才能执行相加运算。"
   ]
  },
  {
   "cell_type": "code",
   "execution_count": 10,
   "id": "cdf210e6",
   "metadata": {},
   "outputs": [
    {
     "name": "stdout",
     "output_type": "stream",
     "text": [
      "tensor([[1., 1., 1.],\n",
      "        [1., 1., 1.]], device='cuda:0')\n",
      "tensor([[1., 1., 1.],\n",
      "        [1., 1., 1.]], device='cuda:0')\n"
     ]
    }
   ],
   "source": [
    "Z = X.cuda(0)\n",
    "print(X)\n",
    "print(Z)\n"
   ]
  },
  {
   "cell_type": "markdown",
   "id": "9d8a365a",
   "metadata": {},
   "source": [
    "现在数据在同一个GPU上（Z和Y都在），我们可以将它们相加"
   ]
  },
  {
   "cell_type": "code",
   "execution_count": 11,
   "id": "e2ad7cbc",
   "metadata": {},
   "outputs": [
    {
     "data": {
      "text/plain": [
       "tensor([[1.7178, 1.2061, 1.2288],\n",
       "        [1.7464, 1.2408, 1.0329]], device='cuda:0')"
      ]
     },
     "execution_count": 11,
     "metadata": {},
     "output_type": "execute_result"
    }
   ],
   "source": [
    "Y + Z"
   ]
  },
  {
   "cell_type": "markdown",
   "id": "30d848e7",
   "metadata": {},
   "source": [
    "假设变量Z已经存在于第二个GPU上。 如果我们还是调用Z.cuda(1)会发生什么？ 它将返回Z，而不会复制并分配新内存。"
   ]
  },
  {
   "cell_type": "code",
   "execution_count": 13,
   "id": "17eada5a",
   "metadata": {},
   "outputs": [
    {
     "data": {
      "text/plain": [
       "True"
      ]
     },
     "execution_count": 13,
     "metadata": {},
     "output_type": "execute_result"
    }
   ],
   "source": [
    "Z.cuda(0) is Z"
   ]
  },
  {
   "cell_type": "markdown",
   "id": "ba96597f",
   "metadata": {},
   "source": [
    "神经网络与GPU  \n",
    "\n",
    "类似地，神经网络模型可以指定设备。 下面的代码将模型参数放在GPU上"
   ]
  },
  {
   "cell_type": "code",
   "execution_count": 14,
   "id": "3516a8bc",
   "metadata": {},
   "outputs": [],
   "source": [
    "net = nn.Sequential(nn.Linear(3, 1))\n",
    "net = net.to(device=try_gpu())"
   ]
  },
  {
   "cell_type": "markdown",
   "id": "e86c28cc",
   "metadata": {},
   "source": [
    "在接下来的几章中， 我们将看到更多关于如何在GPU上运行模型的例子， 因为它们将变得更加计算密集。\n",
    "\n",
    "当输入为GPU上的张量时，模型将在同一GPU上计算结果"
   ]
  },
  {
   "cell_type": "code",
   "execution_count": 15,
   "id": "673b1c33",
   "metadata": {},
   "outputs": [
    {
     "data": {
      "text/plain": [
       "tensor([[-1.2394],\n",
       "        [-1.2394]], device='cuda:0', grad_fn=<AddmmBackward0>)"
      ]
     },
     "execution_count": 15,
     "metadata": {},
     "output_type": "execute_result"
    }
   ],
   "source": [
    "net(X)"
   ]
  },
  {
   "cell_type": "code",
   "execution_count": 16,
   "id": "bd944faa",
   "metadata": {},
   "outputs": [
    {
     "data": {
      "text/plain": [
       "device(type='cuda', index=0)"
      ]
     },
     "execution_count": 16,
     "metadata": {},
     "output_type": "execute_result"
    }
   ],
   "source": [
    "#让我们确认模型参数存储在同一个GPU\n",
    "net[0].weight.data.device\n"
   ]
  },
  {
   "cell_type": "markdown",
   "id": "4a1a3156",
   "metadata": {},
   "source": [
    "总之，只要所有的数据和参数都在同一个设备上， 我们就可以有效地学习模型。 在下面的章节中，我们将看到几个这样的例子。"
   ]
  },
  {
   "cell_type": "markdown",
   "id": "a00236b6",
   "metadata": {},
   "source": []
  }
 ],
 "metadata": {
  "kernelspec": {
   "display_name": "pytorch",
   "language": "python",
   "name": "python3"
  },
  "language_info": {
   "codemirror_mode": {
    "name": "ipython",
    "version": 3
   },
   "file_extension": ".py",
   "mimetype": "text/x-python",
   "name": "python",
   "nbconvert_exporter": "python",
   "pygments_lexer": "ipython3",
   "version": "3.10.18"
  }
 },
 "nbformat": 4,
 "nbformat_minor": 5
}
