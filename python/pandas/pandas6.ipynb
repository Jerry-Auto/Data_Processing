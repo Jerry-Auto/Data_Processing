{
 "cells": [
  {
   "cell_type": "markdown",
   "id": "4a6e6203",
   "metadata": {},
   "source": [
    "介绍一些pandas的高级常用操作"
   ]
  },
  {
   "cell_type": "markdown",
   "id": "74199874",
   "metadata": {},
   "source": [
    "数据读取  \n",
    "header指出哪一行是列名  \n",
    "na_values哪一个标识表示NaN值  "
   ]
  },
  {
   "cell_type": "code",
   "execution_count": 2,
   "id": "2981c6e5",
   "metadata": {},
   "outputs": [
    {
     "name": "stdout",
     "output_type": "stream",
     "text": [
      "   NumRooms Alley   Price\n",
      "0       NaN  Pave  127500\n",
      "1       2.0   NaN  106000\n",
      "2       4.0   NaN  178100\n",
      "3       NaN   NaN  140000\n",
      "NumRooms    float64\n",
      "Alley        object\n",
      "Price         int64\n",
      "dtype: object\n"
     ]
    }
   ],
   "source": [
    "import pandas as pd\n",
    "data = pd.read_csv('data.csv',header=0, na_values=[\"NA\"])\n",
    "print(data)\n",
    "print(data.dtypes)\n"
   ]
  },
  {
   "cell_type": "markdown",
   "id": "584b0ee6",
   "metadata": {},
   "source": [
    "DF.dtypes：获取DataFrame各列的数据类型，返回Series，包含列名及其对应的数据类型  \n",
    "Series.index：返回的是Pandas的 Index 对象，它代表了 Series 中数据的标签（索引）集合"
   ]
  },
  {
   "cell_type": "code",
   "execution_count": 15,
   "id": "099654ae",
   "metadata": {},
   "outputs": [
    {
     "data": {
      "text/plain": [
       "(NumRooms    float64\n",
       " Alley        object\n",
       " Price         int64\n",
       " dtype: object,\n",
       " Index(['NumRooms', 'Alley', 'Price'], dtype='object'))"
      ]
     },
     "execution_count": 15,
     "metadata": {},
     "output_type": "execute_result"
    }
   ],
   "source": [
    "colum_dtypes=data.dtypes\n",
    "colum=colum_dtypes.index\n",
    "colum_dtypes,colum"
   ]
  },
  {
   "cell_type": "markdown",
   "id": "855bdf34",
   "metadata": {},
   "source": [
    "筛选出dtypes为数值类型的列(Series)，返回一个拷贝的DataFrame  "
   ]
  },
  {
   "cell_type": "code",
   "execution_count": 3,
   "id": "67ccc6ad",
   "metadata": {},
   "outputs": [
    {
     "data": {
      "text/html": [
       "<div>\n",
       "<style scoped>\n",
       "    .dataframe tbody tr th:only-of-type {\n",
       "        vertical-align: middle;\n",
       "    }\n",
       "\n",
       "    .dataframe tbody tr th {\n",
       "        vertical-align: top;\n",
       "    }\n",
       "\n",
       "    .dataframe thead th {\n",
       "        text-align: right;\n",
       "    }\n",
       "</style>\n",
       "<table border=\"1\" class=\"dataframe\">\n",
       "  <thead>\n",
       "    <tr style=\"text-align: right;\">\n",
       "      <th></th>\n",
       "      <th>NumRooms</th>\n",
       "      <th>Price</th>\n",
       "    </tr>\n",
       "  </thead>\n",
       "  <tbody>\n",
       "    <tr>\n",
       "      <th>0</th>\n",
       "      <td>NaN</td>\n",
       "      <td>127500</td>\n",
       "    </tr>\n",
       "    <tr>\n",
       "      <th>1</th>\n",
       "      <td>2.0</td>\n",
       "      <td>106000</td>\n",
       "    </tr>\n",
       "    <tr>\n",
       "      <th>2</th>\n",
       "      <td>4.0</td>\n",
       "      <td>178100</td>\n",
       "    </tr>\n",
       "    <tr>\n",
       "      <th>3</th>\n",
       "      <td>NaN</td>\n",
       "      <td>140000</td>\n",
       "    </tr>\n",
       "  </tbody>\n",
       "</table>\n",
       "</div>"
      ],
      "text/plain": [
       "   NumRooms   Price\n",
       "0       NaN  127500\n",
       "1       2.0  106000\n",
       "2       4.0  178100\n",
       "3       NaN  140000"
      ]
     },
     "execution_count": 3,
     "metadata": {},
     "output_type": "execute_result"
    }
   ],
   "source": [
    "num_data=data.select_dtypes(include=[\"number\"])\n",
    "num_data"
   ]
  },
  {
   "cell_type": "markdown",
   "id": "d41a2df5",
   "metadata": {},
   "source": [
    "提取数值列名（不会拷贝数据！）"
   ]
  },
  {
   "cell_type": "code",
   "execution_count": 4,
   "id": "6bf91ff2",
   "metadata": {},
   "outputs": [
    {
     "data": {
      "text/plain": [
       "Index(['NumRooms', 'Price'], dtype='object')"
      ]
     },
     "execution_count": 4,
     "metadata": {},
     "output_type": "execute_result"
    }
   ],
   "source": [
    "numeric_cols = data.select_dtypes(include=[\"number\"]).columns\n",
    "numeric_cols"
   ]
  },
  {
   "cell_type": "markdown",
   "id": "53c39e2d",
   "metadata": {},
   "source": [
    "<pre>布尔索引  \n",
    "    原理：用布尔数组（长度与数据维度一致）选择 True 对应位置的行或列，过滤掉 False 的位置。\n",
    "    特点：\n",
    "        布尔数组可以是：\n",
    "            列表（list）\n",
    "            NumPy 数组（numpy.ndarray）\n",
    "            Pandas（pandas.Series）\n",
    "        支持逻辑运算（&, |, ~）和比较运算（==, !=, >, < 等）。\n",
    "在series和dataframe里都可以使用"
   ]
  },
  {
   "cell_type": "markdown",
   "id": "914b09c3",
   "metadata": {},
   "source": [
    "在 Series 中使用布尔索引"
   ]
  },
  {
   "cell_type": "code",
   "execution_count": 7,
   "id": "598d9281",
   "metadata": {},
   "outputs": [
    {
     "data": {
      "text/plain": [
       "a    10\n",
       "c    30\n",
       "dtype: int64"
      ]
     },
     "execution_count": 7,
     "metadata": {},
     "output_type": "execute_result"
    }
   ],
   "source": [
    "s = pd.Series([10, 20, 30, 40], index=['a', 'b', 'c', 'd'])\n",
    "mask = [True, False, True, False]  # 布尔数组\n",
    "result = s[mask]  # 筛选 True 对应的位置\n",
    "result"
   ]
  },
  {
   "cell_type": "markdown",
   "id": "cfc74c90",
   "metadata": {},
   "source": [
    "使用条件表达式生成布尔 Series"
   ]
  },
  {
   "cell_type": "code",
   "execution_count": 8,
   "id": "9f483fd3",
   "metadata": {},
   "outputs": [
    {
     "data": {
      "text/plain": [
       "c    30\n",
       "d    40\n",
       "dtype: int64"
      ]
     },
     "execution_count": 8,
     "metadata": {},
     "output_type": "execute_result"
    }
   ],
   "source": [
    "mask = s > 20  # 生成布尔 Series\n",
    "result = s[mask]  # 筛选大于 20 的值\n",
    "result"
   ]
  },
  {
   "cell_type": "markdown",
   "id": "f75c2967",
   "metadata": {},
   "source": [
    "在 DataFrame 中使用布尔索引  \n",
    "DataFrame 中，布尔索引本身仅支持一维布尔数组（或 Series）用于行筛选，不支持直接使用二维布尔数组进行同时行和列的筛选  \n",
    "单列条件筛选"
   ]
  },
  {
   "cell_type": "code",
   "execution_count": 12,
   "id": "fc001bea",
   "metadata": {},
   "outputs": [
    {
     "data": {
      "text/plain": [
       "(   A  B     C\n",
       " 0  1  x  10.5\n",
       " 1  2  y  20.3\n",
       " 2  3  z  30.1\n",
       " 3  4  w  40.7,\n",
       " 0    False\n",
       " 1    False\n",
       " 2     True\n",
       " 3     True\n",
       " Name: A, dtype: bool,\n",
       "    A  B     C\n",
       " 2  3  z  30.1\n",
       " 3  4  w  40.7)"
      ]
     },
     "execution_count": 12,
     "metadata": {},
     "output_type": "execute_result"
    }
   ],
   "source": [
    "df = pd.DataFrame({\n",
    "    'A': [1, 2, 3, 4],\n",
    "    'B': ['x', 'y', 'z', 'w'],\n",
    "    'C': [10.5, 20.3, 30.1, 40.7]\n",
    "})\n",
    "mask = df['A'] > 2  # 筛选 A 列大于 2 的行\n",
    "result = df[mask]\n",
    "df,mask,result"
   ]
  },
  {
   "cell_type": "markdown",
   "id": "06c6f3a5",
   "metadata": {},
   "source": [
    "多列条件组合  "
   ]
  },
  {
   "cell_type": "code",
   "execution_count": 13,
   "id": "9a1de424",
   "metadata": {},
   "outputs": [
    {
     "data": {
      "text/plain": [
       "(0    False\n",
       " 1     True\n",
       " 2     True\n",
       " 3    False\n",
       " dtype: bool,\n",
       "    A  B     C\n",
       " 1  2  y  20.3\n",
       " 2  3  z  30.1)"
      ]
     },
     "execution_count": 13,
     "metadata": {},
     "output_type": "execute_result"
    }
   ],
   "source": [
    "mask = (df['A'] > 1) & (df['C'] < 40.0)  # A > 1 且 C < 40\n",
    "result = df[mask]\n",
    "mask,result"
   ]
  },
  {
   "cell_type": "markdown",
   "id": "1829979e",
   "metadata": {},
   "source": [
    "使用 isin() 筛选特定值"
   ]
  },
  {
   "cell_type": "code",
   "execution_count": 14,
   "id": "cef32d19",
   "metadata": {},
   "outputs": [
    {
     "data": {
      "text/plain": [
       "(0     True\n",
       " 1    False\n",
       " 2     True\n",
       " 3    False\n",
       " Name: B, dtype: bool,\n",
       "    A  B     C\n",
       " 0  1  x  10.5\n",
       " 2  3  z  30.1)"
      ]
     },
     "execution_count": 14,
     "metadata": {},
     "output_type": "execute_result"
    }
   ],
   "source": [
    "mask = df['B'].isin(['x', 'z'])  # B 列是 'x' 或 'z' 的行\n",
    "result = df[mask]\n",
    "mask,result"
   ]
  },
  {
   "cell_type": "markdown",
   "id": "2c615e11",
   "metadata": {},
   "source": [
    "组合使用dtypes,index,布尔索引"
   ]
  },
  {
   "cell_type": "code",
   "execution_count": 17,
   "id": "f40cd765",
   "metadata": {},
   "outputs": [
    {
     "data": {
      "text/plain": [
       "(A     True\n",
       " B    False\n",
       " C     True\n",
       " dtype: bool,\n",
       " Index(['A', 'C'], dtype='object'),\n",
       "    A     C\n",
       " 0  1  10.5\n",
       " 1  2  20.3\n",
       " 2  3  30.1\n",
       " 3  4  40.7)"
      ]
     },
     "execution_count": 17,
     "metadata": {},
     "output_type": "execute_result"
    }
   ],
   "source": [
    "numeric_col_index=df.dtypes[df.dtypes!=\"object\"].index\n",
    "numeric_df=df[numeric_col_index]\n",
    "df.dtypes!=\"object\",numeric_col_index,numeric_df"
   ]
  },
  {
   "cell_type": "markdown",
   "id": "cff7b62d",
   "metadata": {},
   "source": [
    "填充NaN值"
   ]
  },
  {
   "cell_type": "code",
   "execution_count": 4,
   "id": "281baf19",
   "metadata": {},
   "outputs": [
    {
     "data": {
      "text/html": [
       "<div>\n",
       "<style scoped>\n",
       "    .dataframe tbody tr th:only-of-type {\n",
       "        vertical-align: middle;\n",
       "    }\n",
       "\n",
       "    .dataframe tbody tr th {\n",
       "        vertical-align: top;\n",
       "    }\n",
       "\n",
       "    .dataframe thead th {\n",
       "        text-align: right;\n",
       "    }\n",
       "</style>\n",
       "<table border=\"1\" class=\"dataframe\">\n",
       "  <thead>\n",
       "    <tr style=\"text-align: right;\">\n",
       "      <th></th>\n",
       "      <th>NumRooms</th>\n",
       "      <th>Alley</th>\n",
       "      <th>Price</th>\n",
       "    </tr>\n",
       "  </thead>\n",
       "  <tbody>\n",
       "    <tr>\n",
       "      <th>0</th>\n",
       "      <td>3.0</td>\n",
       "      <td>Pave</td>\n",
       "      <td>127500</td>\n",
       "    </tr>\n",
       "    <tr>\n",
       "      <th>1</th>\n",
       "      <td>2.0</td>\n",
       "      <td>NaN</td>\n",
       "      <td>106000</td>\n",
       "    </tr>\n",
       "    <tr>\n",
       "      <th>2</th>\n",
       "      <td>4.0</td>\n",
       "      <td>NaN</td>\n",
       "      <td>178100</td>\n",
       "    </tr>\n",
       "    <tr>\n",
       "      <th>3</th>\n",
       "      <td>3.0</td>\n",
       "      <td>NaN</td>\n",
       "      <td>140000</td>\n",
       "    </tr>\n",
       "  </tbody>\n",
       "</table>\n",
       "</div>"
      ],
      "text/plain": [
       "   NumRooms Alley   Price\n",
       "0       3.0  Pave  127500\n",
       "1       2.0   NaN  106000\n",
       "2       4.0   NaN  178100\n",
       "3       3.0   NaN  140000"
      ]
     },
     "execution_count": 4,
     "metadata": {},
     "output_type": "execute_result"
    }
   ],
   "source": [
    "means=data[numeric_cols].mean()\n",
    "data[numeric_cols]=data[numeric_cols].fillna(means)\n",
    "data"
   ]
  },
  {
   "cell_type": "markdown",
   "id": "75810adc",
   "metadata": {},
   "source": [
    "独热编码（One-Hot Encoding），并额外处理缺失值（NaN）  \n",
    "get_dummies输入数据是array或者DataFrame  \n",
    "dummy_na处理nan值"
   ]
  },
  {
   "cell_type": "markdown",
   "id": "aa60797a",
   "metadata": {},
   "source": [
    "输入是array时，返回一个pandas的DataFrame,形状为(array.size,array中不同的值的个数)\n",
    "把array中所有不同的内容提取出来作为列的标签  \n",
    "标签内容在array中的索引值（可能不止出现过一次），映射到dataframe的该标签列所对应的index就是true,其余值为false"
   ]
  },
  {
   "cell_type": "code",
   "execution_count": 5,
   "id": "12419172",
   "metadata": {},
   "outputs": [
    {
     "name": "stdout",
     "output_type": "stream",
     "text": [
      "['Red' 'Green' None 'Green']\n",
      "   Green    Red    NaN\n",
      "0  False   True  False\n",
      "1   True  False  False\n",
      "2  False  False   True\n",
      "3   True  False  False\n"
     ]
    }
   ],
   "source": [
    "import numpy as np\n",
    "color_data=np.array([\"Red\", \"Green\", None, \"Green\"])\n",
    "dummies = pd.get_dummies(color_data,dummy_na=True)\n",
    "print(color_data)\n",
    "print(dummies)"
   ]
  },
  {
   "cell_type": "code",
   "execution_count": 6,
   "id": "4551297c",
   "metadata": {},
   "outputs": [
    {
     "name": "stdout",
     "output_type": "stream",
     "text": [
      "  Color Size  Price\n",
      "0   Red  NaN     10\n",
      "1  Blue    M     20\n",
      "2  None    L     30\n",
      "3  Blue  NaN     40\n",
      "   Price  Color_Blue  Color_Red  Color_nan  Size_L  Size_M  Size_nan\n",
      "0     10       False       True      False   False   False      True\n",
      "1     20        True      False      False   False    True     False\n",
      "2     30       False      False       True    True   False     False\n",
      "3     40        True      False      False   False   False      True\n"
     ]
    }
   ],
   "source": [
    "data = pd.DataFrame({\n",
    "    \"Color\": [\"Red\", \"Blue\", None, \"Blue\"],\n",
    "    \"Size\": [np.nan, \"M\", \"L\", np.nan],\n",
    "    \"Price\": [10, 20, 30, 40]  # 数值列不会被编码\n",
    "})\n",
    "print(data)\n",
    "encoded_data = pd.get_dummies(data, dummy_na=True)\n",
    "print(encoded_data)"
   ]
  },
  {
   "cell_type": "markdown",
   "id": "9a52a540",
   "metadata": {},
   "source": [
    "pandas与numpy的互转  \n",
    "Series、DataFrame 转NumPy数组  to_numpy  "
   ]
  },
  {
   "cell_type": "code",
   "execution_count": 7,
   "id": "cd030d3a",
   "metadata": {},
   "outputs": [
    {
     "name": "stdout",
     "output_type": "stream",
     "text": [
      "[[1 'x']\n",
      " [2 'y']\n",
      " [3 'z']]\n"
     ]
    }
   ],
   "source": [
    "df = pd.DataFrame({\"A\": [1, 2, 3], \"B\": [\"x\", \"y\", \"z\"]})\n",
    "# 方法1: .values (旧方法，仍可用)\n",
    "numpy_array1 = df.values\n",
    "# 方法2: .to_numpy() (推荐，更明确)\n",
    "numpy_array2 = df.to_numpy()\n",
    "print(numpy_array2)"
   ]
  },
  {
   "cell_type": "code",
   "execution_count": 8,
   "id": "a7c0c1cb",
   "metadata": {},
   "outputs": [
    {
     "name": "stdout",
     "output_type": "stream",
     "text": [
      "[1 2 3]\n"
     ]
    }
   ],
   "source": [
    "s = pd.Series([1, 2, 3])\n",
    "numpy_array = s.to_numpy()  # 或 s.values\n",
    "print(numpy_array)  # 输出: [1 2 3]"
   ]
  },
  {
   "cell_type": "markdown",
   "id": "e7b3d779",
   "metadata": {},
   "source": [
    " NumPy 数组转 DataFrame  \n",
    " 直接用numpy新建df  \n",
    " 直接用numpy新建Series"
   ]
  },
  {
   "cell_type": "code",
   "execution_count": 9,
   "id": "98ccde35",
   "metadata": {},
   "outputs": [
    {
     "name": "stdout",
     "output_type": "stream",
     "text": [
      "   A  B\n",
      "0  1  x\n",
      "1  2  y\n",
      "2  3  z\n"
     ]
    }
   ],
   "source": [
    "arr_df = np.array([[1, \"x\"], [2, \"y\"], [3, \"z\"]])\n",
    "# 转换为 DataFrame\n",
    "df = pd.DataFrame(arr_df, columns=[\"A\", \"B\"])\n",
    "print(df)"
   ]
  },
  {
   "cell_type": "code",
   "execution_count": 10,
   "id": "b64a0179",
   "metadata": {},
   "outputs": [
    {
     "name": "stdout",
     "output_type": "stream",
     "text": [
      "0    1\n",
      "1    2\n",
      "2    3\n",
      "dtype: int64\n"
     ]
    }
   ],
   "source": [
    "arr_s = np.array([1, 2, 3])\n",
    "s = pd.Series(arr_s)\n",
    "print(s)"
   ]
  },
  {
   "cell_type": "markdown",
   "id": "dbeac7ee",
   "metadata": {},
   "source": [
    "构造tensor  \n",
    "只能用numpy构造，所以一般先用pd读取数据处理完后to_numpy,再转tensor  \n",
    "pd转numpy也可以pd.values直接转\n",
    "注意tensor只能是数值类型，字符串需要进行处理  \n",
    "as_tensor可传入tensor、numpy、list、tuple"
   ]
  },
  {
   "cell_type": "code",
   "execution_count": 23,
   "id": "f495c783",
   "metadata": {},
   "outputs": [
    {
     "name": "stdout",
     "output_type": "stream",
     "text": [
      "   A  B\n",
      "0  1  3\n",
      "1  2  4\n",
      "[[1 3]\n",
      " [2 4]]\n",
      "tensor([[1, 3],\n",
      "        [2, 4]])\n",
      "tensor([[1, 3],\n",
      "        [2, 4]], device='cuda:0')\n",
      "tensor([[1, 3],\n",
      "        [2, 4]])\n"
     ]
    }
   ],
   "source": [
    "import torch\n",
    "input=pd.get_dummies(df)\n",
    "print(input)\n",
    "ts_a=torch.from_numpy(input.to_numpy())\n",
    "ts_b=torch.as_tensor(input.values.tolist(),device=\"cuda:0\")\n",
    "ts_c=torch.from_numpy(input.values)\n",
    "print(input.values)\n",
    "print(ts_a)\n",
    "print(ts_b)\n",
    "print(ts_c)"
   ]
  },
  {
   "cell_type": "markdown",
   "id": "c42deae6",
   "metadata": {},
   "source": [
    "df.apply方法  \n",
    "<pre>用于对 DataFrame 的行或列应用自定义函数的强大方法，能够高效处理复杂数据操作，避免显式循环。  \n",
    "核心功能\n",
    "    沿轴应用函数：对 DataFrame 的行（axis=0）或列（axis=1）应用函数，返回处理后的结果。\n",
    "    支持复杂操作：可处理多列交互、条件判断、数据转换等任务。\n",
    "    返回类型灵活：根据函数逻辑和参数设置，返回 Series、DataFrame 或标量值。\n",
    "\n",
    "\n",
    "参数                说明                                                        示例\n",
    "func            要应用的函数（自定义或内置）                                    lambda x: x*2\n",
    "axis            应用方向：0（行，默认）或 1（列）                               axis=1 遍历所有行，对每行的列操作\n",
    "result_type     控制返回类型：'reduce'（Series）、'expand'（DataFrame）、）       result_type='expand'\n",
    "                    'broadcast'（广播结果）或 None（自动推断\n",
    "args            传递给 func 的额外位置参数\t                                    args=(2,)\n",
    "**kwargs        传递给 func 的额外关键字参数                                  kwargs={'scale': 1.5}"
   ]
  },
  {
   "cell_type": "code",
   "execution_count": null,
   "id": "00cb993d",
   "metadata": {},
   "outputs": [
    {
     "data": {
      "text/plain": [
       "(   A  B\n",
       " 0  1  3\n",
       " 1  2  4,\n",
       " 0    4\n",
       " 1    6\n",
       " dtype: int64)"
      ]
     },
     "execution_count": 19,
     "metadata": {},
     "output_type": "execute_result"
    }
   ],
   "source": [
    "df = pd.DataFrame({'A': [1, 2], 'B': [3, 4]})\n",
    "#参数row代表被遍历的axis(没有被选中的axis)对应的每个数据，这里是行\n",
    "row_sum = df.apply(lambda row: row['A'] + row['B'], axis=1)\n",
    "df,row_sum"
   ]
  },
  {
   "cell_type": "code",
   "execution_count": 20,
   "id": "682f79b7",
   "metadata": {},
   "outputs": [
    {
     "data": {
      "text/plain": [
       "A    1.5\n",
       "B    3.5\n",
       "dtype: float64"
      ]
     },
     "execution_count": 20,
     "metadata": {},
     "output_type": "execute_result"
    }
   ],
   "source": [
    "col_mean = df.apply(lambda col: col.mean(), axis=0)\n",
    "col_mean"
   ]
  },
  {
   "cell_type": "markdown",
   "id": "37531136",
   "metadata": {},
   "source": [
    "注意，以上求和与求均值是被遍历的轴对应的向量变成一个标量，df返回一个一维的 Series,属于降维  \n",
    "lambda表达式如果返回一个被遍历的轴的数据对应长度的向量，则不会降维  "
   ]
  },
  {
   "cell_type": "code",
   "execution_count": null,
   "id": "1ee7b71f",
   "metadata": {},
   "outputs": [
    {
     "data": {
      "text/html": [
       "<div>\n",
       "<style scoped>\n",
       "    .dataframe tbody tr th:only-of-type {\n",
       "        vertical-align: middle;\n",
       "    }\n",
       "\n",
       "    .dataframe tbody tr th {\n",
       "        vertical-align: top;\n",
       "    }\n",
       "\n",
       "    .dataframe thead th {\n",
       "        text-align: right;\n",
       "    }\n",
       "</style>\n",
       "<table border=\"1\" class=\"dataframe\">\n",
       "  <thead>\n",
       "    <tr style=\"text-align: right;\">\n",
       "      <th></th>\n",
       "      <th>A</th>\n",
       "      <th>B</th>\n",
       "    </tr>\n",
       "  </thead>\n",
       "  <tbody>\n",
       "    <tr>\n",
       "      <th>0</th>\n",
       "      <td>-0.707107</td>\n",
       "      <td>-0.707107</td>\n",
       "    </tr>\n",
       "    <tr>\n",
       "      <th>1</th>\n",
       "      <td>0.707107</td>\n",
       "      <td>0.707107</td>\n",
       "    </tr>\n",
       "  </tbody>\n",
       "</table>\n",
       "</div>"
      ],
      "text/plain": [
       "          A         B\n",
       "0 -0.707107 -0.707107\n",
       "1  0.707107  0.707107"
      ]
     },
     "execution_count": 21,
     "metadata": {},
     "output_type": "execute_result"
    }
   ],
   "source": [
    "nom_df=df.apply(lambda col:(col-col.mean())/col.std())\n",
    "nom_df\n"
   ]
  },
  {
   "cell_type": "markdown",
   "id": "404d4063",
   "metadata": {},
   "source": [
    "使用 apply() + result_type='expand'（返回 DataFrame）  \n",
    "result_type='expand' 强制返回 DataFrame"
   ]
  },
  {
   "cell_type": "code",
   "execution_count": 22,
   "id": "e40b5d53",
   "metadata": {},
   "outputs": [
    {
     "data": {
      "text/plain": [
       "(   A  B\n",
       " 0  1  3\n",
       " 1  2  4,\n",
       "         A    B\n",
       " mean  1.5  3.5\n",
       " sum   3.0  7.0)"
      ]
     },
     "execution_count": 22,
     "metadata": {},
     "output_type": "execute_result"
    }
   ],
   "source": [
    "def process_col(col):\n",
    "    return pd.Series([col.mean(), col.sum()], index=['mean', 'sum'])\n",
    "\n",
    "result = df.apply(process_col, axis=0, result_type='expand')\n",
    "df,result"
   ]
  },
  {
   "cell_type": "code",
   "execution_count": null,
   "id": "38d868a6",
   "metadata": {},
   "outputs": [],
   "source": []
  }
 ],
 "metadata": {
  "kernelspec": {
   "display_name": "pytorch",
   "language": "python",
   "name": "python3"
  },
  "language_info": {
   "codemirror_mode": {
    "name": "ipython",
    "version": 3
   },
   "file_extension": ".py",
   "mimetype": "text/x-python",
   "name": "python",
   "nbconvert_exporter": "python",
   "pygments_lexer": "ipython3",
   "version": "3.10.18"
  }
 },
 "nbformat": 4,
 "nbformat_minor": 5
}
