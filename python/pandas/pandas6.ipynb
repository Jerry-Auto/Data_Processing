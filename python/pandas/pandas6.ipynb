{
 "cells": [
  {
   "cell_type": "markdown",
   "id": "4a6e6203",
   "metadata": {},
   "source": [
    "介绍一些pandas的高级常用操作"
   ]
  },
  {
   "cell_type": "markdown",
   "id": "74199874",
   "metadata": {},
   "source": [
    "数据读取  \n",
    "header指出哪一行是列名  \n",
    "na_values哪一个标识表示NaN值  "
   ]
  },
  {
   "cell_type": "code",
   "execution_count": 1,
   "id": "2981c6e5",
   "metadata": {},
   "outputs": [
    {
     "name": "stdout",
     "output_type": "stream",
     "text": [
      "   NumRooms Alley   Price\n",
      "0       NaN  Pave  127500\n",
      "1       2.0   NaN  106000\n",
      "2       4.0   NaN  178100\n",
      "3       NaN   NaN  140000\n",
      "NumRooms    float64\n",
      "Alley        object\n",
      "Price         int64\n",
      "dtype: object\n"
     ]
    }
   ],
   "source": [
    "import pandas as pd\n",
    "data = pd.read_csv('data.csv',header=0, na_values=[\"NA\"])\n",
    "print(data)\n",
    "print(data.dtypes)\n"
   ]
  },
  {
   "cell_type": "markdown",
   "id": "855bdf34",
   "metadata": {},
   "source": [
    "筛选出dtyoes为数值类型的列(Series)，返回一个拷贝的DataFrame  "
   ]
  },
  {
   "cell_type": "code",
   "execution_count": 2,
   "id": "67ccc6ad",
   "metadata": {},
   "outputs": [
    {
     "data": {
      "text/html": [
       "<div>\n",
       "<style scoped>\n",
       "    .dataframe tbody tr th:only-of-type {\n",
       "        vertical-align: middle;\n",
       "    }\n",
       "\n",
       "    .dataframe tbody tr th {\n",
       "        vertical-align: top;\n",
       "    }\n",
       "\n",
       "    .dataframe thead th {\n",
       "        text-align: right;\n",
       "    }\n",
       "</style>\n",
       "<table border=\"1\" class=\"dataframe\">\n",
       "  <thead>\n",
       "    <tr style=\"text-align: right;\">\n",
       "      <th></th>\n",
       "      <th>NumRooms</th>\n",
       "      <th>Price</th>\n",
       "    </tr>\n",
       "  </thead>\n",
       "  <tbody>\n",
       "    <tr>\n",
       "      <th>0</th>\n",
       "      <td>NaN</td>\n",
       "      <td>127500</td>\n",
       "    </tr>\n",
       "    <tr>\n",
       "      <th>1</th>\n",
       "      <td>2.0</td>\n",
       "      <td>106000</td>\n",
       "    </tr>\n",
       "    <tr>\n",
       "      <th>2</th>\n",
       "      <td>4.0</td>\n",
       "      <td>178100</td>\n",
       "    </tr>\n",
       "    <tr>\n",
       "      <th>3</th>\n",
       "      <td>NaN</td>\n",
       "      <td>140000</td>\n",
       "    </tr>\n",
       "  </tbody>\n",
       "</table>\n",
       "</div>"
      ],
      "text/plain": [
       "   NumRooms   Price\n",
       "0       NaN  127500\n",
       "1       2.0  106000\n",
       "2       4.0  178100\n",
       "3       NaN  140000"
      ]
     },
     "execution_count": 2,
     "metadata": {},
     "output_type": "execute_result"
    }
   ],
   "source": [
    "num_data=data.select_dtypes(include=[\"number\"])\n",
    "num_data"
   ]
  },
  {
   "cell_type": "markdown",
   "id": "d41a2df5",
   "metadata": {},
   "source": [
    "提取数值列名（不会拷贝数据！）"
   ]
  },
  {
   "cell_type": "code",
   "execution_count": 3,
   "id": "6bf91ff2",
   "metadata": {},
   "outputs": [
    {
     "data": {
      "text/plain": [
       "Index(['NumRooms', 'Price'], dtype='object')"
      ]
     },
     "execution_count": 3,
     "metadata": {},
     "output_type": "execute_result"
    }
   ],
   "source": [
    "numeric_cols = data.select_dtypes(include=[\"number\"]).columns\n",
    "numeric_cols"
   ]
  },
  {
   "cell_type": "markdown",
   "id": "cff7b62d",
   "metadata": {},
   "source": [
    "填充NaN值"
   ]
  },
  {
   "cell_type": "code",
   "execution_count": 4,
   "id": "281baf19",
   "metadata": {},
   "outputs": [
    {
     "data": {
      "text/html": [
       "<div>\n",
       "<style scoped>\n",
       "    .dataframe tbody tr th:only-of-type {\n",
       "        vertical-align: middle;\n",
       "    }\n",
       "\n",
       "    .dataframe tbody tr th {\n",
       "        vertical-align: top;\n",
       "    }\n",
       "\n",
       "    .dataframe thead th {\n",
       "        text-align: right;\n",
       "    }\n",
       "</style>\n",
       "<table border=\"1\" class=\"dataframe\">\n",
       "  <thead>\n",
       "    <tr style=\"text-align: right;\">\n",
       "      <th></th>\n",
       "      <th>NumRooms</th>\n",
       "      <th>Alley</th>\n",
       "      <th>Price</th>\n",
       "    </tr>\n",
       "  </thead>\n",
       "  <tbody>\n",
       "    <tr>\n",
       "      <th>0</th>\n",
       "      <td>3.0</td>\n",
       "      <td>Pave</td>\n",
       "      <td>127500</td>\n",
       "    </tr>\n",
       "    <tr>\n",
       "      <th>1</th>\n",
       "      <td>2.0</td>\n",
       "      <td>NaN</td>\n",
       "      <td>106000</td>\n",
       "    </tr>\n",
       "    <tr>\n",
       "      <th>2</th>\n",
       "      <td>4.0</td>\n",
       "      <td>NaN</td>\n",
       "      <td>178100</td>\n",
       "    </tr>\n",
       "    <tr>\n",
       "      <th>3</th>\n",
       "      <td>3.0</td>\n",
       "      <td>NaN</td>\n",
       "      <td>140000</td>\n",
       "    </tr>\n",
       "  </tbody>\n",
       "</table>\n",
       "</div>"
      ],
      "text/plain": [
       "   NumRooms Alley   Price\n",
       "0       3.0  Pave  127500\n",
       "1       2.0   NaN  106000\n",
       "2       4.0   NaN  178100\n",
       "3       3.0   NaN  140000"
      ]
     },
     "execution_count": 4,
     "metadata": {},
     "output_type": "execute_result"
    }
   ],
   "source": [
    "means=data[numeric_cols].mean()\n",
    "data[numeric_cols]=data[numeric_cols].fillna(means)\n",
    "data"
   ]
  },
  {
   "cell_type": "markdown",
   "id": "75810adc",
   "metadata": {},
   "source": [
    "独热编码（One-Hot Encoding），并额外处理缺失值（NaN）  \n",
    "get_dummies输入数据是array或者DataFrame  \n",
    "dummy_na处理nan值"
   ]
  },
  {
   "cell_type": "markdown",
   "id": "aa60797a",
   "metadata": {},
   "source": [
    "输入是array时，返回一个pandas的DataFrame,形状为(array.size,array中不同的值的个数)\n",
    "把array中所有不同的内容提取出来作为列的标签  \n",
    "标签内容在array中的索引值（可能不止出现过一次），映射到dataframe的该标签列所对应的index就是true,其余值为false"
   ]
  },
  {
   "cell_type": "code",
   "execution_count": 5,
   "id": "12419172",
   "metadata": {},
   "outputs": [
    {
     "name": "stdout",
     "output_type": "stream",
     "text": [
      "['Red' 'Green' None 'Green']\n",
      "   Green    Red    NaN\n",
      "0  False   True  False\n",
      "1   True  False  False\n",
      "2  False  False   True\n",
      "3   True  False  False\n"
     ]
    }
   ],
   "source": [
    "import numpy as np\n",
    "color_data=np.array([\"Red\", \"Green\", None, \"Green\"])\n",
    "dummies = pd.get_dummies(color_data,dummy_na=True)\n",
    "print(color_data)\n",
    "print(dummies)"
   ]
  },
  {
   "cell_type": "code",
   "execution_count": 6,
   "id": "4551297c",
   "metadata": {},
   "outputs": [
    {
     "name": "stdout",
     "output_type": "stream",
     "text": [
      "  Color Size  Price\n",
      "0   Red  NaN     10\n",
      "1  Blue    M     20\n",
      "2  None    L     30\n",
      "3  Blue  NaN     40\n",
      "   Price  Color_Blue  Color_Red  Color_nan  Size_L  Size_M  Size_nan\n",
      "0     10       False       True      False   False   False      True\n",
      "1     20        True      False      False   False    True     False\n",
      "2     30       False      False       True    True   False     False\n",
      "3     40        True      False      False   False   False      True\n"
     ]
    }
   ],
   "source": [
    "data = pd.DataFrame({\n",
    "    \"Color\": [\"Red\", \"Blue\", None, \"Blue\"],\n",
    "    \"Size\": [np.nan, \"M\", \"L\", np.nan],\n",
    "    \"Price\": [10, 20, 30, 40]  # 数值列不会被编码\n",
    "})\n",
    "print(data)\n",
    "encoded_data = pd.get_dummies(data, dummy_na=True)\n",
    "print(encoded_data)"
   ]
  },
  {
   "cell_type": "markdown",
   "id": "9a52a540",
   "metadata": {},
   "source": [
    "pandas与numpy的互转  \n",
    "Series、DataFrame 转NumPy数组  to_numpy  "
   ]
  },
  {
   "cell_type": "code",
   "execution_count": 7,
   "id": "cd030d3a",
   "metadata": {},
   "outputs": [
    {
     "name": "stdout",
     "output_type": "stream",
     "text": [
      "[[1 'x']\n",
      " [2 'y']\n",
      " [3 'z']]\n"
     ]
    }
   ],
   "source": [
    "df = pd.DataFrame({\"A\": [1, 2, 3], \"B\": [\"x\", \"y\", \"z\"]})\n",
    "# 方法1: .values (旧方法，仍可用)\n",
    "numpy_array1 = df.values\n",
    "# 方法2: .to_numpy() (推荐，更明确)\n",
    "numpy_array2 = df.to_numpy()\n",
    "print(numpy_array2)"
   ]
  },
  {
   "cell_type": "code",
   "execution_count": 8,
   "id": "a7c0c1cb",
   "metadata": {},
   "outputs": [
    {
     "name": "stdout",
     "output_type": "stream",
     "text": [
      "[1 2 3]\n"
     ]
    }
   ],
   "source": [
    "s = pd.Series([1, 2, 3])\n",
    "numpy_array = s.to_numpy()  # 或 s.values\n",
    "print(numpy_array)  # 输出: [1 2 3]"
   ]
  },
  {
   "cell_type": "markdown",
   "id": "e7b3d779",
   "metadata": {},
   "source": [
    " NumPy 数组转 DataFrame  \n",
    " 直接用numpy新建df  \n",
    " 直接用numpy新建Series"
   ]
  },
  {
   "cell_type": "code",
   "execution_count": 9,
   "id": "98ccde35",
   "metadata": {},
   "outputs": [
    {
     "name": "stdout",
     "output_type": "stream",
     "text": [
      "   A  B\n",
      "0  1  x\n",
      "1  2  y\n",
      "2  3  z\n"
     ]
    }
   ],
   "source": [
    "arr_df = np.array([[1, \"x\"], [2, \"y\"], [3, \"z\"]])\n",
    "# 转换为 DataFrame\n",
    "df = pd.DataFrame(arr_df, columns=[\"A\", \"B\"])\n",
    "print(df)"
   ]
  },
  {
   "cell_type": "code",
   "execution_count": 10,
   "id": "b64a0179",
   "metadata": {},
   "outputs": [
    {
     "name": "stdout",
     "output_type": "stream",
     "text": [
      "0    1\n",
      "1    2\n",
      "2    3\n",
      "dtype: int64\n"
     ]
    }
   ],
   "source": [
    "arr_s = np.array([1, 2, 3])\n",
    "s = pd.Series(arr_s)\n",
    "print(s)"
   ]
  },
  {
   "cell_type": "markdown",
   "id": "dbeac7ee",
   "metadata": {},
   "source": [
    "构造tensor  \n",
    "只能用numpy构造，所以一般先用pd读取数据处理完后to_numpy,再转tensor  \n",
    "注意tensor只能是数值类型，字符串需要进行处理  \n",
    "as_tensor可传入tensor、numpy、list、tuple"
   ]
  },
  {
   "cell_type": "code",
   "execution_count": 12,
   "id": "f495c783",
   "metadata": {},
   "outputs": [
    {
     "name": "stdout",
     "output_type": "stream",
     "text": [
      "     A_1    A_2    A_3    B_x    B_y    B_z\n",
      "0   True  False  False   True  False  False\n",
      "1  False   True  False  False   True  False\n",
      "2  False  False   True  False  False   True\n",
      "[[ True False False  True False False]\n",
      " [False  True False False  True False]\n",
      " [False False  True False False  True]]\n",
      "tensor([[ True, False, False,  True, False, False],\n",
      "        [False,  True, False, False,  True, False],\n",
      "        [False, False,  True, False, False,  True]])\n",
      "tensor([[ True, False, False,  True, False, False],\n",
      "        [False,  True, False, False,  True, False],\n",
      "        [False, False,  True, False, False,  True]], device='cuda:0')\n"
     ]
    }
   ],
   "source": [
    "import torch\n",
    "input=pd.get_dummies(df)\n",
    "print(input)\n",
    "ts_a=torch.from_numpy(input.to_numpy())\n",
    "ts_b=torch.as_tensor(input.values.tolist(),device=\"cuda:0\")\n",
    "print(input.values)\n",
    "print(ts_a)\n",
    "print(ts_b)\n"
   ]
  },
  {
   "cell_type": "code",
   "execution_count": null,
   "id": "c42deae6",
   "metadata": {},
   "outputs": [],
   "source": []
  }
 ],
 "metadata": {
  "kernelspec": {
   "display_name": "pytorch",
   "language": "python",
   "name": "python3"
  },
  "language_info": {
   "codemirror_mode": {
    "name": "ipython",
    "version": 3
   },
   "file_extension": ".py",
   "mimetype": "text/x-python",
   "name": "python",
   "nbconvert_exporter": "python",
   "pygments_lexer": "ipython3",
   "version": "3.10.18"
  }
 },
 "nbformat": 4,
 "nbformat_minor": 5
}
