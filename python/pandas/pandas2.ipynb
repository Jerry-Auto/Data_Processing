{
 "cells": [
  {
   "cell_type": "code",
   "execution_count": 1,
   "id": "dca88fb7",
   "metadata": {},
   "outputs": [],
   "source": [
    "import pandas as pd\n",
    "import numpy as np"
   ]
  },
  {
   "cell_type": "code",
   "execution_count": 3,
   "id": "610c2e83",
   "metadata": {},
   "outputs": [],
   "source": [
    "dates=pd.date_range(\"20251001\",periods=6)\n",
    "df=pd.DataFrame(np.arange(24).reshape(6,4),index=dates,columns=['A','B','C','D'])"
   ]
  },
  {
   "cell_type": "code",
   "execution_count": 4,
   "id": "66fe2661",
   "metadata": {},
   "outputs": [
    {
     "data": {
      "text/html": [
       "<div>\n",
       "<style scoped>\n",
       "    .dataframe tbody tr th:only-of-type {\n",
       "        vertical-align: middle;\n",
       "    }\n",
       "\n",
       "    .dataframe tbody tr th {\n",
       "        vertical-align: top;\n",
       "    }\n",
       "\n",
       "    .dataframe thead th {\n",
       "        text-align: right;\n",
       "    }\n",
       "</style>\n",
       "<table border=\"1\" class=\"dataframe\">\n",
       "  <thead>\n",
       "    <tr style=\"text-align: right;\">\n",
       "      <th></th>\n",
       "      <th>A</th>\n",
       "      <th>B</th>\n",
       "      <th>C</th>\n",
       "      <th>D</th>\n",
       "    </tr>\n",
       "  </thead>\n",
       "  <tbody>\n",
       "    <tr>\n",
       "      <th>2025-10-01</th>\n",
       "      <td>0</td>\n",
       "      <td>1</td>\n",
       "      <td>2</td>\n",
       "      <td>3</td>\n",
       "    </tr>\n",
       "    <tr>\n",
       "      <th>2025-10-02</th>\n",
       "      <td>4</td>\n",
       "      <td>5</td>\n",
       "      <td>6</td>\n",
       "      <td>7</td>\n",
       "    </tr>\n",
       "    <tr>\n",
       "      <th>2025-10-03</th>\n",
       "      <td>8</td>\n",
       "      <td>9</td>\n",
       "      <td>10</td>\n",
       "      <td>11</td>\n",
       "    </tr>\n",
       "    <tr>\n",
       "      <th>2025-10-04</th>\n",
       "      <td>12</td>\n",
       "      <td>13</td>\n",
       "      <td>14</td>\n",
       "      <td>15</td>\n",
       "    </tr>\n",
       "    <tr>\n",
       "      <th>2025-10-05</th>\n",
       "      <td>16</td>\n",
       "      <td>17</td>\n",
       "      <td>18</td>\n",
       "      <td>19</td>\n",
       "    </tr>\n",
       "    <tr>\n",
       "      <th>2025-10-06</th>\n",
       "      <td>20</td>\n",
       "      <td>21</td>\n",
       "      <td>22</td>\n",
       "      <td>23</td>\n",
       "    </tr>\n",
       "  </tbody>\n",
       "</table>\n",
       "</div>"
      ],
      "text/plain": [
       "             A   B   C   D\n",
       "2025-10-01   0   1   2   3\n",
       "2025-10-02   4   5   6   7\n",
       "2025-10-03   8   9  10  11\n",
       "2025-10-04  12  13  14  15\n",
       "2025-10-05  16  17  18  19\n",
       "2025-10-06  20  21  22  23"
      ]
     },
     "execution_count": 4,
     "metadata": {},
     "output_type": "execute_result"
    }
   ],
   "source": [
    "df"
   ]
  },
  {
   "cell_type": "markdown",
   "id": "64cbeacb",
   "metadata": {},
   "source": [
    "两种打印方式等价，索引是columns"
   ]
  },
  {
   "cell_type": "code",
   "execution_count": 5,
   "id": "724f21b5",
   "metadata": {},
   "outputs": [
    {
     "name": "stdout",
     "output_type": "stream",
     "text": [
      "2025-10-01     0\n",
      "2025-10-02     4\n",
      "2025-10-03     8\n",
      "2025-10-04    12\n",
      "2025-10-05    16\n",
      "2025-10-06    20\n",
      "Freq: D, Name: A, dtype: int64 2025-10-01     0\n",
      "2025-10-02     4\n",
      "2025-10-03     8\n",
      "2025-10-04    12\n",
      "2025-10-05    16\n",
      "2025-10-06    20\n",
      "Freq: D, Name: A, dtype: int64\n"
     ]
    }
   ],
   "source": [
    "print(df[\"A\"],df.A)"
   ]
  },
  {
   "cell_type": "markdown",
   "id": "b2570a88",
   "metadata": {},
   "source": [
    "切片方式的数字索引是对index的操作，左闭右开"
   ]
  },
  {
   "cell_type": "code",
   "execution_count": 8,
   "id": "3a04ae90",
   "metadata": {},
   "outputs": [
    {
     "name": "stdout",
     "output_type": "stream",
     "text": [
      "            A  B   C   D\n",
      "2025-10-01  0  1   2   3\n",
      "2025-10-02  4  5   6   7\n",
      "2025-10-03  8  9  10  11\n"
     ]
    }
   ],
   "source": [
    "print(df[0:3])"
   ]
  },
  {
   "cell_type": "markdown",
   "id": "72fa0edc",
   "metadata": {},
   "source": [
    "切片方式的标签索引也是对index进行选取，左右都是闭合的"
   ]
  },
  {
   "cell_type": "code",
   "execution_count": 9,
   "id": "f1a8c453",
   "metadata": {},
   "outputs": [
    {
     "name": "stdout",
     "output_type": "stream",
     "text": [
      "             A   B   C   D\n",
      "2025-10-04  12  13  14  15\n",
      "2025-10-05  16  17  18  19\n",
      "2025-10-06  20  21  22  23\n"
     ]
    }
   ],
   "source": [
    "print(df['20251004':'20251006'])"
   ]
  },
  {
   "cell_type": "markdown",
   "id": "55538ff1",
   "metadata": {},
   "source": [
    "选择一行，即index对应的那一行"
   ]
  },
  {
   "cell_type": "code",
   "execution_count": 12,
   "id": "bfbf2cc7",
   "metadata": {},
   "outputs": [
    {
     "name": "stdout",
     "output_type": "stream",
     "text": [
      "A    20\n",
      "B    21\n",
      "C    22\n",
      "D    23\n",
      "Name: 2025-10-06 00:00:00, dtype: int64\n"
     ]
    }
   ],
   "source": [
    "print(df.loc['20251006'])"
   ]
  },
  {
   "cell_type": "code",
   "execution_count": null,
   "id": "e707c722",
   "metadata": {},
   "outputs": [],
   "source": []
  }
 ],
 "metadata": {
  "kernelspec": {
   "display_name": "pytorch",
   "language": "python",
   "name": "python3"
  },
  "language_info": {
   "codemirror_mode": {
    "name": "ipython",
    "version": 3
   },
   "file_extension": ".py",
   "mimetype": "text/x-python",
   "name": "python",
   "nbconvert_exporter": "python",
   "pygments_lexer": "ipython3",
   "version": "3.10.18"
  }
 },
 "nbformat": 4,
 "nbformat_minor": 5
}
