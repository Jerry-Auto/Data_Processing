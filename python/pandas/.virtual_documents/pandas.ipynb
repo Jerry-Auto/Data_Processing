import pandas as pd


import numpy as np





s=pd.Series([1,3,6,np.nan,44,1])


s





s1=pd.Series(np.random.randn(3),index=np.arange(3,6))


s1





dates=pd.date_range('20250920',periods=6)


dates





df=pd.DataFrame(np.random.randn(6,4),index=dates,columns=['a','b','c','d'])


df





df1=pd.DataFrame(np.arange(12).reshape(3,4))


df1


df2=pd.DataFrame({'A':1.,
'B':pd.Timestamp('20251001'),
'C':pd.Series(1,index=list(range(4)),dtype='float32'),
'D':np.array([3]*4,dtype='int32'),
'E':pd.Categorical(["test","train","test","train"]),
'F':'foo'
                 }
)


df2



